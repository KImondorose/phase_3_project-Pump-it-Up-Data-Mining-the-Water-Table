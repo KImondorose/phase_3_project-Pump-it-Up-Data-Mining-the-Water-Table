{
 "cells": [
  {
   "cell_type": "markdown",
   "metadata": {},
   "source": [
    "# Introduction"
   ]
  },
  {
   "cell_type": "markdown",
   "metadata": {
    "vscode": {
     "languageId": "plaintext"
    }
   },
   "source": [
    "# Problem Statement"
   ]
  },
  {
   "cell_type": "markdown",
   "metadata": {},
   "source": [
    "# Objectives"
   ]
  },
  {
   "cell_type": "markdown",
   "metadata": {},
   "source": [
    "# Data Understanding \n",
    "### Limitations"
   ]
  },
  {
   "cell_type": "markdown",
   "metadata": {},
   "source": [
    "# Imports and Data Loading"
   ]
  },
  {
   "cell_type": "markdown",
   "metadata": {},
   "source": [
    "#### Imports"
   ]
  },
  {
   "cell_type": "code",
   "execution_count": 3695,
   "metadata": {},
   "outputs": [],
   "source": [
    "\n",
    "\n",
    "import warnings\n",
    "\n",
    "# Figures\n",
    "import matplotlib\n",
    "import matplotlib.pyplot as plt\n",
    "%matplotlib inline\n",
    "import seaborn as sns\n",
    "import statistics\n",
    "\n",
    "# Data\n",
    "import pandas as pd\n",
    "import numpy as np\n",
    "from operator import itemgetter\n",
    "import itertools\n",
    "from collections import defaultdict\n",
    "from datetime import datetime\n",
    "\n",
    "# Models, metrics, scalers and functionalities\n",
    "from sklearn.linear_model import LinearRegression\n",
    "from sklearn.linear_model import LogisticRegression\n",
    "from sklearn import svm\n",
    "\n",
    "from sklearn.model_selection import cross_val_score, cross_val_predict, cross_validate\n",
    "from sklearn.model_selection import GridSearchCV\n",
    "from sklearn.model_selection import RandomizedSearchCV\n",
    "\n",
    "from sklearn.metrics import confusion_matrix, accuracy_score\n",
    "\n",
    "from sklearn.preprocessing import OneHotEncoder\n",
    "from sklearn.preprocessing import StandardScaler, MinMaxScaler\n",
    "from sklearn.preprocessing import LabelEncoder\n",
    "\n",
    "from sklearn.feature_selection import SelectKBest, chi2, mutual_info_classif\n",
    "from sklearn.feature_selection import RFE, RFECV\n",
    "from sklearn.feature_selection import SelectFromModel\n",
    "\n",
    "from sklearn.neighbors import KNeighborsClassifier\n",
    "\n",
    "from sklearn.decomposition import PCA\n",
    "\n",
    "from sklearn.tree import DecisionTreeClassifier\n",
    " \n",
    "from IPython.display import Image\n",
    "from sklearn.tree import export_graphviz\n",
    "\n",
    "from sklearn.ensemble import RandomForestClassifier\n",
    "from scipy.stats import randint\n",
    "\n",
    "import xgboost\n",
    "import pandas as pd\n",
    "import numpy as np\n"
   ]
  },
  {
   "cell_type": "markdown",
   "metadata": {},
   "source": [
    "#### Data Loading"
   ]
  },
  {
   "cell_type": "code",
   "execution_count": 3696,
   "metadata": {},
   "outputs": [
    {
     "name": "stdout",
     "output_type": "stream",
     "text": [
      "(59400, 40)\n",
      "(59400, 2)\n"
     ]
    }
   ],
   "source": [
    "training_set_values = pd.read_csv(\"data/training-set-values.csv\")\n",
    "training_set_labels = pd.read_csv(\"data/training-set-labels.csv\")\n",
    "print(training_set_values.shape)\n",
    "print(training_set_labels.shape)"
   ]
  },
  {
   "cell_type": "markdown",
   "metadata": {},
   "source": [
    "Both the training labels and values csvs have 59,400 rows. We will now combine them to deal with one training dataset"
   ]
  },
  {
   "cell_type": "code",
   "execution_count": 3697,
   "metadata": {},
   "outputs": [
    {
     "data": {
      "text/html": [
       "<div>\n",
       "<style scoped>\n",
       "    .dataframe tbody tr th:only-of-type {\n",
       "        vertical-align: middle;\n",
       "    }\n",
       "\n",
       "    .dataframe tbody tr th {\n",
       "        vertical-align: top;\n",
       "    }\n",
       "\n",
       "    .dataframe thead th {\n",
       "        text-align: right;\n",
       "    }\n",
       "</style>\n",
       "<table border=\"1\" class=\"dataframe\">\n",
       "  <thead>\n",
       "    <tr style=\"text-align: right;\">\n",
       "      <th></th>\n",
       "      <th>id</th>\n",
       "      <th>amount_tsh</th>\n",
       "      <th>date_recorded</th>\n",
       "      <th>funder</th>\n",
       "      <th>gps_height</th>\n",
       "      <th>installer</th>\n",
       "      <th>longitude</th>\n",
       "      <th>latitude</th>\n",
       "      <th>wpt_name</th>\n",
       "      <th>num_private</th>\n",
       "      <th>...</th>\n",
       "      <th>water_quality</th>\n",
       "      <th>quality_group</th>\n",
       "      <th>quantity</th>\n",
       "      <th>quantity_group</th>\n",
       "      <th>source</th>\n",
       "      <th>source_type</th>\n",
       "      <th>source_class</th>\n",
       "      <th>waterpoint_type</th>\n",
       "      <th>waterpoint_type_group</th>\n",
       "      <th>status_group</th>\n",
       "    </tr>\n",
       "  </thead>\n",
       "  <tbody>\n",
       "    <tr>\n",
       "      <th>0</th>\n",
       "      <td>69572</td>\n",
       "      <td>6000.0</td>\n",
       "      <td>2011-03-14</td>\n",
       "      <td>Roman</td>\n",
       "      <td>1390</td>\n",
       "      <td>Roman</td>\n",
       "      <td>34.938093</td>\n",
       "      <td>-9.856322</td>\n",
       "      <td>none</td>\n",
       "      <td>0</td>\n",
       "      <td>...</td>\n",
       "      <td>soft</td>\n",
       "      <td>good</td>\n",
       "      <td>enough</td>\n",
       "      <td>enough</td>\n",
       "      <td>spring</td>\n",
       "      <td>spring</td>\n",
       "      <td>groundwater</td>\n",
       "      <td>communal standpipe</td>\n",
       "      <td>communal standpipe</td>\n",
       "      <td>functional</td>\n",
       "    </tr>\n",
       "    <tr>\n",
       "      <th>1</th>\n",
       "      <td>8776</td>\n",
       "      <td>0.0</td>\n",
       "      <td>2013-03-06</td>\n",
       "      <td>Grumeti</td>\n",
       "      <td>1399</td>\n",
       "      <td>GRUMETI</td>\n",
       "      <td>34.698766</td>\n",
       "      <td>-2.147466</td>\n",
       "      <td>Zahanati</td>\n",
       "      <td>0</td>\n",
       "      <td>...</td>\n",
       "      <td>soft</td>\n",
       "      <td>good</td>\n",
       "      <td>insufficient</td>\n",
       "      <td>insufficient</td>\n",
       "      <td>rainwater harvesting</td>\n",
       "      <td>rainwater harvesting</td>\n",
       "      <td>surface</td>\n",
       "      <td>communal standpipe</td>\n",
       "      <td>communal standpipe</td>\n",
       "      <td>functional</td>\n",
       "    </tr>\n",
       "    <tr>\n",
       "      <th>2</th>\n",
       "      <td>34310</td>\n",
       "      <td>25.0</td>\n",
       "      <td>2013-02-25</td>\n",
       "      <td>Lottery Club</td>\n",
       "      <td>686</td>\n",
       "      <td>World vision</td>\n",
       "      <td>37.460664</td>\n",
       "      <td>-3.821329</td>\n",
       "      <td>Kwa Mahundi</td>\n",
       "      <td>0</td>\n",
       "      <td>...</td>\n",
       "      <td>soft</td>\n",
       "      <td>good</td>\n",
       "      <td>enough</td>\n",
       "      <td>enough</td>\n",
       "      <td>dam</td>\n",
       "      <td>dam</td>\n",
       "      <td>surface</td>\n",
       "      <td>communal standpipe multiple</td>\n",
       "      <td>communal standpipe</td>\n",
       "      <td>functional</td>\n",
       "    </tr>\n",
       "    <tr>\n",
       "      <th>3</th>\n",
       "      <td>67743</td>\n",
       "      <td>0.0</td>\n",
       "      <td>2013-01-28</td>\n",
       "      <td>Unicef</td>\n",
       "      <td>263</td>\n",
       "      <td>UNICEF</td>\n",
       "      <td>38.486161</td>\n",
       "      <td>-11.155298</td>\n",
       "      <td>Zahanati Ya Nanyumbu</td>\n",
       "      <td>0</td>\n",
       "      <td>...</td>\n",
       "      <td>soft</td>\n",
       "      <td>good</td>\n",
       "      <td>dry</td>\n",
       "      <td>dry</td>\n",
       "      <td>machine dbh</td>\n",
       "      <td>borehole</td>\n",
       "      <td>groundwater</td>\n",
       "      <td>communal standpipe multiple</td>\n",
       "      <td>communal standpipe</td>\n",
       "      <td>non functional</td>\n",
       "    </tr>\n",
       "    <tr>\n",
       "      <th>4</th>\n",
       "      <td>19728</td>\n",
       "      <td>0.0</td>\n",
       "      <td>2011-07-13</td>\n",
       "      <td>Action In A</td>\n",
       "      <td>0</td>\n",
       "      <td>Artisan</td>\n",
       "      <td>31.130847</td>\n",
       "      <td>-1.825359</td>\n",
       "      <td>Shuleni</td>\n",
       "      <td>0</td>\n",
       "      <td>...</td>\n",
       "      <td>soft</td>\n",
       "      <td>good</td>\n",
       "      <td>seasonal</td>\n",
       "      <td>seasonal</td>\n",
       "      <td>rainwater harvesting</td>\n",
       "      <td>rainwater harvesting</td>\n",
       "      <td>surface</td>\n",
       "      <td>communal standpipe</td>\n",
       "      <td>communal standpipe</td>\n",
       "      <td>functional</td>\n",
       "    </tr>\n",
       "  </tbody>\n",
       "</table>\n",
       "<p>5 rows × 41 columns</p>\n",
       "</div>"
      ],
      "text/plain": [
       "      id  amount_tsh date_recorded        funder  gps_height     installer  \\\n",
       "0  69572      6000.0    2011-03-14         Roman        1390         Roman   \n",
       "1   8776         0.0    2013-03-06       Grumeti        1399       GRUMETI   \n",
       "2  34310        25.0    2013-02-25  Lottery Club         686  World vision   \n",
       "3  67743         0.0    2013-01-28        Unicef         263        UNICEF   \n",
       "4  19728         0.0    2011-07-13   Action In A           0       Artisan   \n",
       "\n",
       "   longitude   latitude              wpt_name  num_private  ... water_quality  \\\n",
       "0  34.938093  -9.856322                  none            0  ...          soft   \n",
       "1  34.698766  -2.147466              Zahanati            0  ...          soft   \n",
       "2  37.460664  -3.821329           Kwa Mahundi            0  ...          soft   \n",
       "3  38.486161 -11.155298  Zahanati Ya Nanyumbu            0  ...          soft   \n",
       "4  31.130847  -1.825359               Shuleni            0  ...          soft   \n",
       "\n",
       "  quality_group      quantity  quantity_group                source  \\\n",
       "0          good        enough          enough                spring   \n",
       "1          good  insufficient    insufficient  rainwater harvesting   \n",
       "2          good        enough          enough                   dam   \n",
       "3          good           dry             dry           machine dbh   \n",
       "4          good      seasonal        seasonal  rainwater harvesting   \n",
       "\n",
       "            source_type source_class              waterpoint_type  \\\n",
       "0                spring  groundwater           communal standpipe   \n",
       "1  rainwater harvesting      surface           communal standpipe   \n",
       "2                   dam      surface  communal standpipe multiple   \n",
       "3              borehole  groundwater  communal standpipe multiple   \n",
       "4  rainwater harvesting      surface           communal standpipe   \n",
       "\n",
       "  waterpoint_type_group    status_group  \n",
       "0    communal standpipe      functional  \n",
       "1    communal standpipe      functional  \n",
       "2    communal standpipe      functional  \n",
       "3    communal standpipe  non functional  \n",
       "4    communal standpipe      functional  \n",
       "\n",
       "[5 rows x 41 columns]"
      ]
     },
     "execution_count": 3697,
     "metadata": {},
     "output_type": "execute_result"
    }
   ],
   "source": [
    "training_data = training_set_values.merge(training_set_labels, on='id')\n",
    "training_data.head()"
   ]
  },
  {
   "cell_type": "markdown",
   "metadata": {},
   "source": [
    "# EDA and Feature Exploration"
   ]
  },
  {
   "cell_type": "code",
   "execution_count": 3698,
   "metadata": {},
   "outputs": [
    {
     "data": {
      "text/plain": [
       "(59400, 41)"
      ]
     },
     "execution_count": 3698,
     "metadata": {},
     "output_type": "execute_result"
    }
   ],
   "source": [
    "training_data.shape"
   ]
  },
  {
   "cell_type": "markdown",
   "metadata": {},
   "source": [
    "We now have one dataframe with 59,400 rows and 41 columns, with the 41st column being the status_group column"
   ]
  },
  {
   "cell_type": "code",
   "execution_count": 3699,
   "metadata": {},
   "outputs": [
    {
     "name": "stdout",
     "output_type": "stream",
     "text": [
      "<class 'pandas.core.frame.DataFrame'>\n",
      "Int64Index: 59400 entries, 0 to 59399\n",
      "Data columns (total 41 columns):\n",
      " #   Column                 Non-Null Count  Dtype  \n",
      "---  ------                 --------------  -----  \n",
      " 0   id                     59400 non-null  int64  \n",
      " 1   amount_tsh             59400 non-null  float64\n",
      " 2   date_recorded          59400 non-null  object \n",
      " 3   funder                 55765 non-null  object \n",
      " 4   gps_height             59400 non-null  int64  \n",
      " 5   installer              55745 non-null  object \n",
      " 6   longitude              59400 non-null  float64\n",
      " 7   latitude               59400 non-null  float64\n",
      " 8   wpt_name               59400 non-null  object \n",
      " 9   num_private            59400 non-null  int64  \n",
      " 10  basin                  59400 non-null  object \n",
      " 11  subvillage             59029 non-null  object \n",
      " 12  region                 59400 non-null  object \n",
      " 13  region_code            59400 non-null  int64  \n",
      " 14  district_code          59400 non-null  int64  \n",
      " 15  lga                    59400 non-null  object \n",
      " 16  ward                   59400 non-null  object \n",
      " 17  population             59400 non-null  int64  \n",
      " 18  public_meeting         56066 non-null  object \n",
      " 19  recorded_by            59400 non-null  object \n",
      " 20  scheme_management      55523 non-null  object \n",
      " 21  scheme_name            31234 non-null  object \n",
      " 22  permit                 56344 non-null  object \n",
      " 23  construction_year      59400 non-null  int64  \n",
      " 24  extraction_type        59400 non-null  object \n",
      " 25  extraction_type_group  59400 non-null  object \n",
      " 26  extraction_type_class  59400 non-null  object \n",
      " 27  management             59400 non-null  object \n",
      " 28  management_group       59400 non-null  object \n",
      " 29  payment                59400 non-null  object \n",
      " 30  payment_type           59400 non-null  object \n",
      " 31  water_quality          59400 non-null  object \n",
      " 32  quality_group          59400 non-null  object \n",
      " 33  quantity               59400 non-null  object \n",
      " 34  quantity_group         59400 non-null  object \n",
      " 35  source                 59400 non-null  object \n",
      " 36  source_type            59400 non-null  object \n",
      " 37  source_class           59400 non-null  object \n",
      " 38  waterpoint_type        59400 non-null  object \n",
      " 39  waterpoint_type_group  59400 non-null  object \n",
      " 40  status_group           59400 non-null  object \n",
      "dtypes: float64(3), int64(7), object(31)\n",
      "memory usage: 19.0+ MB\n"
     ]
    }
   ],
   "source": [
    "training_data.info()"
   ]
  },
  {
   "cell_type": "code",
   "execution_count": 3700,
   "metadata": {},
   "outputs": [
    {
     "data": {
      "text/plain": [
       "Index(['id', 'amount_tsh', 'date_recorded', 'funder', 'gps_height',\n",
       "       'installer', 'longitude', 'latitude', 'wpt_name', 'num_private',\n",
       "       'basin', 'subvillage', 'region', 'region_code', 'district_code', 'lga',\n",
       "       'ward', 'population', 'public_meeting', 'recorded_by',\n",
       "       'scheme_management', 'scheme_name', 'permit', 'construction_year',\n",
       "       'extraction_type', 'extraction_type_group', 'extraction_type_class',\n",
       "       'management', 'management_group', 'payment', 'payment_type',\n",
       "       'water_quality', 'quality_group', 'quantity', 'quantity_group',\n",
       "       'source', 'source_type', 'source_class', 'waterpoint_type',\n",
       "       'waterpoint_type_group', 'status_group'],\n",
       "      dtype='object')"
      ]
     },
     "execution_count": 3700,
     "metadata": {},
     "output_type": "execute_result"
    }
   ],
   "source": [
    "training_data.columns"
   ]
  },
  {
   "cell_type": "markdown",
   "metadata": {},
   "source": [
    "These are all the columns and their descriptions:\n",
    "- **amount_tsh** - Total static head (amount water available to waterpoint)\n",
    "- **date_recorded** - The date the row was entered\n",
    "- **funder** - Who funded the well\n",
    "- **gps_height** - Altitude of the well\n",
    "- **installer** - Organization that installed the well\n",
    "- **longitude** - GPS coordinate\n",
    "- **latitude** - GPS coordinate\n",
    "- **wpt_name** - Name of the waterpoint if there is one\n",
    "- **num_private** -\n",
    "- **basin** - Geographic water basin\n",
    "- **subvillage** - Geographic location\n",
    "- **region** - Geographic location\n",
    "- **region_code** - Geographic location (coded)\n",
    "- **district_code** - Geographic location (coded)\n",
    "- **lga** - Geographic location\n",
    "- **ward** - Geographic location\n",
    "- **population** - Population around the well\n",
    "- **public_meeting** - True/False\n",
    "- **recorded_by** - Group entering this row of data\n",
    "- **scheme_management** - Who operates the waterpoint\n",
    "- **scheme_name** - Who operates the waterpoint\n",
    "- **permit** - If the waterpoint is permitted\n",
    "- **construction_year** - Year the waterpoint was constructed\n",
    "- **extraction_type** - The kind of extraction the waterpoint uses\n",
    "- **extraction_type_group** - The kind of extraction the waterpoint uses\n",
    "- **extraction_type_class** - The kind of extraction the waterpoint uses\n",
    "- **management** - How the waterpoint is managed\n",
    "- **management_group** - How the waterpoint is managed\n",
    "- **payment** - What the water costs\n",
    "- **payment_type** - What the water costs\n",
    "- **water_quality** - The quality of the water\n",
    "- **quality_group** - The quality of the water\n",
    "- **quantity** - The quantity of water\n",
    "- **quantity_group** - The quantity of water\n",
    "- **source** - The source of the water\n",
    "- **source_type** - The source of the water\n",
    "- **source_class** - The source of the water\n",
    "- **waterpoint_type** - The kind of waterpoint\n",
    "- **waterpoint_type_group** - The kind of waterpoint\n",
    "- **status_group** - The labels in this dataset with three possible values: functional, non-functional, and functional needs repair"
   ]
  },
  {
   "cell_type": "code",
   "execution_count": 3701,
   "metadata": {},
   "outputs": [
    {
     "data": {
      "text/plain": [
       "id                           0\n",
       "amount_tsh                   0\n",
       "date_recorded                0\n",
       "funder                    3635\n",
       "gps_height                   0\n",
       "installer                 3655\n",
       "longitude                    0\n",
       "latitude                     0\n",
       "wpt_name                     0\n",
       "num_private                  0\n",
       "basin                        0\n",
       "subvillage                 371\n",
       "region                       0\n",
       "region_code                  0\n",
       "district_code                0\n",
       "lga                          0\n",
       "ward                         0\n",
       "population                   0\n",
       "public_meeting            3334\n",
       "recorded_by                  0\n",
       "scheme_management         3877\n",
       "scheme_name              28166\n",
       "permit                    3056\n",
       "construction_year            0\n",
       "extraction_type              0\n",
       "extraction_type_group        0\n",
       "extraction_type_class        0\n",
       "management                   0\n",
       "management_group             0\n",
       "payment                      0\n",
       "payment_type                 0\n",
       "water_quality                0\n",
       "quality_group                0\n",
       "quantity                     0\n",
       "quantity_group               0\n",
       "source                       0\n",
       "source_type                  0\n",
       "source_class                 0\n",
       "waterpoint_type              0\n",
       "waterpoint_type_group        0\n",
       "status_group                 0\n",
       "dtype: int64"
      ]
     },
     "execution_count": 3701,
     "metadata": {},
     "output_type": "execute_result"
    }
   ],
   "source": [
    "training_data.isna().sum() # to see the null values"
   ]
  },
  {
   "cell_type": "markdown",
   "metadata": {},
   "source": [
    "The columns with missing values are:<br>\n",
    "Funder : 3635  \n",
    "Installer: 3635  \n",
    "Subvillage: 371  \n",
    "Public meeting: 3334  \n",
    "scheme_management:3877  \n",
    "scheme_name: 28166  \n",
    "permit: 3056"
   ]
  },
  {
   "cell_type": "markdown",
   "metadata": {},
   "source": [
    "There are some columns which contain null and the same information in the data set. "
   ]
  },
  {
   "cell_type": "markdown",
   "metadata": {},
   "source": [
    "Now, we will drop one for each because the same values or dublicated values do not affect our target, and when we simplify our data we can run our models easier. These are `management and scheme_management`, `payment and payment type`, `quantity and quantity group`, `waterpoint_type and waterpoint_type_group`, `extraction_type, extration_type_class, and extraction_type_group`, `source, source_type, and source_class`, `water_quality and quality_group`  Let's assess them to confirm."
   ]
  },
  {
   "cell_type": "markdown",
   "metadata": {},
   "source": [
    "## Dealing with columns that have the same information"
   ]
  },
  {
   "cell_type": "markdown",
   "metadata": {},
   "source": [
    "##### Management and Scheme_management"
   ]
  },
  {
   "cell_type": "code",
   "execution_count": 3702,
   "metadata": {},
   "outputs": [
    {
     "name": "stdout",
     "output_type": "stream",
     "text": [
      "vwc                 40507\n",
      "wug                  6515\n",
      "water board          2933\n",
      "wua                  2535\n",
      "private operator     1971\n",
      "parastatal           1768\n",
      "water authority       904\n",
      "other                 844\n",
      "company               685\n",
      "unknown               561\n",
      "other - school         99\n",
      "trust                  78\n",
      "Name: management, dtype: int64\n",
      "---------------------------------\n",
      "VWC                 36793\n",
      "WUG                  5206\n",
      "Water authority      3153\n",
      "WUA                  2883\n",
      "Water Board          2748\n",
      "Parastatal           1680\n",
      "Private operator     1063\n",
      "Company              1061\n",
      "Other                 766\n",
      "SWC                    97\n",
      "Trust                  72\n",
      "None                    1\n",
      "Name: scheme_management, dtype: int64\n"
     ]
    }
   ],
   "source": [
    "print(training_data.management.value_counts())\n",
    "print(\"---------------------------------\")\n",
    "print(training_data.scheme_management.value_counts())"
   ]
  },
  {
   "cell_type": "markdown",
   "metadata": {},
   "source": [
    "These two columns has nearly same information. Scheme_management represents who operates the water point, 'management' represents how the water point is managed. There are 3877 null values in 'scheme_management' column so we prefer to keep the 'management' column. "
   ]
  },
  {
   "cell_type": "code",
   "execution_count": 3703,
   "metadata": {},
   "outputs": [],
   "source": [
    "training_data.drop('scheme_management', axis=1, inplace=True)"
   ]
  },
  {
   "cell_type": "markdown",
   "metadata": {},
   "source": [
    "##### Payment and Payment type"
   ]
  },
  {
   "cell_type": "code",
   "execution_count": 3704,
   "metadata": {},
   "outputs": [
    {
     "name": "stdout",
     "output_type": "stream",
     "text": [
      "never pay                25348\n",
      "pay per bucket            8985\n",
      "pay monthly               8300\n",
      "unknown                   8157\n",
      "pay when scheme fails     3914\n",
      "pay annually              3642\n",
      "other                     1054\n",
      "Name: payment, dtype: int64\n",
      "---------------------------------\n",
      "never pay     25348\n",
      "per bucket     8985\n",
      "monthly        8300\n",
      "unknown        8157\n",
      "on failure     3914\n",
      "annually       3642\n",
      "other          1054\n",
      "Name: payment_type, dtype: int64\n"
     ]
    }
   ],
   "source": [
    "# Looking at payment and payment_type\n",
    "print(training_data.payment.value_counts())\n",
    "print(\"---------------------------------\")\n",
    "print(training_data.payment_type.value_counts())"
   ]
  },
  {
   "cell_type": "markdown",
   "metadata": {},
   "source": [
    "These two columns have the same exact information, but `payment` has more details on the column naming, so we will keep it and drop`payment_type`"
   ]
  },
  {
   "cell_type": "code",
   "execution_count": 3705,
   "metadata": {},
   "outputs": [],
   "source": [
    "training_data.drop('payment_type', axis=1, inplace=True)"
   ]
  },
  {
   "cell_type": "markdown",
   "metadata": {},
   "source": [
    "##### Quantity and Quantity_Group"
   ]
  },
  {
   "cell_type": "code",
   "execution_count": 3706,
   "metadata": {},
   "outputs": [
    {
     "name": "stdout",
     "output_type": "stream",
     "text": [
      "enough          33186\n",
      "insufficient    15129\n",
      "dry              6246\n",
      "seasonal         4050\n",
      "unknown           789\n",
      "Name: quantity, dtype: int64\n",
      "---------------------------------\n",
      "enough          33186\n",
      "insufficient    15129\n",
      "dry              6246\n",
      "seasonal         4050\n",
      "unknown           789\n",
      "Name: quantity_group, dtype: int64\n"
     ]
    }
   ],
   "source": [
    "# Looking at `quantity and quantity group`\n",
    "print(training_data.quantity.value_counts())\n",
    "print(\"---------------------------------\")\n",
    "print(training_data.quantity_group.value_counts())"
   ]
  },
  {
   "cell_type": "markdown",
   "metadata": {},
   "source": [
    "These have the same exact information, so we can drop either"
   ]
  },
  {
   "cell_type": "code",
   "execution_count": 3707,
   "metadata": {},
   "outputs": [],
   "source": [
    "training_data.drop('quantity_group', axis=1, inplace=True)"
   ]
  },
  {
   "cell_type": "markdown",
   "metadata": {},
   "source": [
    "##### Waterpoint Type and Waterpoint_type_group"
   ]
  },
  {
   "cell_type": "code",
   "execution_count": 3708,
   "metadata": {},
   "outputs": [
    {
     "name": "stdout",
     "output_type": "stream",
     "text": [
      "communal standpipe             28522\n",
      "hand pump                      17488\n",
      "other                           6380\n",
      "communal standpipe multiple     6103\n",
      "improved spring                  784\n",
      "cattle trough                    116\n",
      "dam                                7\n",
      "Name: waterpoint_type, dtype: int64\n",
      "---------------------------------\n",
      "communal standpipe    34625\n",
      "hand pump             17488\n",
      "other                  6380\n",
      "improved spring         784\n",
      "cattle trough           116\n",
      "dam                       7\n",
      "Name: waterpoint_type_group, dtype: int64\n"
     ]
    }
   ],
   "source": [
    "# Looking at the waterpoint_type and waterpoint_type_group columns\n",
    "print(training_data.waterpoint_type.value_counts())\n",
    "print(\"---------------------------------\")\n",
    "print(training_data.waterpoint_type_group.value_counts())"
   ]
  },
  {
   "cell_type": "markdown",
   "metadata": {},
   "source": [
    "`Waterpoint_type` has more information and distribution, so we will keep it and drop `waterpoint_type_group`"
   ]
  },
  {
   "cell_type": "code",
   "execution_count": 3709,
   "metadata": {},
   "outputs": [],
   "source": [
    "training_data.drop(columns = 'waterpoint_type_group', axis=1, inplace=True)"
   ]
  },
  {
   "cell_type": "markdown",
   "metadata": {},
   "source": [
    "##### Extraction_type, Extraction_type_class and Extraction_type_group columns"
   ]
  },
  {
   "cell_type": "code",
   "execution_count": 3710,
   "metadata": {},
   "outputs": [
    {
     "name": "stdout",
     "output_type": "stream",
     "text": [
      "gravity                      26780\n",
      "nira/tanira                   8154\n",
      "other                         6430\n",
      "submersible                   4764\n",
      "swn 80                        3670\n",
      "mono                          2865\n",
      "india mark ii                 2400\n",
      "afridev                       1770\n",
      "ksb                           1415\n",
      "other - rope pump              451\n",
      "other - swn 81                 229\n",
      "windmill                       117\n",
      "india mark iii                  98\n",
      "cemo                            90\n",
      "other - play pump               85\n",
      "walimi                          48\n",
      "climax                          32\n",
      "other - mkulima/shinyanga        2\n",
      "Name: extraction_type, dtype: int64\n"
     ]
    }
   ],
   "source": [
    "# Let's look at the extraction_type, extraction_type_class and extraction_type_group columns\n",
    "print(training_data.extraction_type.value_counts())"
   ]
  },
  {
   "cell_type": "code",
   "execution_count": 3711,
   "metadata": {},
   "outputs": [
    {
     "name": "stdout",
     "output_type": "stream",
     "text": [
      "gravity            26780\n",
      "nira/tanira         8154\n",
      "other               6430\n",
      "submersible         6179\n",
      "swn 80              3670\n",
      "mono                2865\n",
      "india mark ii       2400\n",
      "afridev             1770\n",
      "rope pump            451\n",
      "other handpump       364\n",
      "other motorpump      122\n",
      "wind-powered         117\n",
      "india mark iii        98\n",
      "Name: extraction_type_group, dtype: int64\n"
     ]
    }
   ],
   "source": [
    "print(training_data.extraction_type_group.value_counts())"
   ]
  },
  {
   "cell_type": "code",
   "execution_count": 3712,
   "metadata": {},
   "outputs": [
    {
     "name": "stdout",
     "output_type": "stream",
     "text": [
      "gravity         26780\n",
      "handpump        16456\n",
      "other            6430\n",
      "submersible      6179\n",
      "motorpump        2987\n",
      "rope pump         451\n",
      "wind-powered      117\n",
      "Name: extraction_type_class, dtype: int64\n"
     ]
    }
   ],
   "source": [
    "print(training_data.extraction_type_class.value_counts())"
   ]
  },
  {
   "cell_type": "markdown",
   "metadata": {},
   "source": [
    "`extraction_type_class` is an even further simplification of `extraction_type`. Since it is the simplest feature of the three, this is the one selected for use, and the handling of category level other will take place after dummification."
   ]
  },
  {
   "cell_type": "code",
   "execution_count": 3713,
   "metadata": {},
   "outputs": [],
   "source": [
    "training_data.drop('extraction_type_group', axis=1, inplace=True)"
   ]
  },
  {
   "cell_type": "code",
   "execution_count": 3714,
   "metadata": {},
   "outputs": [],
   "source": [
    "training_data.drop('extraction_type', axis=1, inplace=True)"
   ]
  },
  {
   "cell_type": "markdown",
   "metadata": {},
   "source": [
    "##### Source, Source_type_and Source_class"
   ]
  },
  {
   "cell_type": "code",
   "execution_count": 3715,
   "metadata": {},
   "outputs": [
    {
     "name": "stdout",
     "output_type": "stream",
     "text": [
      "spring                  17021\n",
      "shallow well            16824\n",
      "machine dbh             11075\n",
      "river                    9612\n",
      "rainwater harvesting     2295\n",
      "hand dtw                  874\n",
      "lake                      765\n",
      "dam                       656\n",
      "other                     212\n",
      "unknown                    66\n",
      "Name: source, dtype: int64\n"
     ]
    }
   ],
   "source": [
    "# Let's assess the source, source_type_and source_class columns\n",
    "# SOURCE\n",
    "print(training_data.source.value_counts())"
   ]
  },
  {
   "cell_type": "code",
   "execution_count": 3716,
   "metadata": {},
   "outputs": [
    {
     "name": "stdout",
     "output_type": "stream",
     "text": [
      "spring                  17021\n",
      "shallow well            16824\n",
      "borehole                11949\n",
      "river/lake              10377\n",
      "rainwater harvesting     2295\n",
      "dam                       656\n",
      "other                     278\n",
      "Name: source_type, dtype: int64\n"
     ]
    }
   ],
   "source": [
    "# SOURCE TYPE\n",
    "print(training_data.source_type.value_counts())"
   ]
  },
  {
   "cell_type": "code",
   "execution_count": 3717,
   "metadata": {},
   "outputs": [
    {
     "name": "stdout",
     "output_type": "stream",
     "text": [
      "groundwater    45794\n",
      "surface        13328\n",
      "unknown          278\n",
      "Name: source_class, dtype: int64\n"
     ]
    }
   ],
   "source": [
    "# SOURCE CLASS\n",
    "print(training_data.source_class.value_counts())"
   ]
  },
  {
   "cell_type": "markdown",
   "metadata": {},
   "source": [
    "It is obvious that these columns have the same information. We will keep the `source` column and drop the rest since it has more information"
   ]
  },
  {
   "cell_type": "code",
   "execution_count": 3718,
   "metadata": {},
   "outputs": [],
   "source": [
    "training_data.drop('source_type', axis=1, inplace=True)"
   ]
  },
  {
   "cell_type": "code",
   "execution_count": 3719,
   "metadata": {},
   "outputs": [],
   "source": [
    "training_data.drop('source_class', axis=1, inplace=True)"
   ]
  },
  {
   "cell_type": "markdown",
   "metadata": {},
   "source": [
    "##### Water_quality and Quality_group"
   ]
  },
  {
   "cell_type": "code",
   "execution_count": 3720,
   "metadata": {},
   "outputs": [
    {
     "name": "stdout",
     "output_type": "stream",
     "text": [
      "soft                  50818\n",
      "salty                  4856\n",
      "unknown                1876\n",
      "milky                   804\n",
      "coloured                490\n",
      "salty abandoned         339\n",
      "fluoride                200\n",
      "fluoride abandoned       17\n",
      "Name: water_quality, dtype: int64\n",
      "---------------------------------\n",
      "good        50818\n",
      "salty        5195\n",
      "unknown      1876\n",
      "milky         804\n",
      "colored       490\n",
      "fluoride      217\n",
      "Name: quality_group, dtype: int64\n"
     ]
    }
   ],
   "source": [
    "# Looking at the water_quality and quality_group columns\n",
    "print(training_data.water_quality.value_counts())\n",
    "print(\"---------------------------------\")\n",
    "print(training_data.quality_group.value_counts())"
   ]
  },
  {
   "cell_type": "markdown",
   "metadata": {},
   "source": [
    "Since `water_quality` has more information, we will keep it and drop `quality _group`"
   ]
  },
  {
   "cell_type": "code",
   "execution_count": 3721,
   "metadata": {},
   "outputs": [],
   "source": [
    "training_data.drop('quality_group', axis=1, inplace=True)"
   ]
  },
  {
   "cell_type": "code",
   "execution_count": 3722,
   "metadata": {},
   "outputs": [
    {
     "data": {
      "text/plain": [
       "Index(['id', 'amount_tsh', 'date_recorded', 'funder', 'gps_height',\n",
       "       'installer', 'longitude', 'latitude', 'wpt_name', 'num_private',\n",
       "       'basin', 'subvillage', 'region', 'region_code', 'district_code', 'lga',\n",
       "       'ward', 'population', 'public_meeting', 'recorded_by', 'scheme_name',\n",
       "       'permit', 'construction_year', 'extraction_type_class', 'management',\n",
       "       'management_group', 'payment', 'water_quality', 'quantity', 'source',\n",
       "       'waterpoint_type', 'status_group'],\n",
       "      dtype='object')"
      ]
     },
     "execution_count": 3722,
     "metadata": {},
     "output_type": "execute_result"
    }
   ],
   "source": [
    "# Let's look at our new data\n",
    "training_data.columns"
   ]
  },
  {
   "cell_type": "code",
   "execution_count": 3723,
   "metadata": {},
   "outputs": [
    {
     "data": {
      "text/html": [
       "<div>\n",
       "<style scoped>\n",
       "    .dataframe tbody tr th:only-of-type {\n",
       "        vertical-align: middle;\n",
       "    }\n",
       "\n",
       "    .dataframe tbody tr th {\n",
       "        vertical-align: top;\n",
       "    }\n",
       "\n",
       "    .dataframe thead th {\n",
       "        text-align: right;\n",
       "    }\n",
       "</style>\n",
       "<table border=\"1\" class=\"dataframe\">\n",
       "  <thead>\n",
       "    <tr style=\"text-align: right;\">\n",
       "      <th></th>\n",
       "      <th>id</th>\n",
       "      <th>amount_tsh</th>\n",
       "      <th>date_recorded</th>\n",
       "      <th>funder</th>\n",
       "      <th>gps_height</th>\n",
       "      <th>installer</th>\n",
       "      <th>longitude</th>\n",
       "      <th>latitude</th>\n",
       "      <th>wpt_name</th>\n",
       "      <th>num_private</th>\n",
       "      <th>...</th>\n",
       "      <th>construction_year</th>\n",
       "      <th>extraction_type_class</th>\n",
       "      <th>management</th>\n",
       "      <th>management_group</th>\n",
       "      <th>payment</th>\n",
       "      <th>water_quality</th>\n",
       "      <th>quantity</th>\n",
       "      <th>source</th>\n",
       "      <th>waterpoint_type</th>\n",
       "      <th>status_group</th>\n",
       "    </tr>\n",
       "  </thead>\n",
       "  <tbody>\n",
       "    <tr>\n",
       "      <th>0</th>\n",
       "      <td>69572</td>\n",
       "      <td>6000.0</td>\n",
       "      <td>2011-03-14</td>\n",
       "      <td>Roman</td>\n",
       "      <td>1390</td>\n",
       "      <td>Roman</td>\n",
       "      <td>34.938093</td>\n",
       "      <td>-9.856322</td>\n",
       "      <td>none</td>\n",
       "      <td>0</td>\n",
       "      <td>...</td>\n",
       "      <td>1999</td>\n",
       "      <td>gravity</td>\n",
       "      <td>vwc</td>\n",
       "      <td>user-group</td>\n",
       "      <td>pay annually</td>\n",
       "      <td>soft</td>\n",
       "      <td>enough</td>\n",
       "      <td>spring</td>\n",
       "      <td>communal standpipe</td>\n",
       "      <td>functional</td>\n",
       "    </tr>\n",
       "    <tr>\n",
       "      <th>1</th>\n",
       "      <td>8776</td>\n",
       "      <td>0.0</td>\n",
       "      <td>2013-03-06</td>\n",
       "      <td>Grumeti</td>\n",
       "      <td>1399</td>\n",
       "      <td>GRUMETI</td>\n",
       "      <td>34.698766</td>\n",
       "      <td>-2.147466</td>\n",
       "      <td>Zahanati</td>\n",
       "      <td>0</td>\n",
       "      <td>...</td>\n",
       "      <td>2010</td>\n",
       "      <td>gravity</td>\n",
       "      <td>wug</td>\n",
       "      <td>user-group</td>\n",
       "      <td>never pay</td>\n",
       "      <td>soft</td>\n",
       "      <td>insufficient</td>\n",
       "      <td>rainwater harvesting</td>\n",
       "      <td>communal standpipe</td>\n",
       "      <td>functional</td>\n",
       "    </tr>\n",
       "    <tr>\n",
       "      <th>2</th>\n",
       "      <td>34310</td>\n",
       "      <td>25.0</td>\n",
       "      <td>2013-02-25</td>\n",
       "      <td>Lottery Club</td>\n",
       "      <td>686</td>\n",
       "      <td>World vision</td>\n",
       "      <td>37.460664</td>\n",
       "      <td>-3.821329</td>\n",
       "      <td>Kwa Mahundi</td>\n",
       "      <td>0</td>\n",
       "      <td>...</td>\n",
       "      <td>2009</td>\n",
       "      <td>gravity</td>\n",
       "      <td>vwc</td>\n",
       "      <td>user-group</td>\n",
       "      <td>pay per bucket</td>\n",
       "      <td>soft</td>\n",
       "      <td>enough</td>\n",
       "      <td>dam</td>\n",
       "      <td>communal standpipe multiple</td>\n",
       "      <td>functional</td>\n",
       "    </tr>\n",
       "    <tr>\n",
       "      <th>3</th>\n",
       "      <td>67743</td>\n",
       "      <td>0.0</td>\n",
       "      <td>2013-01-28</td>\n",
       "      <td>Unicef</td>\n",
       "      <td>263</td>\n",
       "      <td>UNICEF</td>\n",
       "      <td>38.486161</td>\n",
       "      <td>-11.155298</td>\n",
       "      <td>Zahanati Ya Nanyumbu</td>\n",
       "      <td>0</td>\n",
       "      <td>...</td>\n",
       "      <td>1986</td>\n",
       "      <td>submersible</td>\n",
       "      <td>vwc</td>\n",
       "      <td>user-group</td>\n",
       "      <td>never pay</td>\n",
       "      <td>soft</td>\n",
       "      <td>dry</td>\n",
       "      <td>machine dbh</td>\n",
       "      <td>communal standpipe multiple</td>\n",
       "      <td>non functional</td>\n",
       "    </tr>\n",
       "    <tr>\n",
       "      <th>4</th>\n",
       "      <td>19728</td>\n",
       "      <td>0.0</td>\n",
       "      <td>2011-07-13</td>\n",
       "      <td>Action In A</td>\n",
       "      <td>0</td>\n",
       "      <td>Artisan</td>\n",
       "      <td>31.130847</td>\n",
       "      <td>-1.825359</td>\n",
       "      <td>Shuleni</td>\n",
       "      <td>0</td>\n",
       "      <td>...</td>\n",
       "      <td>0</td>\n",
       "      <td>gravity</td>\n",
       "      <td>other</td>\n",
       "      <td>other</td>\n",
       "      <td>never pay</td>\n",
       "      <td>soft</td>\n",
       "      <td>seasonal</td>\n",
       "      <td>rainwater harvesting</td>\n",
       "      <td>communal standpipe</td>\n",
       "      <td>functional</td>\n",
       "    </tr>\n",
       "  </tbody>\n",
       "</table>\n",
       "<p>5 rows × 32 columns</p>\n",
       "</div>"
      ],
      "text/plain": [
       "      id  amount_tsh date_recorded        funder  gps_height     installer  \\\n",
       "0  69572      6000.0    2011-03-14         Roman        1390         Roman   \n",
       "1   8776         0.0    2013-03-06       Grumeti        1399       GRUMETI   \n",
       "2  34310        25.0    2013-02-25  Lottery Club         686  World vision   \n",
       "3  67743         0.0    2013-01-28        Unicef         263        UNICEF   \n",
       "4  19728         0.0    2011-07-13   Action In A           0       Artisan   \n",
       "\n",
       "   longitude   latitude              wpt_name  num_private  ...  \\\n",
       "0  34.938093  -9.856322                  none            0  ...   \n",
       "1  34.698766  -2.147466              Zahanati            0  ...   \n",
       "2  37.460664  -3.821329           Kwa Mahundi            0  ...   \n",
       "3  38.486161 -11.155298  Zahanati Ya Nanyumbu            0  ...   \n",
       "4  31.130847  -1.825359               Shuleni            0  ...   \n",
       "\n",
       "  construction_year extraction_type_class management  management_group  \\\n",
       "0              1999               gravity        vwc        user-group   \n",
       "1              2010               gravity        wug        user-group   \n",
       "2              2009               gravity        vwc        user-group   \n",
       "3              1986           submersible        vwc        user-group   \n",
       "4                 0               gravity      other             other   \n",
       "\n",
       "          payment water_quality      quantity                source  \\\n",
       "0    pay annually          soft        enough                spring   \n",
       "1       never pay          soft  insufficient  rainwater harvesting   \n",
       "2  pay per bucket          soft        enough                   dam   \n",
       "3       never pay          soft           dry           machine dbh   \n",
       "4       never pay          soft      seasonal  rainwater harvesting   \n",
       "\n",
       "               waterpoint_type    status_group  \n",
       "0           communal standpipe      functional  \n",
       "1           communal standpipe      functional  \n",
       "2  communal standpipe multiple      functional  \n",
       "3  communal standpipe multiple  non functional  \n",
       "4           communal standpipe      functional  \n",
       "\n",
       "[5 rows x 32 columns]"
      ]
     },
     "execution_count": 3723,
     "metadata": {},
     "output_type": "execute_result"
    }
   ],
   "source": [
    "training_data.head()"
   ]
  },
  {
   "cell_type": "markdown",
   "metadata": {},
   "source": [
    "##### Conclusion from dealing with columns that have similar data"
   ]
  },
  {
   "cell_type": "markdown",
   "metadata": {},
   "source": [
    "We dropped the following columns in favor of those with more robust data:\n",
    "- `scheme_management`, `payment_type`, `quantity_group`, `waterpoint_type_group`, `extraction_type`, `extration_type_group`, `source_type`, `source_class`, `quality_group`  \n",
    "\n",
    "The kept columns are:\n",
    "- `management`, `payment`, `quantity`, `waterpoint`, `extraction_type_class`, `source`, `water_quality`"
   ]
  },
  {
   "cell_type": "markdown",
   "metadata": {},
   "source": [
    "## Dealing with Null Values"
   ]
  },
  {
   "cell_type": "code",
   "execution_count": 3724,
   "metadata": {},
   "outputs": [
    {
     "data": {
      "text/plain": [
       "id                           0\n",
       "amount_tsh                   0\n",
       "date_recorded                0\n",
       "funder                    3635\n",
       "gps_height                   0\n",
       "installer                 3655\n",
       "longitude                    0\n",
       "latitude                     0\n",
       "wpt_name                     0\n",
       "num_private                  0\n",
       "basin                        0\n",
       "subvillage                 371\n",
       "region                       0\n",
       "region_code                  0\n",
       "district_code                0\n",
       "lga                          0\n",
       "ward                         0\n",
       "population                   0\n",
       "public_meeting            3334\n",
       "recorded_by                  0\n",
       "scheme_name              28166\n",
       "permit                    3056\n",
       "construction_year            0\n",
       "extraction_type_class        0\n",
       "management                   0\n",
       "management_group             0\n",
       "payment                      0\n",
       "water_quality                0\n",
       "quantity                     0\n",
       "source                       0\n",
       "waterpoint_type              0\n",
       "status_group                 0\n",
       "dtype: int64"
      ]
     },
     "execution_count": 3724,
     "metadata": {},
     "output_type": "execute_result"
    }
   ],
   "source": [
    "training_data.isna().sum()"
   ]
  },
  {
   "cell_type": "markdown",
   "metadata": {},
   "source": [
    "Let's deal with the columns containing missing values, starting with Funder"
   ]
  },
  {
   "cell_type": "markdown",
   "metadata": {},
   "source": [
    "##### Funder"
   ]
  },
  {
   "cell_type": "code",
   "execution_count": 3725,
   "metadata": {},
   "outputs": [
    {
     "data": {
      "text/plain": [
       "Government Of Tanzania      9084\n",
       "Danida                      3114\n",
       "Hesawa                      2202\n",
       "Rwssp                       1374\n",
       "World Bank                  1349\n",
       "                            ... \n",
       "Issa Mohamedi Tumwanga         1\n",
       "Kindoroko Water Project        1\n",
       "Government /world Vision       1\n",
       "Seleman Seif                   1\n",
       "Kibara Foundation              1\n",
       "Name: funder, Length: 1897, dtype: int64"
      ]
     },
     "execution_count": 3725,
     "metadata": {},
     "output_type": "execute_result"
    }
   ],
   "source": [
    "training_data.funder.value_counts()"
   ]
  },
  {
   "cell_type": "code",
   "execution_count": 3726,
   "metadata": {},
   "outputs": [
    {
     "data": {
      "text/plain": [
       "Government Of Tanzania      9084\n",
       "Danida                      3114\n",
       "Hesawa                      2202\n",
       "Rwssp                       1374\n",
       "World Bank                  1349\n",
       "                            ... \n",
       "Issa Mohamedi Tumwanga         1\n",
       "Kindoroko Water Project        1\n",
       "Government /world Vision       1\n",
       "Seleman Seif                   1\n",
       "Kibara Foundation              1\n",
       "Name: funder, Length: 1897, dtype: int64"
      ]
     },
     "execution_count": 3726,
     "metadata": {},
     "output_type": "execute_result"
    }
   ],
   "source": [
    "training_data.funder.value_counts()"
   ]
  },
  {
   "cell_type": "markdown",
   "metadata": {},
   "source": [
    "The `funder` column has 1897 unique values, hence it will be difficult to fill the null ones. We will drop it"
   ]
  },
  {
   "cell_type": "code",
   "execution_count": 3727,
   "metadata": {},
   "outputs": [],
   "source": [
    "training_data.drop('funder', axis=1, inplace=True)"
   ]
  },
  {
   "cell_type": "markdown",
   "metadata": {},
   "source": [
    "##### Subvillage"
   ]
  },
  {
   "cell_type": "code",
   "execution_count": 3728,
   "metadata": {},
   "outputs": [
    {
     "data": {
      "text/plain": [
       "Madukani       508\n",
       "Shuleni        506\n",
       "Majengo        502\n",
       "Kati           373\n",
       "Mtakuja        262\n",
       "              ... \n",
       "Luilo            1\n",
       "Ng'Hami          1\n",
       "Rugukwa          1\n",
       "Malinoni         1\n",
       "Mapambazuko      1\n",
       "Name: subvillage, Length: 19287, dtype: int64"
      ]
     },
     "execution_count": 3728,
     "metadata": {},
     "output_type": "execute_result"
    }
   ],
   "source": [
    "training_data[\"subvillage\"].value_counts()"
   ]
  },
  {
   "cell_type": "code",
   "execution_count": 3729,
   "metadata": {},
   "outputs": [
    {
     "data": {
      "text/plain": [
       "0.6245791245791246"
      ]
     },
     "execution_count": 3729,
     "metadata": {},
     "output_type": "execute_result"
    }
   ],
   "source": [
    "len(training_data[training_data[\"subvillage\"].isnull()][\"subvillage\"])/len(training_data)*100"
   ]
  },
  {
   "cell_type": "markdown",
   "metadata": {},
   "source": [
    "Given the great scatter (not one subvillage accounts for 1% or more of the examples) this feature is not informative, and therefore dropped."
   ]
  },
  {
   "cell_type": "code",
   "execution_count": 3730,
   "metadata": {},
   "outputs": [],
   "source": [
    "training_data.drop('subvillage', axis=1, inplace=True)"
   ]
  },
  {
   "cell_type": "markdown",
   "metadata": {},
   "source": [
    "##### Public Meeting"
   ]
  },
  {
   "cell_type": "code",
   "execution_count": 3731,
   "metadata": {},
   "outputs": [
    {
     "data": {
      "text/plain": [
       "True     85.877104\n",
       "False     8.510101\n",
       "NaN       5.612795\n",
       "Name: public_meeting, dtype: float64"
      ]
     },
     "execution_count": 3731,
     "metadata": {},
     "output_type": "execute_result"
    }
   ],
   "source": [
    "training_data[\"public_meeting\"].value_counts(dropna = False)/len(training_data)*100"
   ]
  },
  {
   "cell_type": "markdown",
   "metadata": {},
   "source": [
    "As it is hard to assume whether or not public meetings were actually held, we consider binning this variable into:\n",
    "\n",
    "True  \n",
    "False  \n",
    "Unknown  "
   ]
  },
  {
   "cell_type": "code",
   "execution_count": 3732,
   "metadata": {},
   "outputs": [],
   "source": [
    "training_data[\"public_meeting\"] = training_data[\"public_meeting\"].astype(\"category\")\n",
    "training_data[\"public_meeting\"] = training_data[\"public_meeting\"].cat.add_categories('Unknown').fillna('Unknown')"
   ]
  },
  {
   "cell_type": "code",
   "execution_count": 3733,
   "metadata": {},
   "outputs": [
    {
     "data": {
      "text/plain": [
       "True       51011\n",
       "False       5055\n",
       "Unknown     3334\n",
       "Name: public_meeting, dtype: int64"
      ]
     },
     "execution_count": 3733,
     "metadata": {},
     "output_type": "execute_result"
    }
   ],
   "source": [
    "training_data.public_meeting.value_counts()"
   ]
  },
  {
   "cell_type": "markdown",
   "metadata": {},
   "source": [
    "##### Scheme Name"
   ]
  },
  {
   "cell_type": "code",
   "execution_count": 3734,
   "metadata": {},
   "outputs": [
    {
     "data": {
      "text/plain": [
       "NaN                        47.417508\n",
       "K                           1.148148\n",
       "None                        1.084175\n",
       "Borehole                    0.919192\n",
       "Chalinze wate               0.681818\n",
       "                             ...    \n",
       "Msengoni water supply       0.001684\n",
       "Nyakahura Water  Supply     0.001684\n",
       "Leoroma water supply        0.001684\n",
       "Mashangwi                   0.001684\n",
       "Uswa                        0.001684\n",
       "Name: scheme_name, Length: 2697, dtype: float64"
      ]
     },
     "execution_count": 3734,
     "metadata": {},
     "output_type": "execute_result"
    }
   ],
   "source": [
    "training_data[\"scheme_name\"].value_counts(dropna = False)/len(training_data)*100"
   ]
  },
  {
   "cell_type": "markdown",
   "metadata": {},
   "source": [
    "`scheme_name` has about half the entries as NaN, and the rest are greatly scattered. Feature `scheme_name` is consequently dropped as well."
   ]
  },
  {
   "cell_type": "code",
   "execution_count": 3735,
   "metadata": {},
   "outputs": [],
   "source": [
    "training_data.drop('scheme_name', axis=1, inplace=True)"
   ]
  },
  {
   "cell_type": "markdown",
   "metadata": {},
   "source": [
    "##### Permit"
   ]
  },
  {
   "cell_type": "code",
   "execution_count": 3736,
   "metadata": {},
   "outputs": [
    {
     "data": {
      "text/plain": [
       "True     65.407407\n",
       "False    29.447811\n",
       "NaN       5.144781\n",
       "Name: permit, dtype: float64"
      ]
     },
     "execution_count": 3736,
     "metadata": {},
     "output_type": "execute_result"
    }
   ],
   "source": [
    "training_data[\"permit\"].value_counts(dropna = False)/len(training_data)*100"
   ]
  },
  {
   "cell_type": "markdown",
   "metadata": {},
   "source": [
    "`permit` is an intuitive binary feature. About 5% of the values are missing (NaN). It is reasonable to assume that absence of a permit record implies the absence of the permit itself, and hence the NaN values could be imputed as False"
   ]
  },
  {
   "cell_type": "code",
   "execution_count": 3737,
   "metadata": {},
   "outputs": [],
   "source": [
    "training_data = training_data.replace({\"permit\": {np.nan: False}})"
   ]
  },
  {
   "cell_type": "code",
   "execution_count": 3738,
   "metadata": {},
   "outputs": [
    {
     "data": {
      "text/plain": [
       "True     38852\n",
       "False    20548\n",
       "Name: permit, dtype: int64"
      ]
     },
     "execution_count": 3738,
     "metadata": {},
     "output_type": "execute_result"
    }
   ],
   "source": [
    "training_data.permit.value_counts()"
   ]
  },
  {
   "cell_type": "markdown",
   "metadata": {},
   "source": [
    "##### Conclusion from dealing with null values"
   ]
  },
  {
   "cell_type": "markdown",
   "metadata": {},
   "source": [
    "We dropped the following columns:\n",
    "- `funder`, `subvillage`, and `scheme_name`  \n",
    "\n",
    "The following columns were kept\n",
    "- `public_meeting`- NaN values were imputed with 'Unknown', introducing a new category\n",
    "- `permit`- NaN values were imputed with False"
   ]
  },
  {
   "cell_type": "markdown",
   "metadata": {},
   "source": [
    "## Checking for duplicates"
   ]
  },
  {
   "cell_type": "code",
   "execution_count": 3739,
   "metadata": {},
   "outputs": [
    {
     "data": {
      "text/plain": [
       "0"
      ]
     },
     "execution_count": 3739,
     "metadata": {},
     "output_type": "execute_result"
    }
   ],
   "source": [
    "training_data.duplicated().sum()"
   ]
  },
  {
   "cell_type": "markdown",
   "metadata": {},
   "source": [
    "There are no duplicates"
   ]
  },
  {
   "cell_type": "markdown",
   "metadata": {},
   "source": [
    "## Exploring the columns inferred as numeric"
   ]
  },
  {
   "cell_type": "code",
   "execution_count": 3740,
   "metadata": {},
   "outputs": [
    {
     "name": "stdout",
     "output_type": "stream",
     "text": [
      "There are 12 numerical variables\n",
      "\n",
      "The numerical variables are : ['id', 'amount_tsh', 'gps_height', 'longitude', 'latitude', 'num_private', 'region_code', 'district_code', 'population', 'public_meeting', 'permit', 'construction_year']\n"
     ]
    }
   ],
   "source": [
    "# Find numeric variables\n",
    "numerical_columns = [var for var in training_data.columns if training_data[var].dtype!='object']\n",
    "\n",
    "print('There are {} numerical variables\\n'.format(len(numerical_columns)))\n",
    "\n",
    "print('The numerical variables are :', numerical_columns)"
   ]
  },
  {
   "cell_type": "code",
   "execution_count": 3741,
   "metadata": {},
   "outputs": [
    {
     "data": {
      "text/html": [
       "<div>\n",
       "<style scoped>\n",
       "    .dataframe tbody tr th:only-of-type {\n",
       "        vertical-align: middle;\n",
       "    }\n",
       "\n",
       "    .dataframe tbody tr th {\n",
       "        vertical-align: top;\n",
       "    }\n",
       "\n",
       "    .dataframe thead th {\n",
       "        text-align: right;\n",
       "    }\n",
       "</style>\n",
       "<table border=\"1\" class=\"dataframe\">\n",
       "  <thead>\n",
       "    <tr style=\"text-align: right;\">\n",
       "      <th></th>\n",
       "      <th>id</th>\n",
       "      <th>amount_tsh</th>\n",
       "      <th>gps_height</th>\n",
       "      <th>longitude</th>\n",
       "      <th>latitude</th>\n",
       "      <th>num_private</th>\n",
       "      <th>region_code</th>\n",
       "      <th>district_code</th>\n",
       "      <th>population</th>\n",
       "      <th>public_meeting</th>\n",
       "      <th>permit</th>\n",
       "      <th>construction_year</th>\n",
       "    </tr>\n",
       "  </thead>\n",
       "  <tbody>\n",
       "    <tr>\n",
       "      <th>0</th>\n",
       "      <td>69572</td>\n",
       "      <td>6000.0</td>\n",
       "      <td>1390</td>\n",
       "      <td>34.938093</td>\n",
       "      <td>-9.856322</td>\n",
       "      <td>0</td>\n",
       "      <td>11</td>\n",
       "      <td>5</td>\n",
       "      <td>109</td>\n",
       "      <td>True</td>\n",
       "      <td>False</td>\n",
       "      <td>1999</td>\n",
       "    </tr>\n",
       "    <tr>\n",
       "      <th>1</th>\n",
       "      <td>8776</td>\n",
       "      <td>0.0</td>\n",
       "      <td>1399</td>\n",
       "      <td>34.698766</td>\n",
       "      <td>-2.147466</td>\n",
       "      <td>0</td>\n",
       "      <td>20</td>\n",
       "      <td>2</td>\n",
       "      <td>280</td>\n",
       "      <td>Unknown</td>\n",
       "      <td>True</td>\n",
       "      <td>2010</td>\n",
       "    </tr>\n",
       "    <tr>\n",
       "      <th>2</th>\n",
       "      <td>34310</td>\n",
       "      <td>25.0</td>\n",
       "      <td>686</td>\n",
       "      <td>37.460664</td>\n",
       "      <td>-3.821329</td>\n",
       "      <td>0</td>\n",
       "      <td>21</td>\n",
       "      <td>4</td>\n",
       "      <td>250</td>\n",
       "      <td>True</td>\n",
       "      <td>True</td>\n",
       "      <td>2009</td>\n",
       "    </tr>\n",
       "  </tbody>\n",
       "</table>\n",
       "</div>"
      ],
      "text/plain": [
       "      id  amount_tsh  gps_height  longitude  latitude  num_private  \\\n",
       "0  69572      6000.0        1390  34.938093 -9.856322            0   \n",
       "1   8776         0.0        1399  34.698766 -2.147466            0   \n",
       "2  34310        25.0         686  37.460664 -3.821329            0   \n",
       "\n",
       "   region_code  district_code  population public_meeting  permit  \\\n",
       "0           11              5         109           True   False   \n",
       "1           20              2         280        Unknown    True   \n",
       "2           21              4         250           True    True   \n",
       "\n",
       "   construction_year  \n",
       "0               1999  \n",
       "1               2010  \n",
       "2               2009  "
      ]
     },
     "execution_count": 3741,
     "metadata": {},
     "output_type": "execute_result"
    }
   ],
   "source": [
    "training_data[numerical_columns].head(3)"
   ]
  },
  {
   "cell_type": "markdown",
   "metadata": {},
   "source": [
    "Check for null values in numerical columns"
   ]
  },
  {
   "cell_type": "code",
   "execution_count": 3742,
   "metadata": {},
   "outputs": [
    {
     "data": {
      "text/plain": [
       "id                   0\n",
       "amount_tsh           0\n",
       "gps_height           0\n",
       "longitude            0\n",
       "latitude             0\n",
       "num_private          0\n",
       "region_code          0\n",
       "district_code        0\n",
       "population           0\n",
       "public_meeting       0\n",
       "permit               0\n",
       "construction_year    0\n",
       "dtype: int64"
      ]
     },
     "execution_count": 3742,
     "metadata": {},
     "output_type": "execute_result"
    }
   ],
   "source": [
    "training_data[numerical_columns].isnull().sum()"
   ]
  },
  {
   "cell_type": "markdown",
   "metadata": {},
   "source": [
    "None of the numeric columns have missing data"
   ]
  },
  {
   "cell_type": "code",
   "execution_count": 3743,
   "metadata": {},
   "outputs": [
    {
     "data": {
      "text/html": [
       "<div>\n",
       "<style scoped>\n",
       "    .dataframe tbody tr th:only-of-type {\n",
       "        vertical-align: middle;\n",
       "    }\n",
       "\n",
       "    .dataframe tbody tr th {\n",
       "        vertical-align: top;\n",
       "    }\n",
       "\n",
       "    .dataframe thead th {\n",
       "        text-align: right;\n",
       "    }\n",
       "</style>\n",
       "<table border=\"1\" class=\"dataframe\">\n",
       "  <thead>\n",
       "    <tr style=\"text-align: right;\">\n",
       "      <th></th>\n",
       "      <th>id</th>\n",
       "      <th>amount_tsh</th>\n",
       "      <th>gps_height</th>\n",
       "      <th>longitude</th>\n",
       "      <th>latitude</th>\n",
       "      <th>num_private</th>\n",
       "      <th>region_code</th>\n",
       "      <th>district_code</th>\n",
       "      <th>population</th>\n",
       "      <th>construction_year</th>\n",
       "    </tr>\n",
       "  </thead>\n",
       "  <tbody>\n",
       "    <tr>\n",
       "      <th>count</th>\n",
       "      <td>59400.000000</td>\n",
       "      <td>59400.000000</td>\n",
       "      <td>59400.000000</td>\n",
       "      <td>59400.000000</td>\n",
       "      <td>5.940000e+04</td>\n",
       "      <td>59400.000000</td>\n",
       "      <td>59400.000000</td>\n",
       "      <td>59400.000000</td>\n",
       "      <td>59400.000000</td>\n",
       "      <td>59400.000000</td>\n",
       "    </tr>\n",
       "    <tr>\n",
       "      <th>mean</th>\n",
       "      <td>37115.131768</td>\n",
       "      <td>317.650385</td>\n",
       "      <td>668.297239</td>\n",
       "      <td>34.077427</td>\n",
       "      <td>-5.706033e+00</td>\n",
       "      <td>0.474141</td>\n",
       "      <td>15.297003</td>\n",
       "      <td>5.629747</td>\n",
       "      <td>179.909983</td>\n",
       "      <td>1300.652475</td>\n",
       "    </tr>\n",
       "    <tr>\n",
       "      <th>std</th>\n",
       "      <td>21453.128371</td>\n",
       "      <td>2997.574558</td>\n",
       "      <td>693.116350</td>\n",
       "      <td>6.567432</td>\n",
       "      <td>2.946019e+00</td>\n",
       "      <td>12.236230</td>\n",
       "      <td>17.587406</td>\n",
       "      <td>9.633649</td>\n",
       "      <td>471.482176</td>\n",
       "      <td>951.620547</td>\n",
       "    </tr>\n",
       "    <tr>\n",
       "      <th>min</th>\n",
       "      <td>0.000000</td>\n",
       "      <td>0.000000</td>\n",
       "      <td>-90.000000</td>\n",
       "      <td>0.000000</td>\n",
       "      <td>-1.164944e+01</td>\n",
       "      <td>0.000000</td>\n",
       "      <td>1.000000</td>\n",
       "      <td>0.000000</td>\n",
       "      <td>0.000000</td>\n",
       "      <td>0.000000</td>\n",
       "    </tr>\n",
       "    <tr>\n",
       "      <th>25%</th>\n",
       "      <td>18519.750000</td>\n",
       "      <td>0.000000</td>\n",
       "      <td>0.000000</td>\n",
       "      <td>33.090347</td>\n",
       "      <td>-8.540621e+00</td>\n",
       "      <td>0.000000</td>\n",
       "      <td>5.000000</td>\n",
       "      <td>2.000000</td>\n",
       "      <td>0.000000</td>\n",
       "      <td>0.000000</td>\n",
       "    </tr>\n",
       "    <tr>\n",
       "      <th>50%</th>\n",
       "      <td>37061.500000</td>\n",
       "      <td>0.000000</td>\n",
       "      <td>369.000000</td>\n",
       "      <td>34.908743</td>\n",
       "      <td>-5.021597e+00</td>\n",
       "      <td>0.000000</td>\n",
       "      <td>12.000000</td>\n",
       "      <td>3.000000</td>\n",
       "      <td>25.000000</td>\n",
       "      <td>1986.000000</td>\n",
       "    </tr>\n",
       "    <tr>\n",
       "      <th>75%</th>\n",
       "      <td>55656.500000</td>\n",
       "      <td>20.000000</td>\n",
       "      <td>1319.250000</td>\n",
       "      <td>37.178387</td>\n",
       "      <td>-3.326156e+00</td>\n",
       "      <td>0.000000</td>\n",
       "      <td>17.000000</td>\n",
       "      <td>5.000000</td>\n",
       "      <td>215.000000</td>\n",
       "      <td>2004.000000</td>\n",
       "    </tr>\n",
       "    <tr>\n",
       "      <th>max</th>\n",
       "      <td>74247.000000</td>\n",
       "      <td>350000.000000</td>\n",
       "      <td>2770.000000</td>\n",
       "      <td>40.345193</td>\n",
       "      <td>-2.000000e-08</td>\n",
       "      <td>1776.000000</td>\n",
       "      <td>99.000000</td>\n",
       "      <td>80.000000</td>\n",
       "      <td>30500.000000</td>\n",
       "      <td>2013.000000</td>\n",
       "    </tr>\n",
       "  </tbody>\n",
       "</table>\n",
       "</div>"
      ],
      "text/plain": [
       "                 id     amount_tsh    gps_height     longitude      latitude  \\\n",
       "count  59400.000000   59400.000000  59400.000000  59400.000000  5.940000e+04   \n",
       "mean   37115.131768     317.650385    668.297239     34.077427 -5.706033e+00   \n",
       "std    21453.128371    2997.574558    693.116350      6.567432  2.946019e+00   \n",
       "min        0.000000       0.000000    -90.000000      0.000000 -1.164944e+01   \n",
       "25%    18519.750000       0.000000      0.000000     33.090347 -8.540621e+00   \n",
       "50%    37061.500000       0.000000    369.000000     34.908743 -5.021597e+00   \n",
       "75%    55656.500000      20.000000   1319.250000     37.178387 -3.326156e+00   \n",
       "max    74247.000000  350000.000000   2770.000000     40.345193 -2.000000e-08   \n",
       "\n",
       "        num_private   region_code  district_code    population  \\\n",
       "count  59400.000000  59400.000000   59400.000000  59400.000000   \n",
       "mean       0.474141     15.297003       5.629747    179.909983   \n",
       "std       12.236230     17.587406       9.633649    471.482176   \n",
       "min        0.000000      1.000000       0.000000      0.000000   \n",
       "25%        0.000000      5.000000       2.000000      0.000000   \n",
       "50%        0.000000     12.000000       3.000000     25.000000   \n",
       "75%        0.000000     17.000000       5.000000    215.000000   \n",
       "max     1776.000000     99.000000      80.000000  30500.000000   \n",
       "\n",
       "       construction_year  \n",
       "count       59400.000000  \n",
       "mean         1300.652475  \n",
       "std           951.620547  \n",
       "min             0.000000  \n",
       "25%             0.000000  \n",
       "50%          1986.000000  \n",
       "75%          2004.000000  \n",
       "max          2013.000000  "
      ]
     },
     "execution_count": 3743,
     "metadata": {},
     "output_type": "execute_result"
    }
   ],
   "source": [
    "training_data[numerical_columns].describe()"
   ]
  },
  {
   "cell_type": "markdown",
   "metadata": {},
   "source": [
    "##### Amount tsh"
   ]
  },
  {
   "cell_type": "markdown",
   "metadata": {},
   "source": [
    "Total static head shows us the height of the flow from the surface. Mostly there are zero values in our dataset. But for zero values no need for pump , because it means we are already in surface."
   ]
  },
  {
   "cell_type": "code",
   "execution_count": 3744,
   "metadata": {},
   "outputs": [
    {
     "data": {
      "text/plain": [
       "0.0         41639\n",
       "500.0        3102\n",
       "50.0         2472\n",
       "1000.0       1488\n",
       "20.0         1463\n",
       "            ...  \n",
       "8500.0          1\n",
       "6300.0          1\n",
       "220.0           1\n",
       "138000.0        1\n",
       "12.0            1\n",
       "Name: amount_tsh, Length: 98, dtype: int64"
      ]
     },
     "execution_count": 3744,
     "metadata": {},
     "output_type": "execute_result"
    }
   ],
   "source": [
    "training_data[\"amount_tsh\"].value_counts()"
   ]
  },
  {
   "cell_type": "code",
   "execution_count": 3745,
   "metadata": {},
   "outputs": [
    {
     "data": {
      "text/plain": [
       "0.0         70.099327\n",
       "500.0        5.222222\n",
       "50.0         4.161616\n",
       "1000.0       2.505051\n",
       "20.0         2.462963\n",
       "              ...    \n",
       "8500.0       0.001684\n",
       "6300.0       0.001684\n",
       "220.0        0.001684\n",
       "138000.0     0.001684\n",
       "12.0         0.001684\n",
       "Name: amount_tsh, Length: 98, dtype: float64"
      ]
     },
     "execution_count": 3745,
     "metadata": {},
     "output_type": "execute_result"
    }
   ],
   "source": [
    "training_data[\"amount_tsh\"].value_counts()/len(training_data)*100"
   ]
  },
  {
   "cell_type": "markdown",
   "metadata": {},
   "source": [
    "We decided to drop this column because 70% of the column has no informative values. So, this column will not be informative to our model and we will drop it."
   ]
  },
  {
   "cell_type": "code",
   "execution_count": 3746,
   "metadata": {},
   "outputs": [],
   "source": [
    "training_data.drop('amount_tsh',axis=1, inplace=True)"
   ]
  },
  {
   "cell_type": "markdown",
   "metadata": {},
   "source": [
    "##### GPS Height"
   ]
  },
  {
   "cell_type": "code",
   "execution_count": 3747,
   "metadata": {},
   "outputs": [
    {
     "data": {
      "text/plain": [
       " 0       34.407407\n",
       "-15       0.101010\n",
       "-16       0.092593\n",
       "-13       0.092593\n",
       "-20       0.087542\n",
       "           ...    \n",
       " 2285     0.001684\n",
       " 2424     0.001684\n",
       " 2552     0.001684\n",
       " 2413     0.001684\n",
       " 2385     0.001684\n",
       "Name: gps_height, Length: 2428, dtype: float64"
      ]
     },
     "execution_count": 3747,
     "metadata": {},
     "output_type": "execute_result"
    }
   ],
   "source": [
    "training_data[\"gps_height\"].value_counts()/len(training_data)*100    # 34% of waterpoints are at height 0, the rest are very scattered"
   ]
  },
  {
   "cell_type": "code",
   "execution_count": 3748,
   "metadata": {},
   "outputs": [
    {
     "data": {
      "text/plain": [
       "2.5185185185185186"
      ]
     },
     "execution_count": 3748,
     "metadata": {},
     "output_type": "execute_result"
    }
   ],
   "source": [
    "training_data[training_data[\"gps_height\"] > 0][\"gps_height\"].count()/len(training_data)*100  # 63% of waterpoints above sea level\n",
    "training_data[training_data[\"gps_height\"] < 0][\"gps_height\"].count()/len(training_data)*100  # 2.5% of waterpoints below sea level"
   ]
  },
  {
   "cell_type": "markdown",
   "metadata": {},
   "source": [
    "Gps height shows the level of the water point from sea level. There are 34% zero values but maybe 34% of the water points are at the sea level so we do not change this column now."
   ]
  },
  {
   "cell_type": "markdown",
   "metadata": {},
   "source": [
    "Let's use the median"
   ]
  },
  {
   "cell_type": "markdown",
   "metadata": {},
   "source": [
    "##### Longitude and Latitude"
   ]
  },
  {
   "cell_type": "markdown",
   "metadata": {},
   "source": [
    "**latitude** values make sense (between just below the equator down to 12°S)"
   ]
  },
  {
   "cell_type": "markdown",
   "metadata": {},
   "source": [
    "**longitude** values have inconsistencies (0°E is not possible for Tanzania)"
   ]
  },
  {
   "cell_type": "code",
   "execution_count": 3749,
   "metadata": {},
   "outputs": [
    {
     "data": {
      "image/png": "[encoded data removed]",
      "text/plain": [
       "<Figure size 1400x600 with 1 Axes>"
      ]
     },
     "metadata": {},
     "output_type": "display_data"
    }
   ],
   "source": [
    "training_data.plot(kind='scatter', x=\"longitude\", y=\"latitude\", alpha=0.4, figsize=(14,6),sharex=False);\n",
    "# To see the outliers"
   ]
  },
  {
   "cell_type": "code",
   "execution_count": 3750,
   "metadata": {},
   "outputs": [
    {
     "data": {
      "text/html": [
       "<div>\n",
       "<style scoped>\n",
       "    .dataframe tbody tr th:only-of-type {\n",
       "        vertical-align: middle;\n",
       "    }\n",
       "\n",
       "    .dataframe tbody tr th {\n",
       "        vertical-align: top;\n",
       "    }\n",
       "\n",
       "    .dataframe thead th {\n",
       "        text-align: right;\n",
       "    }\n",
       "</style>\n",
       "<table border=\"1\" class=\"dataframe\">\n",
       "  <thead>\n",
       "    <tr style=\"text-align: right;\">\n",
       "      <th></th>\n",
       "      <th>id</th>\n",
       "      <th>date_recorded</th>\n",
       "      <th>gps_height</th>\n",
       "      <th>installer</th>\n",
       "      <th>longitude</th>\n",
       "      <th>latitude</th>\n",
       "      <th>wpt_name</th>\n",
       "      <th>num_private</th>\n",
       "      <th>basin</th>\n",
       "      <th>region</th>\n",
       "      <th>...</th>\n",
       "      <th>construction_year</th>\n",
       "      <th>extraction_type_class</th>\n",
       "      <th>management</th>\n",
       "      <th>management_group</th>\n",
       "      <th>payment</th>\n",
       "      <th>water_quality</th>\n",
       "      <th>quantity</th>\n",
       "      <th>source</th>\n",
       "      <th>waterpoint_type</th>\n",
       "      <th>status_group</th>\n",
       "    </tr>\n",
       "  </thead>\n",
       "  <tbody>\n",
       "    <tr>\n",
       "      <th>21</th>\n",
       "      <td>6091</td>\n",
       "      <td>2013-02-10</td>\n",
       "      <td>0</td>\n",
       "      <td>DWE</td>\n",
       "      <td>0.0</td>\n",
       "      <td>-2.000000e-08</td>\n",
       "      <td>Muungano</td>\n",
       "      <td>0</td>\n",
       "      <td>Lake Victoria</td>\n",
       "      <td>Shinyanga</td>\n",
       "      <td>...</td>\n",
       "      <td>0</td>\n",
       "      <td>handpump</td>\n",
       "      <td>wug</td>\n",
       "      <td>user-group</td>\n",
       "      <td>unknown</td>\n",
       "      <td>unknown</td>\n",
       "      <td>unknown</td>\n",
       "      <td>shallow well</td>\n",
       "      <td>hand pump</td>\n",
       "      <td>functional</td>\n",
       "    </tr>\n",
       "    <tr>\n",
       "      <th>53</th>\n",
       "      <td>32376</td>\n",
       "      <td>2011-08-01</td>\n",
       "      <td>0</td>\n",
       "      <td>Government</td>\n",
       "      <td>0.0</td>\n",
       "      <td>-2.000000e-08</td>\n",
       "      <td>Polisi</td>\n",
       "      <td>0</td>\n",
       "      <td>Lake Victoria</td>\n",
       "      <td>Mwanza</td>\n",
       "      <td>...</td>\n",
       "      <td>0</td>\n",
       "      <td>submersible</td>\n",
       "      <td>vwc</td>\n",
       "      <td>user-group</td>\n",
       "      <td>unknown</td>\n",
       "      <td>unknown</td>\n",
       "      <td>dry</td>\n",
       "      <td>machine dbh</td>\n",
       "      <td>communal standpipe multiple</td>\n",
       "      <td>non functional</td>\n",
       "    </tr>\n",
       "    <tr>\n",
       "      <th>168</th>\n",
       "      <td>72678</td>\n",
       "      <td>2013-01-30</td>\n",
       "      <td>0</td>\n",
       "      <td>WVT</td>\n",
       "      <td>0.0</td>\n",
       "      <td>-2.000000e-08</td>\n",
       "      <td>Wvt Tanzania</td>\n",
       "      <td>0</td>\n",
       "      <td>Lake Victoria</td>\n",
       "      <td>Shinyanga</td>\n",
       "      <td>...</td>\n",
       "      <td>0</td>\n",
       "      <td>gravity</td>\n",
       "      <td>parastatal</td>\n",
       "      <td>parastatal</td>\n",
       "      <td>other</td>\n",
       "      <td>soft</td>\n",
       "      <td>seasonal</td>\n",
       "      <td>rainwater harvesting</td>\n",
       "      <td>communal standpipe</td>\n",
       "      <td>functional</td>\n",
       "    </tr>\n",
       "    <tr>\n",
       "      <th>177</th>\n",
       "      <td>56725</td>\n",
       "      <td>2013-01-17</td>\n",
       "      <td>0</td>\n",
       "      <td>DWE</td>\n",
       "      <td>0.0</td>\n",
       "      <td>-2.000000e-08</td>\n",
       "      <td>Kikundi Cha Wakina Mama</td>\n",
       "      <td>0</td>\n",
       "      <td>Lake Victoria</td>\n",
       "      <td>Shinyanga</td>\n",
       "      <td>...</td>\n",
       "      <td>0</td>\n",
       "      <td>other</td>\n",
       "      <td>wug</td>\n",
       "      <td>user-group</td>\n",
       "      <td>unknown</td>\n",
       "      <td>soft</td>\n",
       "      <td>enough</td>\n",
       "      <td>shallow well</td>\n",
       "      <td>other</td>\n",
       "      <td>non functional</td>\n",
       "    </tr>\n",
       "    <tr>\n",
       "      <th>253</th>\n",
       "      <td>13042</td>\n",
       "      <td>2012-10-29</td>\n",
       "      <td>0</td>\n",
       "      <td>DWE</td>\n",
       "      <td>0.0</td>\n",
       "      <td>-2.000000e-08</td>\n",
       "      <td>Kwakisusi</td>\n",
       "      <td>0</td>\n",
       "      <td>Lake Victoria</td>\n",
       "      <td>Mwanza</td>\n",
       "      <td>...</td>\n",
       "      <td>0</td>\n",
       "      <td>handpump</td>\n",
       "      <td>vwc</td>\n",
       "      <td>user-group</td>\n",
       "      <td>never pay</td>\n",
       "      <td>soft</td>\n",
       "      <td>insufficient</td>\n",
       "      <td>shallow well</td>\n",
       "      <td>hand pump</td>\n",
       "      <td>functional needs repair</td>\n",
       "    </tr>\n",
       "  </tbody>\n",
       "</table>\n",
       "<p>5 rows × 28 columns</p>\n",
       "</div>"
      ],
      "text/plain": [
       "        id date_recorded  gps_height   installer  longitude      latitude  \\\n",
       "21    6091    2013-02-10           0         DWE        0.0 -2.000000e-08   \n",
       "53   32376    2011-08-01           0  Government        0.0 -2.000000e-08   \n",
       "168  72678    2013-01-30           0         WVT        0.0 -2.000000e-08   \n",
       "177  56725    2013-01-17           0         DWE        0.0 -2.000000e-08   \n",
       "253  13042    2012-10-29           0         DWE        0.0 -2.000000e-08   \n",
       "\n",
       "                    wpt_name  num_private          basin     region  ...  \\\n",
       "21                  Muungano            0  Lake Victoria  Shinyanga  ...   \n",
       "53                    Polisi            0  Lake Victoria     Mwanza  ...   \n",
       "168             Wvt Tanzania            0  Lake Victoria  Shinyanga  ...   \n",
       "177  Kikundi Cha Wakina Mama            0  Lake Victoria  Shinyanga  ...   \n",
       "253                Kwakisusi            0  Lake Victoria     Mwanza  ...   \n",
       "\n",
       "     construction_year  extraction_type_class  management management_group  \\\n",
       "21                   0               handpump         wug       user-group   \n",
       "53                   0            submersible         vwc       user-group   \n",
       "168                  0                gravity  parastatal       parastatal   \n",
       "177                  0                  other         wug       user-group   \n",
       "253                  0               handpump         vwc       user-group   \n",
       "\n",
       "       payment water_quality      quantity                source  \\\n",
       "21     unknown       unknown       unknown          shallow well   \n",
       "53     unknown       unknown           dry           machine dbh   \n",
       "168      other          soft      seasonal  rainwater harvesting   \n",
       "177    unknown          soft        enough          shallow well   \n",
       "253  never pay          soft  insufficient          shallow well   \n",
       "\n",
       "                 waterpoint_type             status_group  \n",
       "21                     hand pump               functional  \n",
       "53   communal standpipe multiple           non functional  \n",
       "168           communal standpipe               functional  \n",
       "177                        other           non functional  \n",
       "253                    hand pump  functional needs repair  \n",
       "\n",
       "[5 rows x 28 columns]"
      ]
     },
     "execution_count": 3750,
     "metadata": {},
     "output_type": "execute_result"
    }
   ],
   "source": [
    "training_data.loc[training_data['longitude']==0].head() # to check outside of Tanzania"
   ]
  },
  {
   "cell_type": "code",
   "execution_count": 3751,
   "metadata": {},
   "outputs": [
    {
     "data": {
      "text/html": [
       "<div>\n",
       "<style scoped>\n",
       "    .dataframe tbody tr th:only-of-type {\n",
       "        vertical-align: middle;\n",
       "    }\n",
       "\n",
       "    .dataframe tbody tr th {\n",
       "        vertical-align: top;\n",
       "    }\n",
       "\n",
       "    .dataframe thead th {\n",
       "        text-align: right;\n",
       "    }\n",
       "</style>\n",
       "<table border=\"1\" class=\"dataframe\">\n",
       "  <thead>\n",
       "    <tr style=\"text-align: right;\">\n",
       "      <th></th>\n",
       "      <th>id</th>\n",
       "      <th>gps_height</th>\n",
       "      <th>longitude</th>\n",
       "      <th>latitude</th>\n",
       "      <th>num_private</th>\n",
       "      <th>region_code</th>\n",
       "      <th>district_code</th>\n",
       "      <th>population</th>\n",
       "      <th>construction_year</th>\n",
       "    </tr>\n",
       "  </thead>\n",
       "  <tbody>\n",
       "    <tr>\n",
       "      <th>count</th>\n",
       "      <td>57588.00000</td>\n",
       "      <td>57588.000000</td>\n",
       "      <td>57588.000000</td>\n",
       "      <td>57588.000000</td>\n",
       "      <td>57588.000000</td>\n",
       "      <td>57588.000000</td>\n",
       "      <td>57588.000000</td>\n",
       "      <td>57588.000000</td>\n",
       "      <td>57588.000000</td>\n",
       "    </tr>\n",
       "    <tr>\n",
       "      <th>mean</th>\n",
       "      <td>37106.48807</td>\n",
       "      <td>689.325137</td>\n",
       "      <td>35.149669</td>\n",
       "      <td>-5.885572</td>\n",
       "      <td>0.489060</td>\n",
       "      <td>15.217615</td>\n",
       "      <td>5.728311</td>\n",
       "      <td>185.570831</td>\n",
       "      <td>1341.577360</td>\n",
       "    </tr>\n",
       "    <tr>\n",
       "      <th>std</th>\n",
       "      <td>21454.51421</td>\n",
       "      <td>693.564188</td>\n",
       "      <td>2.607428</td>\n",
       "      <td>2.809876</td>\n",
       "      <td>12.426954</td>\n",
       "      <td>17.855254</td>\n",
       "      <td>9.760254</td>\n",
       "      <td>477.744239</td>\n",
       "      <td>937.641368</td>\n",
       "    </tr>\n",
       "    <tr>\n",
       "      <th>min</th>\n",
       "      <td>0.00000</td>\n",
       "      <td>-90.000000</td>\n",
       "      <td>29.607122</td>\n",
       "      <td>-11.649440</td>\n",
       "      <td>0.000000</td>\n",
       "      <td>1.000000</td>\n",
       "      <td>0.000000</td>\n",
       "      <td>0.000000</td>\n",
       "      <td>0.000000</td>\n",
       "    </tr>\n",
       "    <tr>\n",
       "      <th>25%</th>\n",
       "      <td>18522.75000</td>\n",
       "      <td>0.000000</td>\n",
       "      <td>33.285100</td>\n",
       "      <td>-8.643841</td>\n",
       "      <td>0.000000</td>\n",
       "      <td>5.000000</td>\n",
       "      <td>2.000000</td>\n",
       "      <td>0.000000</td>\n",
       "      <td>0.000000</td>\n",
       "    </tr>\n",
       "    <tr>\n",
       "      <th>50%</th>\n",
       "      <td>37054.50000</td>\n",
       "      <td>426.000000</td>\n",
       "      <td>35.005943</td>\n",
       "      <td>-5.172704</td>\n",
       "      <td>0.000000</td>\n",
       "      <td>12.000000</td>\n",
       "      <td>3.000000</td>\n",
       "      <td>35.000000</td>\n",
       "      <td>1988.000000</td>\n",
       "    </tr>\n",
       "    <tr>\n",
       "      <th>75%</th>\n",
       "      <td>55667.25000</td>\n",
       "      <td>1332.000000</td>\n",
       "      <td>37.233712</td>\n",
       "      <td>-3.372824</td>\n",
       "      <td>0.000000</td>\n",
       "      <td>17.000000</td>\n",
       "      <td>5.000000</td>\n",
       "      <td>230.000000</td>\n",
       "      <td>2004.000000</td>\n",
       "    </tr>\n",
       "    <tr>\n",
       "      <th>max</th>\n",
       "      <td>74247.00000</td>\n",
       "      <td>2770.000000</td>\n",
       "      <td>40.345193</td>\n",
       "      <td>-0.998464</td>\n",
       "      <td>1776.000000</td>\n",
       "      <td>99.000000</td>\n",
       "      <td>80.000000</td>\n",
       "      <td>30500.000000</td>\n",
       "      <td>2013.000000</td>\n",
       "    </tr>\n",
       "  </tbody>\n",
       "</table>\n",
       "</div>"
      ],
      "text/plain": [
       "                id    gps_height     longitude      latitude   num_private  \\\n",
       "count  57588.00000  57588.000000  57588.000000  57588.000000  57588.000000   \n",
       "mean   37106.48807    689.325137     35.149669     -5.885572      0.489060   \n",
       "std    21454.51421    693.564188      2.607428      2.809876     12.426954   \n",
       "min        0.00000    -90.000000     29.607122    -11.649440      0.000000   \n",
       "25%    18522.75000      0.000000     33.285100     -8.643841      0.000000   \n",
       "50%    37054.50000    426.000000     35.005943     -5.172704      0.000000   \n",
       "75%    55667.25000   1332.000000     37.233712     -3.372824      0.000000   \n",
       "max    74247.00000   2770.000000     40.345193     -0.998464   1776.000000   \n",
       "\n",
       "        region_code  district_code    population  construction_year  \n",
       "count  57588.000000   57588.000000  57588.000000       57588.000000  \n",
       "mean      15.217615       5.728311    185.570831        1341.577360  \n",
       "std       17.855254       9.760254    477.744239         937.641368  \n",
       "min        1.000000       0.000000      0.000000           0.000000  \n",
       "25%        5.000000       2.000000      0.000000           0.000000  \n",
       "50%       12.000000       3.000000     35.000000        1988.000000  \n",
       "75%       17.000000       5.000000    230.000000        2004.000000  \n",
       "max       99.000000      80.000000  30500.000000        2013.000000  "
      ]
     },
     "execution_count": 3751,
     "metadata": {},
     "output_type": "execute_result"
    }
   ],
   "source": [
    "training_data.loc[training_data['longitude']!=0].describe() # to find the non-zero values mean"
   ]
  },
  {
   "cell_type": "markdown",
   "metadata": {},
   "source": [
    "It is obviously seen that it is written as 0 when the longtitude is unknown.   \n",
    "Because, the zero points can seen easily in the graph above outliers and outside of Tanzania.  \n",
    "So, we replaced this with the mean longitude value"
   ]
  },
  {
   "cell_type": "code",
   "execution_count": 3752,
   "metadata": {},
   "outputs": [],
   "source": [
    "training_data['longitude'].replace(to_replace = 0 , value =35.15, inplace=True) # changing 0 values to mean"
   ]
  },
  {
   "cell_type": "markdown",
   "metadata": {},
   "source": [
    "##### Num Private"
   ]
  },
  {
   "cell_type": "markdown",
   "metadata": {},
   "source": [
    "num_private column has no description and most of the colum contains zeros and is not intuitive to infer. We will drop it"
   ]
  },
  {
   "cell_type": "code",
   "execution_count": 3753,
   "metadata": {},
   "outputs": [
    {
     "data": {
      "text/plain": [
       "0      98.725589\n",
       "6       0.136364\n",
       "1       0.122896\n",
       "5       0.077441\n",
       "8       0.077441\n",
       "         ...    \n",
       "180     0.001684\n",
       "213     0.001684\n",
       "23      0.001684\n",
       "55      0.001684\n",
       "94      0.001684\n",
       "Name: num_private, Length: 65, dtype: float64"
      ]
     },
     "execution_count": 3753,
     "metadata": {},
     "output_type": "execute_result"
    }
   ],
   "source": [
    "training_data[\"num_private\"].value_counts()/len(training_data)*100"
   ]
  },
  {
   "cell_type": "code",
   "execution_count": 3754,
   "metadata": {},
   "outputs": [],
   "source": [
    "training_data.drop('num_private',axis=1, inplace=True )"
   ]
  },
  {
   "cell_type": "markdown",
   "metadata": {},
   "source": [
    "##### Region_code\n",
    " "
   ]
  },
  {
   "cell_type": "code",
   "execution_count": 3755,
   "metadata": {},
   "outputs": [
    {
     "data": {
      "text/plain": [
       "27"
      ]
     },
     "execution_count": 3755,
     "metadata": {},
     "output_type": "execute_result"
    }
   ],
   "source": [
    "training_data[\"region_code\"].nunique() "
   ]
  },
  {
   "cell_type": "code",
   "execution_count": 3756,
   "metadata": {},
   "outputs": [
    {
     "data": {
      "text/plain": [
       "11    5300\n",
       "17    5011\n",
       "12    4639\n",
       "3     4379\n",
       "5     4040\n",
       "18    3324\n",
       "19    3047\n",
       "2     3024\n",
       "16    2816\n",
       "10    2640\n",
       "4     2513\n",
       "1     2201\n",
       "13    2093\n",
       "14    1979\n",
       "20    1969\n",
       "15    1808\n",
       "6     1609\n",
       "21    1583\n",
       "80    1238\n",
       "60    1025\n",
       "90     917\n",
       "7      805\n",
       "99     423\n",
       "9      390\n",
       "24     326\n",
       "8      300\n",
       "40       1\n",
       "Name: region_code, dtype: int64"
      ]
     },
     "execution_count": 3756,
     "metadata": {},
     "output_type": "execute_result"
    }
   ],
   "source": [
    "training_data['region_code'].value_counts()"
   ]
  },
  {
   "cell_type": "markdown",
   "metadata": {},
   "source": [
    "This is a categorical value"
   ]
  },
  {
   "cell_type": "markdown",
   "metadata": {},
   "source": [
    "##### District_code"
   ]
  },
  {
   "cell_type": "code",
   "execution_count": 3757,
   "metadata": {},
   "outputs": [
    {
     "data": {
      "text/plain": [
       "20"
      ]
     },
     "execution_count": 3757,
     "metadata": {},
     "output_type": "execute_result"
    }
   ],
   "source": [
    "training_data['district_code'].nunique()"
   ]
  },
  {
   "cell_type": "code",
   "execution_count": 3758,
   "metadata": {},
   "outputs": [
    {
     "data": {
      "text/plain": [
       "1     12203\n",
       "2     11173\n",
       "3      9998\n",
       "4      8999\n",
       "5      4356\n",
       "6      4074\n",
       "7      3343\n",
       "8      1043\n",
       "30      995\n",
       "33      874\n",
       "53      745\n",
       "43      505\n",
       "13      391\n",
       "23      293\n",
       "63      195\n",
       "62      109\n",
       "60       63\n",
       "0        23\n",
       "80       12\n",
       "67        6\n",
       "Name: district_code, dtype: int64"
      ]
     },
     "execution_count": 3758,
     "metadata": {},
     "output_type": "execute_result"
    }
   ],
   "source": [
    "training_data['district_code'].value_counts()"
   ]
  },
  {
   "cell_type": "markdown",
   "metadata": {},
   "source": [
    "This is a categorical value"
   ]
  },
  {
   "cell_type": "markdown",
   "metadata": {},
   "source": [
    "##### Population \n"
   ]
  },
  {
   "cell_type": "markdown",
   "metadata": {},
   "source": [
    "In the `population` column, 36% of rows have value 0. These could be mistakes or numeric encoding for NA (maybe waterpoints where population ultimately migrated?).\n",
    "\n",
    "Do we impute these entries? The distribution is considerably skewed."
   ]
  },
  {
   "cell_type": "code",
   "execution_count": 3759,
   "metadata": {},
   "outputs": [
    {
     "name": "stdout",
     "output_type": "stream",
     "text": [
      "12.660713588843592\n"
     ]
    }
   ],
   "source": [
    "print(training_data['population'].skew())"
   ]
  },
  {
   "cell_type": "code",
   "execution_count": 3760,
   "metadata": {},
   "outputs": [
    {
     "data": {
      "image/png": "[encoded data removed]",
      "text/plain": [
       "<Figure size 1000x400 with 1 Axes>"
      ]
     },
     "metadata": {},
     "output_type": "display_data"
    }
   ],
   "source": [
    "plt.figure(figsize=(10,4))\n",
    "training_data.boxplot(['population'], grid=True, fontsize=10)\n",
    "plt.show()"
   ]
  },
  {
   "cell_type": "code",
   "execution_count": 3761,
   "metadata": {},
   "outputs": [
    {
     "data": {
      "text/plain": [
       "count    59400.000000\n",
       "mean       179.909983\n",
       "std        471.482176\n",
       "min          0.000000\n",
       "25%          0.000000\n",
       "50%         25.000000\n",
       "75%        215.000000\n",
       "max      30500.000000\n",
       "Name: population, dtype: float64"
      ]
     },
     "execution_count": 3761,
     "metadata": {},
     "output_type": "execute_result"
    }
   ],
   "source": [
    "training_data[\"population\"].describe()"
   ]
  },
  {
   "cell_type": "markdown",
   "metadata": {},
   "source": [
    "imputation is prefered to be with the median considering the significant skewness."
   ]
  },
  {
   "cell_type": "code",
   "execution_count": 3762,
   "metadata": {},
   "outputs": [],
   "source": [
    "population_median = training_data[(training_data[\"population\"] != 0)][\"population\"].describe()[5]"
   ]
  },
  {
   "cell_type": "code",
   "execution_count": 3763,
   "metadata": {},
   "outputs": [],
   "source": [
    "training_data[\"population\"] = training_data[\"population\"].replace({0:population_median}).astype('int64')"
   ]
  },
  {
   "cell_type": "code",
   "execution_count": 3764,
   "metadata": {},
   "outputs": [
    {
     "data": {
      "text/plain": [
       "150     23273\n",
       "1        7025\n",
       "200      1940\n",
       "250      1681\n",
       "300      1476\n",
       "        ...  \n",
       "406         1\n",
       "1960        1\n",
       "1685        1\n",
       "2248        1\n",
       "1439        1\n",
       "Name: population, Length: 1048, dtype: int64"
      ]
     },
     "execution_count": 3764,
     "metadata": {},
     "output_type": "execute_result"
    }
   ],
   "source": [
    "training_data.population.value_counts()"
   ]
  },
  {
   "cell_type": "markdown",
   "metadata": {},
   "source": [
    "##### Permit"
   ]
  },
  {
   "cell_type": "code",
   "execution_count": 3765,
   "metadata": {},
   "outputs": [
    {
     "data": {
      "text/plain": [
       "0        False\n",
       "1         True\n",
       "2         True\n",
       "3         True\n",
       "4         True\n",
       "         ...  \n",
       "59395     True\n",
       "59396     True\n",
       "59397    False\n",
       "59398     True\n",
       "59399     True\n",
       "Name: permit, Length: 59400, dtype: bool"
      ]
     },
     "execution_count": 3765,
     "metadata": {},
     "output_type": "execute_result"
    }
   ],
   "source": [
    "training_data['permit']"
   ]
  },
  {
   "cell_type": "code",
   "execution_count": 3766,
   "metadata": {},
   "outputs": [
    {
     "data": {
      "text/plain": [
       "True     65.407407\n",
       "False    34.592593\n",
       "Name: permit, dtype: float64"
      ]
     },
     "execution_count": 3766,
     "metadata": {},
     "output_type": "execute_result"
    }
   ],
   "source": [
    "training_data[\"permit\"].value_counts(dropna = False)/len(training_data)*100"
   ]
  },
  {
   "cell_type": "markdown",
   "metadata": {},
   "source": [
    "`Permit` is an intuitive binary feature with Boolean values (True or False)"
   ]
  },
  {
   "cell_type": "markdown",
   "metadata": {},
   "source": [
    "##### Construction_year   "
   ]
  },
  {
   "cell_type": "code",
   "execution_count": 3767,
   "metadata": {},
   "outputs": [
    {
     "name": "stdout",
     "output_type": "stream",
     "text": [
      "-0.6349277865999228\n"
     ]
    }
   ],
   "source": [
    "print(training_data['construction_year'].skew())"
   ]
  },
  {
   "cell_type": "code",
   "execution_count": 3768,
   "metadata": {},
   "outputs": [
    {
     "data": {
      "text/plain": [
       "0       34.863636\n",
       "2010     4.452862\n",
       "2008     4.398990\n",
       "2009     4.264310\n",
       "2000     3.520202\n",
       "2007     2.671717\n",
       "2006     2.476431\n",
       "2003     2.164983\n",
       "2011     2.114478\n",
       "2004     1.890572\n",
       "2012     1.824916\n",
       "2002     1.809764\n",
       "1978     1.745791\n",
       "1995     1.707071\n",
       "2005     1.702020\n",
       "1999     1.648148\n",
       "1998     1.626263\n",
       "1990     1.606061\n",
       "1985     1.590909\n",
       "1980     1.365320\n",
       "1996     1.365320\n",
       "1984     1.311448\n",
       "1982     1.252525\n",
       "1994     1.242424\n",
       "1972     1.191919\n",
       "1974     1.138047\n",
       "1997     1.084175\n",
       "1992     1.077441\n",
       "1993     1.023569\n",
       "2001     0.909091\n",
       "1988     0.877104\n",
       "1983     0.821549\n",
       "1975     0.735690\n",
       "1986     0.730640\n",
       "1976     0.696970\n",
       "1970     0.691919\n",
       "1991     0.545455\n",
       "1989     0.531987\n",
       "1987     0.508418\n",
       "1981     0.400673\n",
       "1977     0.340067\n",
       "1979     0.323232\n",
       "1973     0.309764\n",
       "2013     0.296296\n",
       "1971     0.244108\n",
       "1960     0.171717\n",
       "1967     0.148148\n",
       "1963     0.143098\n",
       "1968     0.129630\n",
       "1969     0.099327\n",
       "1964     0.067340\n",
       "1962     0.050505\n",
       "1961     0.035354\n",
       "1965     0.031987\n",
       "1966     0.028620\n",
       "Name: construction_year, dtype: float64"
      ]
     },
     "execution_count": 3768,
     "metadata": {},
     "output_type": "execute_result"
    }
   ],
   "source": [
    "training_data[\"construction_year\"].value_counts()/len(training_data)*100"
   ]
  },
  {
   "cell_type": "code",
   "execution_count": 3769,
   "metadata": {},
   "outputs": [
    {
     "data": {
      "text/plain": [
       "count    38691.000000\n",
       "mean      1996.814686\n",
       "std         12.472045\n",
       "min       1960.000000\n",
       "25%       1987.000000\n",
       "50%       2000.000000\n",
       "75%       2008.000000\n",
       "max       2013.000000\n",
       "Name: construction_year, dtype: float64"
      ]
     },
     "execution_count": 3769,
     "metadata": {},
     "output_type": "execute_result"
    }
   ],
   "source": [
    "training_data[(training_data[\"construction_year\"] != 0)]['construction_year'].describe()"
   ]
  },
  {
   "cell_type": "markdown",
   "metadata": {},
   "source": [
    "Imputation is preferred to be with the mean of non-zero years, as it is considered that a majority a missing values stem from older decades."
   ]
  },
  {
   "cell_type": "code",
   "execution_count": 3770,
   "metadata": {},
   "outputs": [],
   "source": [
    "construction_year_mean = training_data[(training_data[\"construction_year\"] != 0)][\"construction_year\"].describe()[1]"
   ]
  },
  {
   "cell_type": "code",
   "execution_count": 3771,
   "metadata": {},
   "outputs": [],
   "source": [
    "training_data[\"construction_year\"] = training_data[\"construction_year\"].replace({0:construction_year_mean}).astype('int64')"
   ]
  },
  {
   "cell_type": "code",
   "execution_count": 3772,
   "metadata": {},
   "outputs": [
    {
     "data": {
      "text/plain": [
       "1996    36.228956\n",
       "2010     4.452862\n",
       "2008     4.398990\n",
       "2009     4.264310\n",
       "2000     3.520202\n",
       "2007     2.671717\n",
       "2006     2.476431\n",
       "2003     2.164983\n",
       "2011     2.114478\n",
       "2004     1.890572\n",
       "2012     1.824916\n",
       "2002     1.809764\n",
       "1978     1.745791\n",
       "1995     1.707071\n",
       "2005     1.702020\n",
       "1999     1.648148\n",
       "1998     1.626263\n",
       "1990     1.606061\n",
       "1985     1.590909\n",
       "1980     1.365320\n",
       "1984     1.311448\n",
       "1982     1.252525\n",
       "1994     1.242424\n",
       "1972     1.191919\n",
       "1974     1.138047\n",
       "1997     1.084175\n",
       "1992     1.077441\n",
       "1993     1.023569\n",
       "2001     0.909091\n",
       "1988     0.877104\n",
       "1983     0.821549\n",
       "1975     0.735690\n",
       "1986     0.730640\n",
       "1976     0.696970\n",
       "1970     0.691919\n",
       "1991     0.545455\n",
       "1989     0.531987\n",
       "1987     0.508418\n",
       "1981     0.400673\n",
       "1977     0.340067\n",
       "1979     0.323232\n",
       "1973     0.309764\n",
       "2013     0.296296\n",
       "1971     0.244108\n",
       "1960     0.171717\n",
       "1967     0.148148\n",
       "1963     0.143098\n",
       "1968     0.129630\n",
       "1969     0.099327\n",
       "1964     0.067340\n",
       "1962     0.050505\n",
       "1961     0.035354\n",
       "1965     0.031987\n",
       "1966     0.028620\n",
       "Name: construction_year, dtype: float64"
      ]
     },
     "execution_count": 3772,
     "metadata": {},
     "output_type": "execute_result"
    }
   ],
   "source": [
    "training_data[\"construction_year\"].value_counts()/len(training_data)*100"
   ]
  },
  {
   "cell_type": "markdown",
   "metadata": {},
   "source": [
    "##### Conclusion from exploring numeric values\n",
    "- `Amount_tsh` was dropped\n",
    "- `GPS Height` remains as it is\n",
    "- `Longitude` remains as is\n",
    "- For `latitude`, we imputed the 0 values with the mean since it does not make sense to have a latitude of 0 in Tanzania\n",
    "- `Num private` was dropped\n",
    "- `Region code and district code` are categorical values and remain as they are \n",
    "- `Population` needs to be imputed with the median for the years listed as zero\n",
    "- `Permit` is an intuitive binary feature with Boolean values (True or False)\n",
    "- `Construction year` will be imputed with the mean of non-zero years for the years listed as zero"
   ]
  },
  {
   "cell_type": "markdown",
   "metadata": {},
   "source": [
    "Let's look at our new data"
   ]
  },
  {
   "cell_type": "code",
   "execution_count": 3773,
   "metadata": {},
   "outputs": [
    {
     "data": {
      "text/plain": [
       "Index(['id', 'date_recorded', 'gps_height', 'installer', 'longitude',\n",
       "       'latitude', 'wpt_name', 'basin', 'region', 'region_code',\n",
       "       'district_code', 'lga', 'ward', 'population', 'public_meeting',\n",
       "       'recorded_by', 'permit', 'construction_year', 'extraction_type_class',\n",
       "       'management', 'management_group', 'payment', 'water_quality',\n",
       "       'quantity', 'source', 'waterpoint_type', 'status_group'],\n",
       "      dtype='object')"
      ]
     },
     "execution_count": 3773,
     "metadata": {},
     "output_type": "execute_result"
    }
   ],
   "source": [
    "training_data.columns"
   ]
  },
  {
   "cell_type": "markdown",
   "metadata": {},
   "source": [
    "## Explore the columns inferred as non-numeric\n",
    "Initially all these columns are inferred as type object"
   ]
  },
  {
   "cell_type": "code",
   "execution_count": 3774,
   "metadata": {},
   "outputs": [
    {
     "data": {
      "text/plain": [
       "['date_recorded',\n",
       " 'installer',\n",
       " 'wpt_name',\n",
       " 'basin',\n",
       " 'region',\n",
       " 'lga',\n",
       " 'ward',\n",
       " 'recorded_by',\n",
       " 'extraction_type_class',\n",
       " 'management',\n",
       " 'management_group',\n",
       " 'payment',\n",
       " 'water_quality',\n",
       " 'quantity',\n",
       " 'source',\n",
       " 'waterpoint_type',\n",
       " 'status_group']"
      ]
     },
     "execution_count": 3774,
     "metadata": {},
     "output_type": "execute_result"
    }
   ],
   "source": [
    "categorical_columns = [col for col in training_data.columns if training_data[col].dtypes == 'O']\n",
    "\n",
    "categorical_columns"
   ]
  },
  {
   "cell_type": "code",
   "execution_count": 3775,
   "metadata": {},
   "outputs": [
    {
     "data": {
      "text/plain": [
       "date_recorded               0\n",
       "installer                3655\n",
       "wpt_name                    0\n",
       "basin                       0\n",
       "region                      0\n",
       "lga                         0\n",
       "ward                        0\n",
       "recorded_by                 0\n",
       "extraction_type_class       0\n",
       "management                  0\n",
       "management_group            0\n",
       "payment                     0\n",
       "water_quality               0\n",
       "quantity                    0\n",
       "source                      0\n",
       "waterpoint_type             0\n",
       "status_group                0\n",
       "dtype: int64"
      ]
     },
     "execution_count": 3775,
     "metadata": {},
     "output_type": "execute_result"
    }
   ],
   "source": [
    "training_data[categorical_columns].isnull().sum()"
   ]
  },
  {
   "cell_type": "markdown",
   "metadata": {},
   "source": [
    "##### Date_recorded"
   ]
  },
  {
   "cell_type": "markdown",
   "metadata": {},
   "source": [
    "We can see that the data type of `Date` variable is object. I will parse the date currently coded as object into datetime format."
   ]
  },
  {
   "cell_type": "code",
   "execution_count": 3776,
   "metadata": {},
   "outputs": [],
   "source": [
    "training_data[\"date_recorded\"] = pd.to_datetime(training_data[\"date_recorded\"])"
   ]
  },
  {
   "cell_type": "code",
   "execution_count": 3777,
   "metadata": {},
   "outputs": [
    {
     "data": {
      "text/plain": [
       "0    2011\n",
       "1    2013\n",
       "2    2013\n",
       "3    2013\n",
       "4    2011\n",
       "Name: year_recorded, dtype: int64"
      ]
     },
     "execution_count": 3777,
     "metadata": {},
     "output_type": "execute_result"
    }
   ],
   "source": [
    "# extract year from date\n",
    "\n",
    "training_data['year_recorded'] = training_data['date_recorded'].dt.year\n",
    "training_data['year_recorded'].head()"
   ]
  },
  {
   "cell_type": "code",
   "execution_count": 3778,
   "metadata": {},
   "outputs": [
    {
     "data": {
      "text/plain": [
       "0    3\n",
       "1    3\n",
       "2    2\n",
       "3    1\n",
       "4    7\n",
       "Name: month_recorded, dtype: int64"
      ]
     },
     "execution_count": 3778,
     "metadata": {},
     "output_type": "execute_result"
    }
   ],
   "source": [
    "training_data['month_recorded'] = training_data['date_recorded'].dt.month\n",
    "\n",
    "training_data['month_recorded'].head()"
   ]
  },
  {
   "cell_type": "code",
   "execution_count": 3779,
   "metadata": {},
   "outputs": [
    {
     "data": {
      "text/plain": [
       "0    14\n",
       "1     6\n",
       "2    25\n",
       "3    28\n",
       "4    13\n",
       "Name: day_recorded, dtype: int64"
      ]
     },
     "execution_count": 3779,
     "metadata": {},
     "output_type": "execute_result"
    }
   ],
   "source": [
    "# extract day from date\n",
    "\n",
    "training_data['day_recorded'] = training_data['date_recorded'].dt.day\n",
    "\n",
    "training_data['day_recorded'].head()"
   ]
  },
  {
   "cell_type": "code",
   "execution_count": 3780,
   "metadata": {},
   "outputs": [
    {
     "name": "stdout",
     "output_type": "stream",
     "text": [
      "<class 'pandas.core.frame.DataFrame'>\n",
      "Int64Index: 59400 entries, 0 to 59399\n",
      "Data columns (total 30 columns):\n",
      " #   Column                 Non-Null Count  Dtype         \n",
      "---  ------                 --------------  -----         \n",
      " 0   id                     59400 non-null  int64         \n",
      " 1   date_recorded          59400 non-null  datetime64[ns]\n",
      " 2   gps_height             59400 non-null  int64         \n",
      " 3   installer              55745 non-null  object        \n",
      " 4   longitude              59400 non-null  float64       \n",
      " 5   latitude               59400 non-null  float64       \n",
      " 6   wpt_name               59400 non-null  object        \n",
      " 7   basin                  59400 non-null  object        \n",
      " 8   region                 59400 non-null  object        \n",
      " 9   region_code            59400 non-null  int64         \n",
      " 10  district_code          59400 non-null  int64         \n",
      " 11  lga                    59400 non-null  object        \n",
      " 12  ward                   59400 non-null  object        \n",
      " 13  population             59400 non-null  int64         \n",
      " 14  public_meeting         59400 non-null  category      \n",
      " 15  recorded_by            59400 non-null  object        \n",
      " 16  permit                 59400 non-null  bool          \n",
      " 17  construction_year      59400 non-null  int64         \n",
      " 18  extraction_type_class  59400 non-null  object        \n",
      " 19  management             59400 non-null  object        \n",
      " 20  management_group       59400 non-null  object        \n",
      " 21  payment                59400 non-null  object        \n",
      " 22  water_quality          59400 non-null  object        \n",
      " 23  quantity               59400 non-null  object        \n",
      " 24  source                 59400 non-null  object        \n",
      " 25  waterpoint_type        59400 non-null  object        \n",
      " 26  status_group           59400 non-null  object        \n",
      " 27  year_recorded          59400 non-null  int64         \n",
      " 28  month_recorded         59400 non-null  int64         \n",
      " 29  day_recorded           59400 non-null  int64         \n",
      "dtypes: bool(1), category(1), datetime64[ns](1), float64(2), int64(9), object(16)\n",
      "memory usage: 13.3+ MB\n"
     ]
    }
   ],
   "source": [
    "# again view the summary of dataset\n",
    "\n",
    "training_data.info()"
   ]
  },
  {
   "cell_type": "markdown",
   "metadata": {},
   "source": [
    "We can see that there are three additional columns created from `date_recorded` variable. Now, I will drop the original `date_recorded` variable from the dataset."
   ]
  },
  {
   "cell_type": "code",
   "execution_count": 3781,
   "metadata": {},
   "outputs": [],
   "source": [
    "training_data.drop('date_recorded', axis=1, inplace = True)"
   ]
  },
  {
   "cell_type": "code",
   "execution_count": 3782,
   "metadata": {},
   "outputs": [
    {
     "data": {
      "text/html": [
       "<div>\n",
       "<style scoped>\n",
       "    .dataframe tbody tr th:only-of-type {\n",
       "        vertical-align: middle;\n",
       "    }\n",
       "\n",
       "    .dataframe tbody tr th {\n",
       "        vertical-align: top;\n",
       "    }\n",
       "\n",
       "    .dataframe thead th {\n",
       "        text-align: right;\n",
       "    }\n",
       "</style>\n",
       "<table border=\"1\" class=\"dataframe\">\n",
       "  <thead>\n",
       "    <tr style=\"text-align: right;\">\n",
       "      <th></th>\n",
       "      <th>id</th>\n",
       "      <th>gps_height</th>\n",
       "      <th>installer</th>\n",
       "      <th>longitude</th>\n",
       "      <th>latitude</th>\n",
       "      <th>wpt_name</th>\n",
       "      <th>basin</th>\n",
       "      <th>region</th>\n",
       "      <th>region_code</th>\n",
       "      <th>district_code</th>\n",
       "      <th>...</th>\n",
       "      <th>management_group</th>\n",
       "      <th>payment</th>\n",
       "      <th>water_quality</th>\n",
       "      <th>quantity</th>\n",
       "      <th>source</th>\n",
       "      <th>waterpoint_type</th>\n",
       "      <th>status_group</th>\n",
       "      <th>year_recorded</th>\n",
       "      <th>month_recorded</th>\n",
       "      <th>day_recorded</th>\n",
       "    </tr>\n",
       "  </thead>\n",
       "  <tbody>\n",
       "    <tr>\n",
       "      <th>0</th>\n",
       "      <td>69572</td>\n",
       "      <td>1390</td>\n",
       "      <td>Roman</td>\n",
       "      <td>34.938093</td>\n",
       "      <td>-9.856322</td>\n",
       "      <td>none</td>\n",
       "      <td>Lake Nyasa</td>\n",
       "      <td>Iringa</td>\n",
       "      <td>11</td>\n",
       "      <td>5</td>\n",
       "      <td>...</td>\n",
       "      <td>user-group</td>\n",
       "      <td>pay annually</td>\n",
       "      <td>soft</td>\n",
       "      <td>enough</td>\n",
       "      <td>spring</td>\n",
       "      <td>communal standpipe</td>\n",
       "      <td>functional</td>\n",
       "      <td>2011</td>\n",
       "      <td>3</td>\n",
       "      <td>14</td>\n",
       "    </tr>\n",
       "    <tr>\n",
       "      <th>1</th>\n",
       "      <td>8776</td>\n",
       "      <td>1399</td>\n",
       "      <td>GRUMETI</td>\n",
       "      <td>34.698766</td>\n",
       "      <td>-2.147466</td>\n",
       "      <td>Zahanati</td>\n",
       "      <td>Lake Victoria</td>\n",
       "      <td>Mara</td>\n",
       "      <td>20</td>\n",
       "      <td>2</td>\n",
       "      <td>...</td>\n",
       "      <td>user-group</td>\n",
       "      <td>never pay</td>\n",
       "      <td>soft</td>\n",
       "      <td>insufficient</td>\n",
       "      <td>rainwater harvesting</td>\n",
       "      <td>communal standpipe</td>\n",
       "      <td>functional</td>\n",
       "      <td>2013</td>\n",
       "      <td>3</td>\n",
       "      <td>6</td>\n",
       "    </tr>\n",
       "    <tr>\n",
       "      <th>2</th>\n",
       "      <td>34310</td>\n",
       "      <td>686</td>\n",
       "      <td>World vision</td>\n",
       "      <td>37.460664</td>\n",
       "      <td>-3.821329</td>\n",
       "      <td>Kwa Mahundi</td>\n",
       "      <td>Pangani</td>\n",
       "      <td>Manyara</td>\n",
       "      <td>21</td>\n",
       "      <td>4</td>\n",
       "      <td>...</td>\n",
       "      <td>user-group</td>\n",
       "      <td>pay per bucket</td>\n",
       "      <td>soft</td>\n",
       "      <td>enough</td>\n",
       "      <td>dam</td>\n",
       "      <td>communal standpipe multiple</td>\n",
       "      <td>functional</td>\n",
       "      <td>2013</td>\n",
       "      <td>2</td>\n",
       "      <td>25</td>\n",
       "    </tr>\n",
       "    <tr>\n",
       "      <th>3</th>\n",
       "      <td>67743</td>\n",
       "      <td>263</td>\n",
       "      <td>UNICEF</td>\n",
       "      <td>38.486161</td>\n",
       "      <td>-11.155298</td>\n",
       "      <td>Zahanati Ya Nanyumbu</td>\n",
       "      <td>Ruvuma / Southern Coast</td>\n",
       "      <td>Mtwara</td>\n",
       "      <td>90</td>\n",
       "      <td>63</td>\n",
       "      <td>...</td>\n",
       "      <td>user-group</td>\n",
       "      <td>never pay</td>\n",
       "      <td>soft</td>\n",
       "      <td>dry</td>\n",
       "      <td>machine dbh</td>\n",
       "      <td>communal standpipe multiple</td>\n",
       "      <td>non functional</td>\n",
       "      <td>2013</td>\n",
       "      <td>1</td>\n",
       "      <td>28</td>\n",
       "    </tr>\n",
       "    <tr>\n",
       "      <th>4</th>\n",
       "      <td>19728</td>\n",
       "      <td>0</td>\n",
       "      <td>Artisan</td>\n",
       "      <td>31.130847</td>\n",
       "      <td>-1.825359</td>\n",
       "      <td>Shuleni</td>\n",
       "      <td>Lake Victoria</td>\n",
       "      <td>Kagera</td>\n",
       "      <td>18</td>\n",
       "      <td>1</td>\n",
       "      <td>...</td>\n",
       "      <td>other</td>\n",
       "      <td>never pay</td>\n",
       "      <td>soft</td>\n",
       "      <td>seasonal</td>\n",
       "      <td>rainwater harvesting</td>\n",
       "      <td>communal standpipe</td>\n",
       "      <td>functional</td>\n",
       "      <td>2011</td>\n",
       "      <td>7</td>\n",
       "      <td>13</td>\n",
       "    </tr>\n",
       "  </tbody>\n",
       "</table>\n",
       "<p>5 rows × 29 columns</p>\n",
       "</div>"
      ],
      "text/plain": [
       "      id  gps_height     installer  longitude   latitude  \\\n",
       "0  69572        1390         Roman  34.938093  -9.856322   \n",
       "1   8776        1399       GRUMETI  34.698766  -2.147466   \n",
       "2  34310         686  World vision  37.460664  -3.821329   \n",
       "3  67743         263        UNICEF  38.486161 -11.155298   \n",
       "4  19728           0       Artisan  31.130847  -1.825359   \n",
       "\n",
       "               wpt_name                    basin   region  region_code  \\\n",
       "0                  none               Lake Nyasa   Iringa           11   \n",
       "1              Zahanati            Lake Victoria     Mara           20   \n",
       "2           Kwa Mahundi                  Pangani  Manyara           21   \n",
       "3  Zahanati Ya Nanyumbu  Ruvuma / Southern Coast   Mtwara           90   \n",
       "4               Shuleni            Lake Victoria   Kagera           18   \n",
       "\n",
       "   district_code  ... management_group         payment  water_quality  \\\n",
       "0              5  ...       user-group    pay annually           soft   \n",
       "1              2  ...       user-group       never pay           soft   \n",
       "2              4  ...       user-group  pay per bucket           soft   \n",
       "3             63  ...       user-group       never pay           soft   \n",
       "4              1  ...            other       never pay           soft   \n",
       "\n",
       "       quantity                source              waterpoint_type  \\\n",
       "0        enough                spring           communal standpipe   \n",
       "1  insufficient  rainwater harvesting           communal standpipe   \n",
       "2        enough                   dam  communal standpipe multiple   \n",
       "3           dry           machine dbh  communal standpipe multiple   \n",
       "4      seasonal  rainwater harvesting           communal standpipe   \n",
       "\n",
       "     status_group year_recorded month_recorded day_recorded  \n",
       "0      functional          2011              3           14  \n",
       "1      functional          2013              3            6  \n",
       "2      functional          2013              2           25  \n",
       "3  non functional          2013              1           28  \n",
       "4      functional          2011              7           13  \n",
       "\n",
       "[5 rows x 29 columns]"
      ]
     },
     "execution_count": 3782,
     "metadata": {},
     "output_type": "execute_result"
    }
   ],
   "source": [
    "training_data.head()"
   ]
  },
  {
   "cell_type": "markdown",
   "metadata": {},
   "source": [
    "##### Installer"
   ]
  },
  {
   "cell_type": "code",
   "execution_count": 3783,
   "metadata": {},
   "outputs": [
    {
     "data": {
      "text/plain": [
       "DWE                     29.296296\n",
       "NaN                      6.153199\n",
       "Government               3.072391\n",
       "RWE                      2.030303\n",
       "Commu                    1.784512\n",
       "                          ...    \n",
       "British government       0.001684\n",
       "Marke                    0.001684\n",
       "Tansi                    0.001684\n",
       "Masjid Nnre              0.001684\n",
       "COMPASION INTERNATIO     0.001684\n",
       "Name: installer, Length: 2146, dtype: float64"
      ]
     },
     "execution_count": 3783,
     "metadata": {},
     "output_type": "execute_result"
    }
   ],
   "source": [
    "training_data[\"installer\"].value_counts(dropna = False)/len(training_data)*100"
   ]
  },
  {
   "cell_type": "markdown",
   "metadata": {},
   "source": [
    "Given the scatter of installers with only one entry, and that with 2146 different funders it seems complicated to find a common cluster parameter for the specific feature, it is decided to drop installer."
   ]
  },
  {
   "cell_type": "markdown",
   "metadata": {},
   "source": [
    "##### wpt_name"
   ]
  },
  {
   "cell_type": "code",
   "execution_count": 3784,
   "metadata": {},
   "outputs": [
    {
     "data": {
      "text/plain": [
       "none                           5.998316\n",
       "Shuleni                        2.942761\n",
       "Zahanati                       1.397306\n",
       "Msikitini                      0.900673\n",
       "Kanisani                       0.543771\n",
       "                                 ...   \n",
       "Kibaha Independent School 1    0.001684\n",
       "Kwa Michael Masika             0.001684\n",
       "Ulyampiti Primary              0.001684\n",
       "Kwa Maganiko                   0.001684\n",
       "Upokeaji                       0.001684\n",
       "Name: wpt_name, Length: 37400, dtype: float64"
      ]
     },
     "execution_count": 3784,
     "metadata": {},
     "output_type": "execute_result"
    }
   ],
   "source": [
    "training_data[\"wpt_name\"].value_counts()/len(training_data)*100"
   ]
  },
  {
   "cell_type": "markdown",
   "metadata": {},
   "source": [
    "`wpt_name` should play the role of a label but it has null values (\"none\") and it is not unique (also, the numeric column id is already a valid index). Hence, `wpt_name` is dropped."
   ]
  },
  {
   "cell_type": "code",
   "execution_count": 3785,
   "metadata": {},
   "outputs": [],
   "source": [
    "training_data.drop('wpt_name', axis=1, inplace = True)"
   ]
  },
  {
   "cell_type": "markdown",
   "metadata": {},
   "source": [
    "##### Basin"
   ]
  },
  {
   "cell_type": "code",
   "execution_count": 3786,
   "metadata": {},
   "outputs": [
    {
     "data": {
      "text/plain": [
       "Lake Victoria              17.252525\n",
       "Pangani                    15.050505\n",
       "Rufiji                     13.427609\n",
       "Internal                   13.106061\n",
       "Lake Tanganyika            10.828283\n",
       "Wami / Ruvu                10.079125\n",
       "Lake Nyasa                  8.560606\n",
       "Ruvuma / Southern Coast     7.563973\n",
       "Lake Rukwa                  4.131313\n",
       "Name: basin, dtype: float64"
      ]
     },
     "execution_count": 3786,
     "metadata": {},
     "output_type": "execute_result"
    }
   ],
   "source": [
    "training_data[\"basin\"].value_counts()/len(training_data)*100"
   ]
  },
  {
   "cell_type": "markdown",
   "metadata": {},
   "source": [
    "basin is a nice clustering feature (hydrographic clustering) and has no null values."
   ]
  },
  {
   "cell_type": "markdown",
   "metadata": {},
   "source": [
    "##### Region"
   ]
  },
  {
   "cell_type": "code",
   "execution_count": 3787,
   "metadata": {},
   "outputs": [
    {
     "data": {
      "text/plain": [
       "Iringa           8.912458\n",
       "Shinyanga        8.387205\n",
       "Mbeya            7.809764\n",
       "Kilimanjaro      7.372054\n",
       "Morogoro         6.744108\n",
       "Arusha           5.639731\n",
       "Kagera           5.582492\n",
       "Mwanza           5.222222\n",
       "Kigoma           4.740741\n",
       "Ruvuma           4.444444\n",
       "Pwani            4.436027\n",
       "Tanga            4.287879\n",
       "Dodoma           3.705387\n",
       "Singida          3.523569\n",
       "Mara             3.314815\n",
       "Tabora           3.297980\n",
       "Rukwa            3.043771\n",
       "Mtwara           2.912458\n",
       "Manyara          2.664983\n",
       "Lindi            2.602694\n",
       "Dar es Salaam    1.355219\n",
       "Name: region, dtype: float64"
      ]
     },
     "execution_count": 3787,
     "metadata": {},
     "output_type": "execute_result"
    }
   ],
   "source": [
    "training_data[\"region\"].value_counts()/len(training_data)*100"
   ]
  },
  {
   "cell_type": "markdown",
   "metadata": {},
   "source": [
    "There are 21 distinct values, whereas region_code had 27. Either of them could work as geographic clustering feature."
   ]
  },
  {
   "cell_type": "markdown",
   "metadata": {},
   "source": [
    "##### Lga"
   ]
  },
  {
   "cell_type": "code",
   "execution_count": 3788,
   "metadata": {},
   "outputs": [
    {
     "data": {
      "text/plain": [
       "Njombe          4.213805\n",
       "Arusha Rural    2.107744\n",
       "Moshi Rural     2.106061\n",
       "Bariadi         1.981481\n",
       "Rungwe          1.861953\n",
       "                  ...   \n",
       "Moshi Urban     0.132997\n",
       "Kigoma Urban    0.119529\n",
       "Arusha Urban    0.106061\n",
       "Lindi Urban     0.035354\n",
       "Nyamagana       0.001684\n",
       "Name: lga, Length: 125, dtype: float64"
      ]
     },
     "execution_count": 3788,
     "metadata": {},
     "output_type": "execute_result"
    }
   ],
   "source": [
    "training_data[\"lga\"].value_counts()/len(training_data)*100"
   ]
  },
  {
   "cell_type": "markdown",
   "metadata": {},
   "source": [
    "`lga` could be an administrative/political clustering feature, but it has too many levels and classification is not intuitive. Therefore, this feature is dropped."
   ]
  },
  {
   "cell_type": "code",
   "execution_count": 3789,
   "metadata": {},
   "outputs": [],
   "source": [
    "training_data.drop('lga', axis=1, inplace=True)"
   ]
  },
  {
   "cell_type": "markdown",
   "metadata": {},
   "source": [
    "##### Ward"
   ]
  },
  {
   "cell_type": "code",
   "execution_count": 3790,
   "metadata": {},
   "outputs": [
    {
     "data": {
      "text/plain": [
       "Igosi        0.516835\n",
       "Imalinyi     0.424242\n",
       "Siha Kati    0.390572\n",
       "Mdandu       0.388889\n",
       "Nduruma      0.365320\n",
       "               ...   \n",
       "Mitole       0.001684\n",
       "Thawi        0.001684\n",
       "Kapilula     0.001684\n",
       "Simbay       0.001684\n",
       "Ikweha       0.001684\n",
       "Name: ward, Length: 2092, dtype: float64"
      ]
     },
     "execution_count": 3790,
     "metadata": {},
     "output_type": "execute_result"
    }
   ],
   "source": [
    "training_data[\"ward\"].value_counts()/len(training_data)*100"
   ]
  },
  {
   "cell_type": "markdown",
   "metadata": {},
   "source": [
    "`ward` seems too scattered to be informative (not one value accounts for even 0.6%) and is therefore dropped."
   ]
  },
  {
   "cell_type": "code",
   "execution_count": 3791,
   "metadata": {},
   "outputs": [],
   "source": [
    "training_data.drop('ward', axis=1, inplace=True)"
   ]
  },
  {
   "cell_type": "code",
   "execution_count": 3792,
   "metadata": {},
   "outputs": [
    {
     "data": {
      "text/plain": [
       "True       51011\n",
       "False       5055\n",
       "Unknown     3334\n",
       "Name: public_meeting, dtype: int64"
      ]
     },
     "execution_count": 3792,
     "metadata": {},
     "output_type": "execute_result"
    }
   ],
   "source": [
    "training_data['public_meeting'].value_counts()"
   ]
  },
  {
   "cell_type": "markdown",
   "metadata": {},
   "source": [
    "##### Recorded by"
   ]
  },
  {
   "cell_type": "code",
   "execution_count": 3793,
   "metadata": {},
   "outputs": [
    {
     "data": {
      "text/plain": [
       "GeoData Consultants Ltd    100.0\n",
       "Name: recorded_by, dtype: float64"
      ]
     },
     "execution_count": 3793,
     "metadata": {},
     "output_type": "execute_result"
    }
   ],
   "source": [
    "training_data[\"recorded_by\"].value_counts()/len(training_data)*100"
   ]
  },
  {
   "cell_type": "markdown",
   "metadata": {},
   "source": [
    "`recorded_by` comprises only one value, constant across the whole dataset. This feature is uninformative and must be dropped."
   ]
  },
  {
   "cell_type": "code",
   "execution_count": 3794,
   "metadata": {},
   "outputs": [],
   "source": [
    "training_data.drop('recorded_by', axis=1, inplace=True)"
   ]
  },
  {
   "cell_type": "markdown",
   "metadata": {},
   "source": [
    "##### Scheme name\n",
    "Scheme name was dropped when dealing with null values"
   ]
  },
  {
   "cell_type": "markdown",
   "metadata": {},
   "source": [
    "##### Extraction type class\n",
    "This was handled when eliminating redundant categories"
   ]
  },
  {
   "cell_type": "markdown",
   "metadata": {},
   "source": [
    "##### Management\n",
    "This was handled when dealing with redundant categories"
   ]
  },
  {
   "cell_type": "code",
   "execution_count": 3795,
   "metadata": {},
   "outputs": [
    {
     "data": {
      "text/plain": [
       "vwc                 40507\n",
       "wug                  6515\n",
       "water board          2933\n",
       "wua                  2535\n",
       "private operator     1971\n",
       "parastatal           1768\n",
       "water authority       904\n",
       "other                 844\n",
       "company               685\n",
       "unknown               561\n",
       "other - school         99\n",
       "trust                  78\n",
       "Name: management, dtype: int64"
      ]
     },
     "execution_count": 3795,
     "metadata": {},
     "output_type": "execute_result"
    }
   ],
   "source": [
    "training_data['management'].value_counts()"
   ]
  },
  {
   "cell_type": "markdown",
   "metadata": {},
   "source": [
    "##### Management Group"
   ]
  },
  {
   "cell_type": "code",
   "execution_count": 3796,
   "metadata": {},
   "outputs": [
    {
     "data": {
      "text/plain": [
       "user-group    52490\n",
       "commercial     3638\n",
       "parastatal     1768\n",
       "other           943\n",
       "unknown         561\n",
       "Name: management_group, dtype: int64"
      ]
     },
     "execution_count": 3796,
     "metadata": {},
     "output_type": "execute_result"
    }
   ],
   "source": [
    "training_data['management_group'].value_counts()"
   ]
  },
  {
   "cell_type": "markdown",
   "metadata": {},
   "source": [
    "management_group is chosen over management. It has nulls (0.91%) as unknown that are handled after dummification.  \n",
    "We will drop the management column"
   ]
  },
  {
   "cell_type": "code",
   "execution_count": 3797,
   "metadata": {},
   "outputs": [],
   "source": [
    "training_data.drop('management', axis=1, inplace=True)"
   ]
  },
  {
   "cell_type": "markdown",
   "metadata": {},
   "source": [
    "##### Payment\n",
    "This was dealt with when dealing with redundant columns"
   ]
  },
  {
   "cell_type": "markdown",
   "metadata": {},
   "source": [
    "##### Water Quality\n",
    "This was dealt with when dealing with redundant columns"
   ]
  },
  {
   "cell_type": "markdown",
   "metadata": {},
   "source": [
    "##### Quantity "
   ]
  },
  {
   "cell_type": "code",
   "execution_count": 3798,
   "metadata": {},
   "outputs": [
    {
     "data": {
      "text/plain": [
       "enough          55.868687\n",
       "insufficient    25.469697\n",
       "dry             10.515152\n",
       "seasonal         6.818182\n",
       "unknown          1.328283\n",
       "Name: quantity, dtype: float64"
      ]
     },
     "execution_count": 3798,
     "metadata": {},
     "output_type": "execute_result"
    }
   ],
   "source": [
    "training_data[\"quantity\"].value_counts()/len(training_data)*100"
   ]
  },
  {
   "cell_type": "markdown",
   "metadata": {},
   "source": [
    "##### Source"
   ]
  },
  {
   "cell_type": "markdown",
   "metadata": {},
   "source": [
    "This was dealt with when dealing with redundant columns"
   ]
  },
  {
   "cell_type": "markdown",
   "metadata": {},
   "source": [
    "##### Waterpoint Type\n",
    "This was dealt with when dealing with redundant columns"
   ]
  },
  {
   "cell_type": "markdown",
   "metadata": {},
   "source": [
    "##### Conclusion from dealing with non-numeric columns"
   ]
  },
  {
   "cell_type": "markdown",
   "metadata": {},
   "source": [
    "The following columns were dropped:  \n",
    "- `wpt_name`, `installer`, `recorded_by`, `scheme_name`\n",
    "\n",
    "The following columns were kept:\n",
    "- `date_recorded` was converted into datetime format\n",
    "- `basin` was kept\n",
    "- `region`\n",
    "- `lga`\n",
    "- `ward`\n",
    "- `extraction_type_class`\n",
    "- `management_group`\n",
    "- `payment`\n",
    "- `water_quality`\n",
    "- `source`\n",
    "- `waterpoint_type`"
   ]
  },
  {
   "cell_type": "markdown",
   "metadata": {},
   "source": [
    "Let's look at our new dataset"
   ]
  },
  {
   "cell_type": "code",
   "execution_count": 3799,
   "metadata": {},
   "outputs": [
    {
     "data": {
      "text/html": [
       "<div>\n",
       "<style scoped>\n",
       "    .dataframe tbody tr th:only-of-type {\n",
       "        vertical-align: middle;\n",
       "    }\n",
       "\n",
       "    .dataframe tbody tr th {\n",
       "        vertical-align: top;\n",
       "    }\n",
       "\n",
       "    .dataframe thead th {\n",
       "        text-align: right;\n",
       "    }\n",
       "</style>\n",
       "<table border=\"1\" class=\"dataframe\">\n",
       "  <thead>\n",
       "    <tr style=\"text-align: right;\">\n",
       "      <th></th>\n",
       "      <th>id</th>\n",
       "      <th>gps_height</th>\n",
       "      <th>installer</th>\n",
       "      <th>longitude</th>\n",
       "      <th>latitude</th>\n",
       "      <th>basin</th>\n",
       "      <th>region</th>\n",
       "      <th>region_code</th>\n",
       "      <th>district_code</th>\n",
       "      <th>population</th>\n",
       "      <th>...</th>\n",
       "      <th>management_group</th>\n",
       "      <th>payment</th>\n",
       "      <th>water_quality</th>\n",
       "      <th>quantity</th>\n",
       "      <th>source</th>\n",
       "      <th>waterpoint_type</th>\n",
       "      <th>status_group</th>\n",
       "      <th>year_recorded</th>\n",
       "      <th>month_recorded</th>\n",
       "      <th>day_recorded</th>\n",
       "    </tr>\n",
       "  </thead>\n",
       "  <tbody>\n",
       "    <tr>\n",
       "      <th>0</th>\n",
       "      <td>69572</td>\n",
       "      <td>1390</td>\n",
       "      <td>Roman</td>\n",
       "      <td>34.938093</td>\n",
       "      <td>-9.856322</td>\n",
       "      <td>Lake Nyasa</td>\n",
       "      <td>Iringa</td>\n",
       "      <td>11</td>\n",
       "      <td>5</td>\n",
       "      <td>109</td>\n",
       "      <td>...</td>\n",
       "      <td>user-group</td>\n",
       "      <td>pay annually</td>\n",
       "      <td>soft</td>\n",
       "      <td>enough</td>\n",
       "      <td>spring</td>\n",
       "      <td>communal standpipe</td>\n",
       "      <td>functional</td>\n",
       "      <td>2011</td>\n",
       "      <td>3</td>\n",
       "      <td>14</td>\n",
       "    </tr>\n",
       "    <tr>\n",
       "      <th>1</th>\n",
       "      <td>8776</td>\n",
       "      <td>1399</td>\n",
       "      <td>GRUMETI</td>\n",
       "      <td>34.698766</td>\n",
       "      <td>-2.147466</td>\n",
       "      <td>Lake Victoria</td>\n",
       "      <td>Mara</td>\n",
       "      <td>20</td>\n",
       "      <td>2</td>\n",
       "      <td>280</td>\n",
       "      <td>...</td>\n",
       "      <td>user-group</td>\n",
       "      <td>never pay</td>\n",
       "      <td>soft</td>\n",
       "      <td>insufficient</td>\n",
       "      <td>rainwater harvesting</td>\n",
       "      <td>communal standpipe</td>\n",
       "      <td>functional</td>\n",
       "      <td>2013</td>\n",
       "      <td>3</td>\n",
       "      <td>6</td>\n",
       "    </tr>\n",
       "    <tr>\n",
       "      <th>2</th>\n",
       "      <td>34310</td>\n",
       "      <td>686</td>\n",
       "      <td>World vision</td>\n",
       "      <td>37.460664</td>\n",
       "      <td>-3.821329</td>\n",
       "      <td>Pangani</td>\n",
       "      <td>Manyara</td>\n",
       "      <td>21</td>\n",
       "      <td>4</td>\n",
       "      <td>250</td>\n",
       "      <td>...</td>\n",
       "      <td>user-group</td>\n",
       "      <td>pay per bucket</td>\n",
       "      <td>soft</td>\n",
       "      <td>enough</td>\n",
       "      <td>dam</td>\n",
       "      <td>communal standpipe multiple</td>\n",
       "      <td>functional</td>\n",
       "      <td>2013</td>\n",
       "      <td>2</td>\n",
       "      <td>25</td>\n",
       "    </tr>\n",
       "    <tr>\n",
       "      <th>3</th>\n",
       "      <td>67743</td>\n",
       "      <td>263</td>\n",
       "      <td>UNICEF</td>\n",
       "      <td>38.486161</td>\n",
       "      <td>-11.155298</td>\n",
       "      <td>Ruvuma / Southern Coast</td>\n",
       "      <td>Mtwara</td>\n",
       "      <td>90</td>\n",
       "      <td>63</td>\n",
       "      <td>58</td>\n",
       "      <td>...</td>\n",
       "      <td>user-group</td>\n",
       "      <td>never pay</td>\n",
       "      <td>soft</td>\n",
       "      <td>dry</td>\n",
       "      <td>machine dbh</td>\n",
       "      <td>communal standpipe multiple</td>\n",
       "      <td>non functional</td>\n",
       "      <td>2013</td>\n",
       "      <td>1</td>\n",
       "      <td>28</td>\n",
       "    </tr>\n",
       "    <tr>\n",
       "      <th>4</th>\n",
       "      <td>19728</td>\n",
       "      <td>0</td>\n",
       "      <td>Artisan</td>\n",
       "      <td>31.130847</td>\n",
       "      <td>-1.825359</td>\n",
       "      <td>Lake Victoria</td>\n",
       "      <td>Kagera</td>\n",
       "      <td>18</td>\n",
       "      <td>1</td>\n",
       "      <td>150</td>\n",
       "      <td>...</td>\n",
       "      <td>other</td>\n",
       "      <td>never pay</td>\n",
       "      <td>soft</td>\n",
       "      <td>seasonal</td>\n",
       "      <td>rainwater harvesting</td>\n",
       "      <td>communal standpipe</td>\n",
       "      <td>functional</td>\n",
       "      <td>2011</td>\n",
       "      <td>7</td>\n",
       "      <td>13</td>\n",
       "    </tr>\n",
       "  </tbody>\n",
       "</table>\n",
       "<p>5 rows × 24 columns</p>\n",
       "</div>"
      ],
      "text/plain": [
       "      id  gps_height     installer  longitude   latitude  \\\n",
       "0  69572        1390         Roman  34.938093  -9.856322   \n",
       "1   8776        1399       GRUMETI  34.698766  -2.147466   \n",
       "2  34310         686  World vision  37.460664  -3.821329   \n",
       "3  67743         263        UNICEF  38.486161 -11.155298   \n",
       "4  19728           0       Artisan  31.130847  -1.825359   \n",
       "\n",
       "                     basin   region  region_code  district_code  population  \\\n",
       "0               Lake Nyasa   Iringa           11              5         109   \n",
       "1            Lake Victoria     Mara           20              2         280   \n",
       "2                  Pangani  Manyara           21              4         250   \n",
       "3  Ruvuma / Southern Coast   Mtwara           90             63          58   \n",
       "4            Lake Victoria   Kagera           18              1         150   \n",
       "\n",
       "   ... management_group         payment  water_quality      quantity  \\\n",
       "0  ...       user-group    pay annually           soft        enough   \n",
       "1  ...       user-group       never pay           soft  insufficient   \n",
       "2  ...       user-group  pay per bucket           soft        enough   \n",
       "3  ...       user-group       never pay           soft           dry   \n",
       "4  ...            other       never pay           soft      seasonal   \n",
       "\n",
       "                 source              waterpoint_type    status_group  \\\n",
       "0                spring           communal standpipe      functional   \n",
       "1  rainwater harvesting           communal standpipe      functional   \n",
       "2                   dam  communal standpipe multiple      functional   \n",
       "3           machine dbh  communal standpipe multiple  non functional   \n",
       "4  rainwater harvesting           communal standpipe      functional   \n",
       "\n",
       "  year_recorded month_recorded day_recorded  \n",
       "0          2011              3           14  \n",
       "1          2013              3            6  \n",
       "2          2013              2           25  \n",
       "3          2013              1           28  \n",
       "4          2011              7           13  \n",
       "\n",
       "[5 rows x 24 columns]"
      ]
     },
     "execution_count": 3799,
     "metadata": {},
     "output_type": "execute_result"
    }
   ],
   "source": [
    "training_data.head()"
   ]
  },
  {
   "cell_type": "markdown",
   "metadata": {},
   "source": [
    "# Basic Model\n",
    "Create an initial dataframe dropping all the uninformative features, as well as the categorical features with a large number of levels:"
   ]
  },
  {
   "cell_type": "code",
   "execution_count": 3800,
   "metadata": {},
   "outputs": [],
   "source": [
    "initial_numeric_cols = [\"id\", \"gps_height\",\n",
    "                        \"population\",\n",
    "                        \"construction_year\"]"
   ]
  },
  {
   "cell_type": "code",
   "execution_count": 3801,
   "metadata": {},
   "outputs": [],
   "source": [
    "initial_object_cols = [\"basin\",\n",
    "                       \"month_recorded\",\n",
    "                       \"region\",\n",
    "                       \"public_meeting\",\n",
    "                       \"permit\",\n",
    "                       \"extraction_type_class\",\n",
    "                       \"management_group\",\n",
    "                       \"payment\",\n",
    "                       \"water_quality\",\n",
    "                       \"quantity\",\n",
    "                       \"source\",\n",
    "                       \"waterpoint_type\"]"
   ]
  },
  {
   "cell_type": "code",
   "execution_count": 3802,
   "metadata": {},
   "outputs": [],
   "source": [
    "Xy_init = training_data[initial_numeric_cols + initial_object_cols + [\"status_group\"]].copy()"
   ]
  },
  {
   "cell_type": "code",
   "execution_count": 3803,
   "metadata": {},
   "outputs": [],
   "source": [
    "Xy_init = Xy_init.set_index(\"id\")"
   ]
  },
  {
   "cell_type": "markdown",
   "metadata": {},
   "source": [
    "Check missing values"
   ]
  },
  {
   "cell_type": "code",
   "execution_count": 3804,
   "metadata": {},
   "outputs": [
    {
     "data": {
      "text/plain": [
       "gps_height               0\n",
       "population               0\n",
       "construction_year        0\n",
       "basin                    0\n",
       "month_recorded           0\n",
       "region                   0\n",
       "public_meeting           0\n",
       "permit                   0\n",
       "extraction_type_class    0\n",
       "management_group         0\n",
       "payment                  0\n",
       "water_quality            0\n",
       "quantity                 0\n",
       "source                   0\n",
       "waterpoint_type          0\n",
       "status_group             0\n",
       "dtype: int64"
      ]
     },
     "execution_count": 3804,
     "metadata": {},
     "output_type": "execute_result"
    }
   ],
   "source": [
    "Xy_init.isnull().sum()"
   ]
  },
  {
   "cell_type": "markdown",
   "metadata": {},
   "source": [
    "No missing values"
   ]
  },
  {
   "cell_type": "code",
   "execution_count": 3805,
   "metadata": {},
   "outputs": [
    {
     "data": {
      "text/html": [
       "<div>\n",
       "<style scoped>\n",
       "    .dataframe tbody tr th:only-of-type {\n",
       "        vertical-align: middle;\n",
       "    }\n",
       "\n",
       "    .dataframe tbody tr th {\n",
       "        vertical-align: top;\n",
       "    }\n",
       "\n",
       "    .dataframe thead th {\n",
       "        text-align: right;\n",
       "    }\n",
       "</style>\n",
       "<table border=\"1\" class=\"dataframe\">\n",
       "  <thead>\n",
       "    <tr style=\"text-align: right;\">\n",
       "      <th></th>\n",
       "      <th>gps_height</th>\n",
       "      <th>population</th>\n",
       "      <th>construction_year</th>\n",
       "      <th>basin</th>\n",
       "      <th>month_recorded</th>\n",
       "      <th>region</th>\n",
       "      <th>public_meeting</th>\n",
       "      <th>permit</th>\n",
       "      <th>extraction_type_class</th>\n",
       "      <th>management_group</th>\n",
       "      <th>payment</th>\n",
       "      <th>water_quality</th>\n",
       "      <th>quantity</th>\n",
       "      <th>source</th>\n",
       "      <th>waterpoint_type</th>\n",
       "      <th>status_group</th>\n",
       "    </tr>\n",
       "    <tr>\n",
       "      <th>id</th>\n",
       "      <th></th>\n",
       "      <th></th>\n",
       "      <th></th>\n",
       "      <th></th>\n",
       "      <th></th>\n",
       "      <th></th>\n",
       "      <th></th>\n",
       "      <th></th>\n",
       "      <th></th>\n",
       "      <th></th>\n",
       "      <th></th>\n",
       "      <th></th>\n",
       "      <th></th>\n",
       "      <th></th>\n",
       "      <th></th>\n",
       "      <th></th>\n",
       "    </tr>\n",
       "  </thead>\n",
       "  <tbody>\n",
       "    <tr>\n",
       "      <th>69572</th>\n",
       "      <td>1390</td>\n",
       "      <td>109</td>\n",
       "      <td>1999</td>\n",
       "      <td>Lake Nyasa</td>\n",
       "      <td>3</td>\n",
       "      <td>Iringa</td>\n",
       "      <td>True</td>\n",
       "      <td>False</td>\n",
       "      <td>gravity</td>\n",
       "      <td>user-group</td>\n",
       "      <td>pay annually</td>\n",
       "      <td>soft</td>\n",
       "      <td>enough</td>\n",
       "      <td>spring</td>\n",
       "      <td>communal standpipe</td>\n",
       "      <td>functional</td>\n",
       "    </tr>\n",
       "    <tr>\n",
       "      <th>8776</th>\n",
       "      <td>1399</td>\n",
       "      <td>280</td>\n",
       "      <td>2010</td>\n",
       "      <td>Lake Victoria</td>\n",
       "      <td>3</td>\n",
       "      <td>Mara</td>\n",
       "      <td>Unknown</td>\n",
       "      <td>True</td>\n",
       "      <td>gravity</td>\n",
       "      <td>user-group</td>\n",
       "      <td>never pay</td>\n",
       "      <td>soft</td>\n",
       "      <td>insufficient</td>\n",
       "      <td>rainwater harvesting</td>\n",
       "      <td>communal standpipe</td>\n",
       "      <td>functional</td>\n",
       "    </tr>\n",
       "    <tr>\n",
       "      <th>34310</th>\n",
       "      <td>686</td>\n",
       "      <td>250</td>\n",
       "      <td>2009</td>\n",
       "      <td>Pangani</td>\n",
       "      <td>2</td>\n",
       "      <td>Manyara</td>\n",
       "      <td>True</td>\n",
       "      <td>True</td>\n",
       "      <td>gravity</td>\n",
       "      <td>user-group</td>\n",
       "      <td>pay per bucket</td>\n",
       "      <td>soft</td>\n",
       "      <td>enough</td>\n",
       "      <td>dam</td>\n",
       "      <td>communal standpipe multiple</td>\n",
       "      <td>functional</td>\n",
       "    </tr>\n",
       "    <tr>\n",
       "      <th>67743</th>\n",
       "      <td>263</td>\n",
       "      <td>58</td>\n",
       "      <td>1986</td>\n",
       "      <td>Ruvuma / Southern Coast</td>\n",
       "      <td>1</td>\n",
       "      <td>Mtwara</td>\n",
       "      <td>True</td>\n",
       "      <td>True</td>\n",
       "      <td>submersible</td>\n",
       "      <td>user-group</td>\n",
       "      <td>never pay</td>\n",
       "      <td>soft</td>\n",
       "      <td>dry</td>\n",
       "      <td>machine dbh</td>\n",
       "      <td>communal standpipe multiple</td>\n",
       "      <td>non functional</td>\n",
       "    </tr>\n",
       "    <tr>\n",
       "      <th>19728</th>\n",
       "      <td>0</td>\n",
       "      <td>150</td>\n",
       "      <td>1996</td>\n",
       "      <td>Lake Victoria</td>\n",
       "      <td>7</td>\n",
       "      <td>Kagera</td>\n",
       "      <td>True</td>\n",
       "      <td>True</td>\n",
       "      <td>gravity</td>\n",
       "      <td>other</td>\n",
       "      <td>never pay</td>\n",
       "      <td>soft</td>\n",
       "      <td>seasonal</td>\n",
       "      <td>rainwater harvesting</td>\n",
       "      <td>communal standpipe</td>\n",
       "      <td>functional</td>\n",
       "    </tr>\n",
       "  </tbody>\n",
       "</table>\n",
       "</div>"
      ],
      "text/plain": [
       "       gps_height  population  construction_year                    basin  \\\n",
       "id                                                                          \n",
       "69572        1390         109               1999               Lake Nyasa   \n",
       "8776         1399         280               2010            Lake Victoria   \n",
       "34310         686         250               2009                  Pangani   \n",
       "67743         263          58               1986  Ruvuma / Southern Coast   \n",
       "19728           0         150               1996            Lake Victoria   \n",
       "\n",
       "       month_recorded   region public_meeting  permit extraction_type_class  \\\n",
       "id                                                                            \n",
       "69572               3   Iringa           True   False               gravity   \n",
       "8776                3     Mara        Unknown    True               gravity   \n",
       "34310               2  Manyara           True    True               gravity   \n",
       "67743               1   Mtwara           True    True           submersible   \n",
       "19728               7   Kagera           True    True               gravity   \n",
       "\n",
       "      management_group         payment water_quality      quantity  \\\n",
       "id                                                                   \n",
       "69572       user-group    pay annually          soft        enough   \n",
       "8776        user-group       never pay          soft  insufficient   \n",
       "34310       user-group  pay per bucket          soft        enough   \n",
       "67743       user-group       never pay          soft           dry   \n",
       "19728            other       never pay          soft      seasonal   \n",
       "\n",
       "                     source              waterpoint_type    status_group  \n",
       "id                                                                        \n",
       "69572                spring           communal standpipe      functional  \n",
       "8776   rainwater harvesting           communal standpipe      functional  \n",
       "34310                   dam  communal standpipe multiple      functional  \n",
       "67743           machine dbh  communal standpipe multiple  non functional  \n",
       "19728  rainwater harvesting           communal standpipe      functional  "
      ]
     },
     "execution_count": 3805,
     "metadata": {},
     "output_type": "execute_result"
    }
   ],
   "source": [
    "Xy_init.head()"
   ]
  },
  {
   "cell_type": "markdown",
   "metadata": {},
   "source": [
    "## Feature Engineering"
   ]
  },
  {
   "cell_type": "markdown",
   "metadata": {},
   "source": [
    "##### Outliers in numeric variables"
   ]
  },
  {
   "cell_type": "code",
   "execution_count": 3806,
   "metadata": {},
   "outputs": [
    {
     "data": {
      "text/plain": [
       "id                   0\n",
       "gps_height           0\n",
       "population           0\n",
       "construction_year    0\n",
       "dtype: int64"
      ]
     },
     "execution_count": 3806,
     "metadata": {},
     "output_type": "execute_result"
    }
   ],
   "source": [
    "training_data[initial_numeric_cols].isnull().sum()"
   ]
  },
  {
   "cell_type": "markdown",
   "metadata": {},
   "source": [
    "For `construction_year`, it was decided to impute the zero years with the mean. Also, it may be more suitable to derive a numeric feature construction_age expressing the time delta since construction instead of the original feature."
   ]
  },
  {
   "cell_type": "code",
   "execution_count": 3807,
   "metadata": {},
   "outputs": [
    {
     "data": {
      "text/plain": [
       "0"
      ]
     },
     "execution_count": 3807,
     "metadata": {},
     "output_type": "execute_result"
    }
   ],
   "source": [
    "Xy_init.construction_year.isnull().sum()"
   ]
  },
  {
   "cell_type": "code",
   "execution_count": 3808,
   "metadata": {},
   "outputs": [],
   "source": [
    "current = datetime.now()"
   ]
  },
  {
   "cell_type": "code",
   "execution_count": 3809,
   "metadata": {},
   "outputs": [],
   "source": [
    "Xy_init[\"construction_age\"] = (current.year - Xy_init[\"construction_year\"]).astype(\"int\")"
   ]
  },
  {
   "cell_type": "code",
   "execution_count": 3810,
   "metadata": {},
   "outputs": [
    {
     "name": "stderr",
     "output_type": "stream",
     "text": [
      "c:\\Users\\rosew\\anaconda3\\envs\\learn-env\\lib\\site-packages\\IPython\\core\\displayhook.py:275: UserWarning: Output cache limit (currently 1000 entries) hit.\n",
      "Flushing oldest 200 entries.\n",
      "  warn('Output cache limit (currently {sz} entries) hit.\\n'\n"
     ]
    },
    {
     "data": {
      "text/plain": [
       "28    21520\n",
       "14     2645\n",
       "16     2613\n",
       "15     2533\n",
       "24     2091\n",
       "17     1587\n",
       "18     1471\n",
       "21     1286\n",
       "13     1256\n",
       "20     1123\n",
       "12     1084\n",
       "22     1075\n",
       "46     1037\n",
       "29     1014\n",
       "19     1011\n",
       "25      979\n",
       "26      966\n",
       "34      954\n",
       "39      945\n",
       "44      811\n",
       "40      779\n",
       "42      744\n",
       "30      738\n",
       "52      708\n",
       "50      676\n",
       "27      644\n",
       "32      640\n",
       "31      608\n",
       "23      540\n",
       "36      521\n",
       "41      488\n",
       "49      437\n",
       "38      434\n",
       "48      414\n",
       "54      411\n",
       "33      324\n",
       "35      316\n",
       "37      302\n",
       "43      238\n",
       "47      202\n",
       "45      192\n",
       "51      184\n",
       "11      176\n",
       "53      145\n",
       "64      102\n",
       "57       88\n",
       "61       85\n",
       "56       77\n",
       "55       59\n",
       "60       40\n",
       "62       30\n",
       "63       21\n",
       "59       19\n",
       "58       17\n",
       "Name: construction_age, dtype: int64"
      ]
     },
     "execution_count": 3810,
     "metadata": {},
     "output_type": "execute_result"
    }
   ],
   "source": [
    "Xy_init.construction_age.value_counts()"
   ]
  },
  {
   "cell_type": "markdown",
   "metadata": {},
   "source": [
    "Drop `construction_year`"
   ]
  },
  {
   "cell_type": "code",
   "execution_count": 3811,
   "metadata": {},
   "outputs": [],
   "source": [
    "Xy_init.drop('construction_year', axis=1, inplace=True)"
   ]
  },
  {
   "cell_type": "code",
   "execution_count": 3812,
   "metadata": {},
   "outputs": [
    {
     "data": {
      "text/plain": [
       "['gps_height', 'population', 'construction_age']"
      ]
     },
     "execution_count": 3812,
     "metadata": {},
     "output_type": "execute_result"
    }
   ],
   "source": [
    "clean_numeric_cols = [\n",
    "                        \"gps_height\",\n",
    "                        \"population\",\n",
    "                        \"construction_age\"]\n",
    "clean_numeric_cols"
   ]
  },
  {
   "cell_type": "code",
   "execution_count": 3813,
   "metadata": {},
   "outputs": [
    {
     "name": "stdout",
     "output_type": "stream",
     "text": [
      "       gps_height  population  construction_age\n",
      "count     59400.0     59400.0           59400.0\n",
      "mean        668.0       234.0              27.0\n",
      "std         693.0       456.0              10.0\n",
      "min         -90.0         1.0              11.0\n",
      "25%           0.0       100.0              20.0\n",
      "50%         369.0       150.0              28.0\n",
      "75%        1319.0       215.0              28.0\n",
      "max        2770.0     30500.0              64.0 2\n"
     ]
    }
   ],
   "source": [
    "print(round(Xy_init[clean_numeric_cols].describe()),2)"
   ]
  },
  {
   "cell_type": "code",
   "execution_count": 3814,
   "metadata": {},
   "outputs": [
    {
     "data": {
      "text/plain": [
       "0"
      ]
     },
     "execution_count": 3814,
     "metadata": {},
     "output_type": "execute_result"
    }
   ],
   "source": [
    "Xy_init.construction_age.isnull().sum()"
   ]
  },
  {
   "cell_type": "markdown",
   "metadata": {},
   "source": [
    "I will draw boxplots to visualise outliers in the above variables. "
   ]
  },
  {
   "cell_type": "code",
   "execution_count": 3815,
   "metadata": {},
   "outputs": [
    {
     "data": {
      "image/png": "[encoded data removed]",
      "text/plain": [
       "<Figure size 2000x800 with 3 Axes>"
      ]
     },
     "metadata": {},
     "output_type": "display_data"
    }
   ],
   "source": [
    "\n",
    "plt.figure(figsize=(20,8))\n",
    "\n",
    "\n",
    "plt.subplot(2, 2, 1)\n",
    "fig = Xy_init.boxplot(column='gps_height')\n",
    "fig.set_title('')\n",
    "fig.set_ylabel('GPS Height')\n",
    "\n",
    "plt.subplot(2, 2, 2)\n",
    "fig = Xy_init.boxplot(column='population')\n",
    "fig.set_title('')\n",
    "fig.set_ylabel('Population')\n",
    "\n",
    "plt.subplot(2, 2, 3)\n",
    "fig = Xy_init.boxplot(column='construction_age')\n",
    "fig.set_title('')\n",
    "fig.set_ylabel('Construction Age');\n"
   ]
  },
  {
   "cell_type": "markdown",
   "metadata": {},
   "source": [
    "##### Check the distribution of variables\n",
    "\n",
    "Now, I will plot the histograms to check distributions to find out if they are normal or skewed. If the variable follows normal distribution, then I will do `Extreme Value Analysis` otherwise if they are skewed, I will find IQR (Interquantile range)."
   ]
  },
  {
   "cell_type": "code",
   "execution_count": 3816,
   "metadata": {},
   "outputs": [
    {
     "data": {
      "image/png": "[encoded data removed]",
      "text/plain": [
       "<Figure size 1500x1000 with 3 Axes>"
      ]
     },
     "metadata": {},
     "output_type": "display_data"
    }
   ],
   "source": [
    "# plot histogram to check distribution\n",
    "\n",
    "plt.figure(figsize=(15,10))\n",
    "\n",
    "\n",
    "plt.subplot(2, 2, 1)\n",
    "fig = Xy_init[\"gps_height\"].hist(bins=10)\n",
    "fig.set_xlabel('GPS Height')\n",
    "fig.set_ylabel('Status Group')\n",
    "\n",
    "plt.subplot(2, 2, 2)\n",
    "fig = Xy_init[\"population\"].hist(bins=10)\n",
    "fig.set_xlabel('Population')\n",
    "fig.set_ylabel('Status Group')\n",
    "\n",
    "plt.subplot(2, 2, 3)\n",
    "fig = Xy_init[\"construction_age\"].hist(bins=10)\n",
    "fig.set_xlabel('Construction Age')\n",
    "fig.set_ylabel('Status Group');\n"
   ]
  },
  {
   "cell_type": "markdown",
   "metadata": {},
   "source": [
    "We can see that all the four variables are skewed. So, I will use interquantile range to find outliers."
   ]
  },
  {
   "cell_type": "markdown",
   "metadata": {},
   "source": [
    "##### GPS Height"
   ]
  },
  {
   "cell_type": "code",
   "execution_count": 3817,
   "metadata": {},
   "outputs": [
    {
     "name": "stdout",
     "output_type": "stream",
     "text": [
      "GPS Height outliers are values < -3957.75 or > 5277.0\n"
     ]
    }
   ],
   "source": [
    "# find outliers for GPS Height variable\n",
    "\n",
    "IQR = Xy_init[\"gps_height\"].quantile(0.75) - Xy_init.gps_height.quantile(0.25)\n",
    "Lower_fence = Xy_init[\"gps_height\"].quantile(0.25) - (IQR * 3)\n",
    "Upper_fence = Xy_init[\"gps_height\"].quantile(0.75) + (IQR * 3)\n",
    "print('GPS Height outliers are values < {lowerboundary} or > {upperboundary}'.format(lowerboundary=Lower_fence, upperboundary=Upper_fence))"
   ]
  },
  {
   "cell_type": "markdown",
   "metadata": {},
   "source": [
    "For `gps_height`, the minimum and maximum values are -90.0 and 2770.0. So, the outliers are values > 5277. There are no outliers"
   ]
  },
  {
   "cell_type": "markdown",
   "metadata": {},
   "source": [
    "##### Population"
   ]
  },
  {
   "cell_type": "code",
   "execution_count": 3818,
   "metadata": {},
   "outputs": [
    {
     "name": "stdout",
     "output_type": "stream",
     "text": [
      "population outliers are values < -245.0 or > 560.0\n"
     ]
    }
   ],
   "source": [
    "# find outliers for Population variable\n",
    "\n",
    "IQR = Xy_init[\"population\"].quantile(0.75) - Xy_init.population.quantile(0.25)\n",
    "Lower_fence = Xy_init[\"population\"].quantile(0.25) - (IQR * 3)\n",
    "Upper_fence = Xy_init[\"population\"].quantile(0.75) + (IQR * 3)\n",
    "print('population outliers are values < {lowerboundary} or > {upperboundary}'.format(lowerboundary=Lower_fence, upperboundary=Upper_fence))"
   ]
  },
  {
   "cell_type": "markdown",
   "metadata": {},
   "source": [
    "For `population`, the minimum and maximum values are 1.0 and 30500.0. So, the outliers are values > 560. "
   ]
  },
  {
   "cell_type": "markdown",
   "metadata": {},
   "source": [
    "##### Construction Age"
   ]
  },
  {
   "cell_type": "code",
   "execution_count": 3819,
   "metadata": {},
   "outputs": [
    {
     "name": "stdout",
     "output_type": "stream",
     "text": [
      "Construction Age outliers are values < -4.0 or > 52.0\n"
     ]
    }
   ],
   "source": [
    "# find outliers for Construction Age Variable\n",
    "\n",
    "IQR = Xy_init[\"construction_age\"].quantile(0.75) - Xy_init.construction_age.quantile(0.25)\n",
    "Lower_fence = Xy_init[\"construction_age\"].quantile(0.25) - (IQR * 3)\n",
    "Upper_fence = Xy_init[\"construction_age\"].quantile(0.75) + (IQR * 3)\n",
    "print('Construction Age outliers are values < {lowerboundary} or > {upperboundary}'.format(lowerboundary=Lower_fence, upperboundary=Upper_fence))"
   ]
  },
  {
   "cell_type": "markdown",
   "metadata": {},
   "source": [
    "For `construction_age`, the minimum and maximum values are 11.0 and 64.0. So, the outliers are values > 52.0. "
   ]
  },
  {
   "cell_type": "code",
   "execution_count": 3820,
   "metadata": {},
   "outputs": [],
   "source": [
    "Xy_init['permit'] = Xy_init['permit'].astype(bool).astype(int) #converting from T/F to 0-1"
   ]
  },
  {
   "cell_type": "code",
   "execution_count": 3821,
   "metadata": {},
   "outputs": [],
   "source": [
    "Xy_init['public_meeting'] = Xy_init['public_meeting'].astype(bool).astype(int) #converting from T/F to 0-1"
   ]
  },
  {
   "cell_type": "markdown",
   "metadata": {},
   "source": [
    "Re-declaring numeric anc categorical columns. Moving `permit` and `public_meeting` to numeric now that they are 0-1"
   ]
  },
  {
   "cell_type": "code",
   "execution_count": 3822,
   "metadata": {},
   "outputs": [],
   "source": [
    "initial_numeric_cols = [\"id\",\n",
    "                        \"gps_height\",\n",
    "                        \"population\",\n",
    "                        \"construction_year\",\n",
    "                        'permit',\n",
    "                        'public_meeting']"
   ]
  },
  {
   "cell_type": "code",
   "execution_count": 3823,
   "metadata": {},
   "outputs": [],
   "source": [
    "initial_object_cols = ['basin',\n",
    " 'month_recorded',\n",
    " 'region',\n",
    " 'extraction_type_class',\n",
    " 'management_group',\n",
    " 'payment',\n",
    " 'water_quality',\n",
    " 'quantity',\n",
    " 'source',\n",
    " 'waterpoint_type']"
   ]
  },
  {
   "cell_type": "code",
   "execution_count": 3824,
   "metadata": {},
   "outputs": [],
   "source": [
    "Xy_init[initial_object_cols] = Xy_init[initial_object_cols].astype(\"category\")"
   ]
  },
  {
   "cell_type": "code",
   "execution_count": 3825,
   "metadata": {},
   "outputs": [
    {
     "name": "stdout",
     "output_type": "stream",
     "text": [
      "<class 'pandas.core.frame.DataFrame'>\n",
      "Int64Index: 59400 entries, 69572 to 26348\n",
      "Data columns (total 16 columns):\n",
      " #   Column                 Non-Null Count  Dtype   \n",
      "---  ------                 --------------  -----   \n",
      " 0   gps_height             59400 non-null  int64   \n",
      " 1   population             59400 non-null  int64   \n",
      " 2   basin                  59400 non-null  category\n",
      " 3   month_recorded         59400 non-null  category\n",
      " 4   region                 59400 non-null  category\n",
      " 5   public_meeting         59400 non-null  int32   \n",
      " 6   permit                 59400 non-null  int32   \n",
      " 7   extraction_type_class  59400 non-null  category\n",
      " 8   management_group       59400 non-null  category\n",
      " 9   payment                59400 non-null  category\n",
      " 10  water_quality          59400 non-null  category\n",
      " 11  quantity               59400 non-null  category\n",
      " 12  source                 59400 non-null  category\n",
      " 13  waterpoint_type        59400 non-null  category\n",
      " 14  status_group           59400 non-null  object  \n",
      " 15  construction_age       59400 non-null  int32   \n",
      "dtypes: category(10), int32(3), int64(2), object(1)\n",
      "memory usage: 3.1+ MB\n"
     ]
    }
   ],
   "source": [
    "Xy_init.info()"
   ]
  },
  {
   "cell_type": "markdown",
   "metadata": {},
   "source": [
    "# Declare feature vector and target variable"
   ]
  },
  {
   "cell_type": "code",
   "execution_count": 3826,
   "metadata": {},
   "outputs": [],
   "source": [
    "# target_status_group = {'functional':0, \n",
    "#                    'non functional': 2, \n",
    "#                    'functional needs repair': 1} \n",
    "# Xy_init['status_group'] = Xy_init['status_group'].replace(target_status_group)"
   ]
  },
  {
   "cell_type": "markdown",
   "metadata": {},
   "source": [
    "To make our model, we changed the target variable to 0,1 and 2 values."
   ]
  },
  {
   "cell_type": "code",
   "execution_count": 3827,
   "metadata": {},
   "outputs": [],
   "source": [
    "# training_data['status_group'].value_counts()"
   ]
  },
  {
   "cell_type": "code",
   "execution_count": 3828,
   "metadata": {},
   "outputs": [],
   "source": [
    "X = Xy_init.drop(['status_group'], axis=1)\n",
    "\n",
    "y = Xy_init['status_group']"
   ]
  },
  {
   "cell_type": "markdown",
   "metadata": {},
   "source": [
    "# **9. Split data into separate training and test set** \n"
   ]
  },
  {
   "cell_type": "code",
   "execution_count": 3829,
   "metadata": {},
   "outputs": [],
   "source": [
    "# split X and y into training and testing sets\n",
    "\n",
    "from sklearn.model_selection import train_test_split\n",
    "\n",
    "X_train, X_test, y_train, y_test = train_test_split(X, y, test_size = 0.2, random_state = 42)\n"
   ]
  },
  {
   "cell_type": "code",
   "execution_count": 3830,
   "metadata": {},
   "outputs": [
    {
     "data": {
      "text/plain": [
       "((47520, 15), (11880, 15))"
      ]
     },
     "execution_count": 3830,
     "metadata": {},
     "output_type": "execute_result"
    }
   ],
   "source": [
    "# check the shape of X_train and X_test\n",
    "\n",
    "X_train.shape, X_test.shape"
   ]
  },
  {
   "cell_type": "markdown",
   "metadata": {},
   "source": [
    "# Feature Engineering"
   ]
  },
  {
   "cell_type": "code",
   "execution_count": 3831,
   "metadata": {},
   "outputs": [
    {
     "data": {
      "text/plain": [
       "gps_height                  int64\n",
       "population                  int64\n",
       "basin                    category\n",
       "month_recorded           category\n",
       "region                   category\n",
       "public_meeting              int32\n",
       "permit                      int32\n",
       "extraction_type_class    category\n",
       "management_group         category\n",
       "payment                  category\n",
       "water_quality            category\n",
       "quantity                 category\n",
       "source                   category\n",
       "waterpoint_type          category\n",
       "construction_age            int32\n",
       "dtype: object"
      ]
     },
     "execution_count": 3831,
     "metadata": {},
     "output_type": "execute_result"
    }
   ],
   "source": [
    "# Check data types in x train\n",
    "\n",
    "X_train.dtypes"
   ]
  },
  {
   "cell_type": "markdown",
   "metadata": {},
   "source": [
    "We already know that there are no missing values, but we can check to confirm"
   ]
  },
  {
   "cell_type": "code",
   "execution_count": 3832,
   "metadata": {},
   "outputs": [
    {
     "data": {
      "text/plain": [
       "gps_height               0\n",
       "population               0\n",
       "basin                    0\n",
       "month_recorded           0\n",
       "region                   0\n",
       "public_meeting           0\n",
       "permit                   0\n",
       "extraction_type_class    0\n",
       "management_group         0\n",
       "payment                  0\n",
       "water_quality            0\n",
       "quantity                 0\n",
       "source                   0\n",
       "waterpoint_type          0\n",
       "construction_age         0\n",
       "dtype: int64"
      ]
     },
     "execution_count": 3832,
     "metadata": {},
     "output_type": "execute_result"
    }
   ],
   "source": [
    "X_train.isnull().sum()"
   ]
  },
  {
   "cell_type": "code",
   "execution_count": 3833,
   "metadata": {},
   "outputs": [
    {
     "data": {
      "text/plain": [
       "gps_height               0\n",
       "population               0\n",
       "basin                    0\n",
       "month_recorded           0\n",
       "region                   0\n",
       "public_meeting           0\n",
       "permit                   0\n",
       "extraction_type_class    0\n",
       "management_group         0\n",
       "payment                  0\n",
       "water_quality            0\n",
       "quantity                 0\n",
       "source                   0\n",
       "waterpoint_type          0\n",
       "construction_age         0\n",
       "dtype: int64"
      ]
     },
     "execution_count": 3833,
     "metadata": {},
     "output_type": "execute_result"
    }
   ],
   "source": [
    "X_test.isnull().sum()"
   ]
  },
  {
   "cell_type": "markdown",
   "metadata": {},
   "source": [
    "##### Engineering outliers in numerical variables"
   ]
  },
  {
   "cell_type": "markdown",
   "metadata": {},
   "source": [
    "We have seen that the `population` and `construction_age`,  columns contain outliers"
   ]
  },
  {
   "cell_type": "code",
   "execution_count": 3834,
   "metadata": {},
   "outputs": [],
   "source": [
    "upper_thresholds = {\n",
    "    'population': 560.0,\n",
    "    'construction_age': 52.0,\n",
    "}\n",
    "\n",
    "for df3 in [X_train, X_test]:\n",
    "    for column, top in upper_thresholds.items():\n",
    "        df3[column] = df3[column].clip(upper=top)"
   ]
  },
  {
   "cell_type": "code",
   "execution_count": 3835,
   "metadata": {},
   "outputs": [
    {
     "name": "stdout",
     "output_type": "stream",
     "text": [
      "       gps_height  population  construction_age\n",
      "count     47520.0     47520.0           47520.0\n",
      "mean        669.0       184.0              27.0\n",
      "std         693.0       153.0              10.0\n",
      "min         -63.0         1.0              11.0\n",
      "25%           0.0       100.0              20.0\n",
      "50%         370.0       150.0              28.0\n",
      "75%        1320.0       213.0              28.0\n",
      "max        2770.0       560.0              52.0 2\n"
     ]
    }
   ],
   "source": [
    "print(round(X_train[clean_numeric_cols].describe()),2)"
   ]
  },
  {
   "cell_type": "code",
   "execution_count": 3836,
   "metadata": {},
   "outputs": [
    {
     "name": "stdout",
     "output_type": "stream",
     "text": [
      "       gps_height  population  construction_age\n",
      "count     11880.0     11880.0           11880.0\n",
      "mean        667.0       185.0              27.0\n",
      "std         694.0       152.0              10.0\n",
      "min         -90.0         1.0              11.0\n",
      "25%           0.0       100.0              20.0\n",
      "50%         365.0       150.0              28.0\n",
      "75%        1316.0       220.0              28.0\n",
      "max        2623.0       560.0              52.0 2\n"
     ]
    }
   ],
   "source": [
    "print(round(X_test[clean_numeric_cols].describe()),2)"
   ]
  },
  {
   "cell_type": "markdown",
   "metadata": {},
   "source": [
    "We can see that the outliers in `population` and `construction_age` have been removed"
   ]
  },
  {
   "cell_type": "markdown",
   "metadata": {},
   "source": [
    "##### Encode categorical variables"
   ]
  },
  {
   "cell_type": "code",
   "execution_count": 3837,
   "metadata": {},
   "outputs": [
    {
     "data": {
      "text/plain": [
       "['basin',\n",
       " 'month_recorded',\n",
       " 'region',\n",
       " 'extraction_type_class',\n",
       " 'management_group',\n",
       " 'payment',\n",
       " 'water_quality',\n",
       " 'quantity',\n",
       " 'source',\n",
       " 'waterpoint_type']"
      ]
     },
     "execution_count": 3837,
     "metadata": {},
     "output_type": "execute_result"
    }
   ],
   "source": [
    "initial_object_cols"
   ]
  },
  {
   "cell_type": "code",
   "execution_count": 3838,
   "metadata": {},
   "outputs": [
    {
     "data": {
      "text/html": [
       "<div>\n",
       "<style scoped>\n",
       "    .dataframe tbody tr th:only-of-type {\n",
       "        vertical-align: middle;\n",
       "    }\n",
       "\n",
       "    .dataframe tbody tr th {\n",
       "        vertical-align: top;\n",
       "    }\n",
       "\n",
       "    .dataframe thead th {\n",
       "        text-align: right;\n",
       "    }\n",
       "</style>\n",
       "<table border=\"1\" class=\"dataframe\">\n",
       "  <thead>\n",
       "    <tr style=\"text-align: right;\">\n",
       "      <th></th>\n",
       "      <th>basin</th>\n",
       "      <th>month_recorded</th>\n",
       "      <th>region</th>\n",
       "      <th>extraction_type_class</th>\n",
       "      <th>management_group</th>\n",
       "      <th>payment</th>\n",
       "      <th>water_quality</th>\n",
       "      <th>quantity</th>\n",
       "      <th>source</th>\n",
       "      <th>waterpoint_type</th>\n",
       "    </tr>\n",
       "    <tr>\n",
       "      <th>id</th>\n",
       "      <th></th>\n",
       "      <th></th>\n",
       "      <th></th>\n",
       "      <th></th>\n",
       "      <th></th>\n",
       "      <th></th>\n",
       "      <th></th>\n",
       "      <th></th>\n",
       "      <th></th>\n",
       "      <th></th>\n",
       "    </tr>\n",
       "  </thead>\n",
       "  <tbody>\n",
       "    <tr>\n",
       "      <th>454</th>\n",
       "      <td>Internal</td>\n",
       "      <td>2</td>\n",
       "      <td>Manyara</td>\n",
       "      <td>gravity</td>\n",
       "      <td>user-group</td>\n",
       "      <td>pay per bucket</td>\n",
       "      <td>soft</td>\n",
       "      <td>insufficient</td>\n",
       "      <td>spring</td>\n",
       "      <td>communal standpipe</td>\n",
       "    </tr>\n",
       "    <tr>\n",
       "      <th>510</th>\n",
       "      <td>Internal</td>\n",
       "      <td>3</td>\n",
       "      <td>Dodoma</td>\n",
       "      <td>handpump</td>\n",
       "      <td>user-group</td>\n",
       "      <td>never pay</td>\n",
       "      <td>soft</td>\n",
       "      <td>enough</td>\n",
       "      <td>shallow well</td>\n",
       "      <td>hand pump</td>\n",
       "    </tr>\n",
       "    <tr>\n",
       "      <th>14146</th>\n",
       "      <td>Lake Rukwa</td>\n",
       "      <td>7</td>\n",
       "      <td>Mbeya</td>\n",
       "      <td>other</td>\n",
       "      <td>user-group</td>\n",
       "      <td>never pay</td>\n",
       "      <td>soft</td>\n",
       "      <td>enough</td>\n",
       "      <td>shallow well</td>\n",
       "      <td>other</td>\n",
       "    </tr>\n",
       "    <tr>\n",
       "      <th>47410</th>\n",
       "      <td>Rufiji</td>\n",
       "      <td>4</td>\n",
       "      <td>Mbeya</td>\n",
       "      <td>gravity</td>\n",
       "      <td>user-group</td>\n",
       "      <td>pay monthly</td>\n",
       "      <td>soft</td>\n",
       "      <td>insufficient</td>\n",
       "      <td>river</td>\n",
       "      <td>communal standpipe</td>\n",
       "    </tr>\n",
       "    <tr>\n",
       "      <th>1288</th>\n",
       "      <td>Wami / Ruvu</td>\n",
       "      <td>4</td>\n",
       "      <td>Morogoro</td>\n",
       "      <td>other</td>\n",
       "      <td>user-group</td>\n",
       "      <td>pay when scheme fails</td>\n",
       "      <td>salty</td>\n",
       "      <td>enough</td>\n",
       "      <td>shallow well</td>\n",
       "      <td>other</td>\n",
       "    </tr>\n",
       "  </tbody>\n",
       "</table>\n",
       "</div>"
      ],
      "text/plain": [
       "             basin month_recorded    region extraction_type_class  \\\n",
       "id                                                                  \n",
       "454       Internal              2   Manyara               gravity   \n",
       "510       Internal              3    Dodoma              handpump   \n",
       "14146   Lake Rukwa              7     Mbeya                 other   \n",
       "47410       Rufiji              4     Mbeya               gravity   \n",
       "1288   Wami / Ruvu              4  Morogoro                 other   \n",
       "\n",
       "      management_group                payment water_quality      quantity  \\\n",
       "id                                                                          \n",
       "454         user-group         pay per bucket          soft  insufficient   \n",
       "510         user-group              never pay          soft        enough   \n",
       "14146       user-group              never pay          soft        enough   \n",
       "47410       user-group            pay monthly          soft  insufficient   \n",
       "1288        user-group  pay when scheme fails         salty        enough   \n",
       "\n",
       "             source     waterpoint_type  \n",
       "id                                       \n",
       "454          spring  communal standpipe  \n",
       "510    shallow well           hand pump  \n",
       "14146  shallow well               other  \n",
       "47410         river  communal standpipe  \n",
       "1288   shallow well               other  "
      ]
     },
     "execution_count": 3838,
     "metadata": {},
     "output_type": "execute_result"
    }
   ],
   "source": [
    "X_train[initial_object_cols].head()"
   ]
  },
  {
   "cell_type": "code",
   "execution_count": 3839,
   "metadata": {},
   "outputs": [
    {
     "data": {
      "text/html": [
       "<div>\n",
       "<style scoped>\n",
       "    .dataframe tbody tr th:only-of-type {\n",
       "        vertical-align: middle;\n",
       "    }\n",
       "\n",
       "    .dataframe tbody tr th {\n",
       "        vertical-align: top;\n",
       "    }\n",
       "\n",
       "    .dataframe thead th {\n",
       "        text-align: right;\n",
       "    }\n",
       "</style>\n",
       "<table border=\"1\" class=\"dataframe\">\n",
       "  <thead>\n",
       "    <tr style=\"text-align: right;\">\n",
       "      <th></th>\n",
       "      <th>gps_height</th>\n",
       "      <th>population</th>\n",
       "      <th>basin</th>\n",
       "      <th>month_recorded</th>\n",
       "      <th>region</th>\n",
       "      <th>public_meeting</th>\n",
       "      <th>permit</th>\n",
       "      <th>extraction_type_class</th>\n",
       "      <th>management_group</th>\n",
       "      <th>payment</th>\n",
       "      <th>water_quality</th>\n",
       "      <th>quantity</th>\n",
       "      <th>source</th>\n",
       "      <th>waterpoint_type</th>\n",
       "      <th>construction_age</th>\n",
       "    </tr>\n",
       "    <tr>\n",
       "      <th>id</th>\n",
       "      <th></th>\n",
       "      <th></th>\n",
       "      <th></th>\n",
       "      <th></th>\n",
       "      <th></th>\n",
       "      <th></th>\n",
       "      <th></th>\n",
       "      <th></th>\n",
       "      <th></th>\n",
       "      <th></th>\n",
       "      <th></th>\n",
       "      <th></th>\n",
       "      <th></th>\n",
       "      <th></th>\n",
       "      <th></th>\n",
       "    </tr>\n",
       "  </thead>\n",
       "  <tbody>\n",
       "    <tr>\n",
       "      <th>454</th>\n",
       "      <td>2092</td>\n",
       "      <td>160.0</td>\n",
       "      <td>Internal</td>\n",
       "      <td>2</td>\n",
       "      <td>Manyara</td>\n",
       "      <td>1</td>\n",
       "      <td>1</td>\n",
       "      <td>gravity</td>\n",
       "      <td>user-group</td>\n",
       "      <td>pay per bucket</td>\n",
       "      <td>soft</td>\n",
       "      <td>insufficient</td>\n",
       "      <td>spring</td>\n",
       "      <td>communal standpipe</td>\n",
       "      <td>26.0</td>\n",
       "    </tr>\n",
       "    <tr>\n",
       "      <th>510</th>\n",
       "      <td>0</td>\n",
       "      <td>150.0</td>\n",
       "      <td>Internal</td>\n",
       "      <td>3</td>\n",
       "      <td>Dodoma</td>\n",
       "      <td>1</td>\n",
       "      <td>1</td>\n",
       "      <td>handpump</td>\n",
       "      <td>user-group</td>\n",
       "      <td>never pay</td>\n",
       "      <td>soft</td>\n",
       "      <td>enough</td>\n",
       "      <td>shallow well</td>\n",
       "      <td>hand pump</td>\n",
       "      <td>28.0</td>\n",
       "    </tr>\n",
       "    <tr>\n",
       "      <th>14146</th>\n",
       "      <td>0</td>\n",
       "      <td>150.0</td>\n",
       "      <td>Lake Rukwa</td>\n",
       "      <td>7</td>\n",
       "      <td>Mbeya</td>\n",
       "      <td>1</td>\n",
       "      <td>0</td>\n",
       "      <td>other</td>\n",
       "      <td>user-group</td>\n",
       "      <td>never pay</td>\n",
       "      <td>soft</td>\n",
       "      <td>enough</td>\n",
       "      <td>shallow well</td>\n",
       "      <td>other</td>\n",
       "      <td>28.0</td>\n",
       "    </tr>\n",
       "    <tr>\n",
       "      <th>47410</th>\n",
       "      <td>0</td>\n",
       "      <td>150.0</td>\n",
       "      <td>Rufiji</td>\n",
       "      <td>4</td>\n",
       "      <td>Mbeya</td>\n",
       "      <td>1</td>\n",
       "      <td>1</td>\n",
       "      <td>gravity</td>\n",
       "      <td>user-group</td>\n",
       "      <td>pay monthly</td>\n",
       "      <td>soft</td>\n",
       "      <td>insufficient</td>\n",
       "      <td>river</td>\n",
       "      <td>communal standpipe</td>\n",
       "      <td>28.0</td>\n",
       "    </tr>\n",
       "    <tr>\n",
       "      <th>1288</th>\n",
       "      <td>1023</td>\n",
       "      <td>120.0</td>\n",
       "      <td>Wami / Ruvu</td>\n",
       "      <td>4</td>\n",
       "      <td>Morogoro</td>\n",
       "      <td>1</td>\n",
       "      <td>1</td>\n",
       "      <td>other</td>\n",
       "      <td>user-group</td>\n",
       "      <td>pay when scheme fails</td>\n",
       "      <td>salty</td>\n",
       "      <td>enough</td>\n",
       "      <td>shallow well</td>\n",
       "      <td>other</td>\n",
       "      <td>27.0</td>\n",
       "    </tr>\n",
       "  </tbody>\n",
       "</table>\n",
       "</div>"
      ],
      "text/plain": [
       "       gps_height  population        basin month_recorded    region  \\\n",
       "id                                                                    \n",
       "454          2092       160.0     Internal              2   Manyara   \n",
       "510             0       150.0     Internal              3    Dodoma   \n",
       "14146           0       150.0   Lake Rukwa              7     Mbeya   \n",
       "47410           0       150.0       Rufiji              4     Mbeya   \n",
       "1288         1023       120.0  Wami / Ruvu              4  Morogoro   \n",
       "\n",
       "       public_meeting  permit extraction_type_class management_group  \\\n",
       "id                                                                     \n",
       "454                 1       1               gravity       user-group   \n",
       "510                 1       1              handpump       user-group   \n",
       "14146               1       0                 other       user-group   \n",
       "47410               1       1               gravity       user-group   \n",
       "1288                1       1                 other       user-group   \n",
       "\n",
       "                     payment water_quality      quantity        source  \\\n",
       "id                                                                       \n",
       "454           pay per bucket          soft  insufficient        spring   \n",
       "510                never pay          soft        enough  shallow well   \n",
       "14146              never pay          soft        enough  shallow well   \n",
       "47410            pay monthly          soft  insufficient         river   \n",
       "1288   pay when scheme fails         salty        enough  shallow well   \n",
       "\n",
       "          waterpoint_type  construction_age  \n",
       "id                                           \n",
       "454    communal standpipe              26.0  \n",
       "510             hand pump              28.0  \n",
       "14146               other              28.0  \n",
       "47410  communal standpipe              28.0  \n",
       "1288                other              27.0  "
      ]
     },
     "execution_count": 3839,
     "metadata": {},
     "output_type": "execute_result"
    }
   ],
   "source": [
    "X_train.head()"
   ]
  },
  {
   "cell_type": "code",
   "execution_count": 3840,
   "metadata": {},
   "outputs": [],
   "source": [
    "# using ohe Recommended \n",
    "\n",
    "import category_encoders as ce\n",
    "\n",
    "ohe = ce.one_hot.OneHotEncoder(cols=['basin','month_recorded','region', 'extraction_type_class', 'management_group', 'payment', 'water_quality',\n",
    "                             'quantity', 'source', 'waterpoint_type'], handle_missing=\"value\", handle_unknown=\"ignore\")\n",
    "\n",
    "ohe.fit(X_train)\n",
    "\n",
    "X_train = ohe.transform(X_train)\n",
    "X_test = ohe.transform(X_test)"
   ]
  },
  {
   "cell_type": "markdown",
   "metadata": {},
   "source": [
    "##### Encode Status_group variable- Target"
   ]
  },
  {
   "cell_type": "code",
   "execution_count": null,
   "metadata": {},
   "outputs": [],
   "source": [
    "# import category_encoders as ce\n",
    "\n",
    "# binary_encoder = ce.BinaryEncoder(cols=['RainToday'])\n",
    "\n",
    "# X_train = binary_encoder.fit_transform(X_train)\n",
    "\n",
    "# X_test = binary_encoder.transform(X_test)"
   ]
  },
  {
   "cell_type": "code",
   "execution_count": 3841,
   "metadata": {},
   "outputs": [
    {
     "data": {
      "text/html": [
       "<div>\n",
       "<style scoped>\n",
       "    .dataframe tbody tr th:only-of-type {\n",
       "        vertical-align: middle;\n",
       "    }\n",
       "\n",
       "    .dataframe tbody tr th {\n",
       "        vertical-align: top;\n",
       "    }\n",
       "\n",
       "    .dataframe thead th {\n",
       "        text-align: right;\n",
       "    }\n",
       "</style>\n",
       "<table border=\"1\" class=\"dataframe\">\n",
       "  <thead>\n",
       "    <tr style=\"text-align: right;\">\n",
       "      <th></th>\n",
       "      <th>gps_height</th>\n",
       "      <th>population</th>\n",
       "      <th>basin_1</th>\n",
       "      <th>basin_2</th>\n",
       "      <th>basin_3</th>\n",
       "      <th>basin_4</th>\n",
       "      <th>basin_5</th>\n",
       "      <th>basin_6</th>\n",
       "      <th>basin_7</th>\n",
       "      <th>basin_8</th>\n",
       "      <th>...</th>\n",
       "      <th>source_9</th>\n",
       "      <th>source_10</th>\n",
       "      <th>waterpoint_type_1</th>\n",
       "      <th>waterpoint_type_2</th>\n",
       "      <th>waterpoint_type_3</th>\n",
       "      <th>waterpoint_type_4</th>\n",
       "      <th>waterpoint_type_5</th>\n",
       "      <th>waterpoint_type_6</th>\n",
       "      <th>waterpoint_type_7</th>\n",
       "      <th>construction_age</th>\n",
       "    </tr>\n",
       "    <tr>\n",
       "      <th>id</th>\n",
       "      <th></th>\n",
       "      <th></th>\n",
       "      <th></th>\n",
       "      <th></th>\n",
       "      <th></th>\n",
       "      <th></th>\n",
       "      <th></th>\n",
       "      <th></th>\n",
       "      <th></th>\n",
       "      <th></th>\n",
       "      <th></th>\n",
       "      <th></th>\n",
       "      <th></th>\n",
       "      <th></th>\n",
       "      <th></th>\n",
       "      <th></th>\n",
       "      <th></th>\n",
       "      <th></th>\n",
       "      <th></th>\n",
       "      <th></th>\n",
       "      <th></th>\n",
       "    </tr>\n",
       "  </thead>\n",
       "  <tbody>\n",
       "    <tr>\n",
       "      <th>454</th>\n",
       "      <td>2092</td>\n",
       "      <td>160.0</td>\n",
       "      <td>1</td>\n",
       "      <td>0</td>\n",
       "      <td>0</td>\n",
       "      <td>0</td>\n",
       "      <td>0</td>\n",
       "      <td>0</td>\n",
       "      <td>0</td>\n",
       "      <td>0</td>\n",
       "      <td>...</td>\n",
       "      <td>0</td>\n",
       "      <td>0</td>\n",
       "      <td>1</td>\n",
       "      <td>0</td>\n",
       "      <td>0</td>\n",
       "      <td>0</td>\n",
       "      <td>0</td>\n",
       "      <td>0</td>\n",
       "      <td>0</td>\n",
       "      <td>26.0</td>\n",
       "    </tr>\n",
       "    <tr>\n",
       "      <th>510</th>\n",
       "      <td>0</td>\n",
       "      <td>150.0</td>\n",
       "      <td>1</td>\n",
       "      <td>0</td>\n",
       "      <td>0</td>\n",
       "      <td>0</td>\n",
       "      <td>0</td>\n",
       "      <td>0</td>\n",
       "      <td>0</td>\n",
       "      <td>0</td>\n",
       "      <td>...</td>\n",
       "      <td>0</td>\n",
       "      <td>0</td>\n",
       "      <td>0</td>\n",
       "      <td>1</td>\n",
       "      <td>0</td>\n",
       "      <td>0</td>\n",
       "      <td>0</td>\n",
       "      <td>0</td>\n",
       "      <td>0</td>\n",
       "      <td>28.0</td>\n",
       "    </tr>\n",
       "    <tr>\n",
       "      <th>14146</th>\n",
       "      <td>0</td>\n",
       "      <td>150.0</td>\n",
       "      <td>0</td>\n",
       "      <td>1</td>\n",
       "      <td>0</td>\n",
       "      <td>0</td>\n",
       "      <td>0</td>\n",
       "      <td>0</td>\n",
       "      <td>0</td>\n",
       "      <td>0</td>\n",
       "      <td>...</td>\n",
       "      <td>0</td>\n",
       "      <td>0</td>\n",
       "      <td>0</td>\n",
       "      <td>0</td>\n",
       "      <td>1</td>\n",
       "      <td>0</td>\n",
       "      <td>0</td>\n",
       "      <td>0</td>\n",
       "      <td>0</td>\n",
       "      <td>28.0</td>\n",
       "    </tr>\n",
       "    <tr>\n",
       "      <th>47410</th>\n",
       "      <td>0</td>\n",
       "      <td>150.0</td>\n",
       "      <td>0</td>\n",
       "      <td>0</td>\n",
       "      <td>1</td>\n",
       "      <td>0</td>\n",
       "      <td>0</td>\n",
       "      <td>0</td>\n",
       "      <td>0</td>\n",
       "      <td>0</td>\n",
       "      <td>...</td>\n",
       "      <td>0</td>\n",
       "      <td>0</td>\n",
       "      <td>1</td>\n",
       "      <td>0</td>\n",
       "      <td>0</td>\n",
       "      <td>0</td>\n",
       "      <td>0</td>\n",
       "      <td>0</td>\n",
       "      <td>0</td>\n",
       "      <td>28.0</td>\n",
       "    </tr>\n",
       "    <tr>\n",
       "      <th>1288</th>\n",
       "      <td>1023</td>\n",
       "      <td>120.0</td>\n",
       "      <td>0</td>\n",
       "      <td>0</td>\n",
       "      <td>0</td>\n",
       "      <td>1</td>\n",
       "      <td>0</td>\n",
       "      <td>0</td>\n",
       "      <td>0</td>\n",
       "      <td>0</td>\n",
       "      <td>...</td>\n",
       "      <td>0</td>\n",
       "      <td>0</td>\n",
       "      <td>0</td>\n",
       "      <td>0</td>\n",
       "      <td>1</td>\n",
       "      <td>0</td>\n",
       "      <td>0</td>\n",
       "      <td>0</td>\n",
       "      <td>0</td>\n",
       "      <td>27.0</td>\n",
       "    </tr>\n",
       "  </tbody>\n",
       "</table>\n",
       "<p>5 rows × 96 columns</p>\n",
       "</div>"
      ],
      "text/plain": [
       "       gps_height  population  basin_1  basin_2  basin_3  basin_4  basin_5  \\\n",
       "id                                                                           \n",
       "454          2092       160.0        1        0        0        0        0   \n",
       "510             0       150.0        1        0        0        0        0   \n",
       "14146           0       150.0        0        1        0        0        0   \n",
       "47410           0       150.0        0        0        1        0        0   \n",
       "1288         1023       120.0        0        0        0        1        0   \n",
       "\n",
       "       basin_6  basin_7  basin_8  ...  source_9  source_10  waterpoint_type_1  \\\n",
       "id                                ...                                           \n",
       "454          0        0        0  ...         0          0                  1   \n",
       "510          0        0        0  ...         0          0                  0   \n",
       "14146        0        0        0  ...         0          0                  0   \n",
       "47410        0        0        0  ...         0          0                  1   \n",
       "1288         0        0        0  ...         0          0                  0   \n",
       "\n",
       "       waterpoint_type_2  waterpoint_type_3  waterpoint_type_4  \\\n",
       "id                                                               \n",
       "454                    0                  0                  0   \n",
       "510                    1                  0                  0   \n",
       "14146                  0                  1                  0   \n",
       "47410                  0                  0                  0   \n",
       "1288                   0                  1                  0   \n",
       "\n",
       "       waterpoint_type_5  waterpoint_type_6  waterpoint_type_7  \\\n",
       "id                                                               \n",
       "454                    0                  0                  0   \n",
       "510                    0                  0                  0   \n",
       "14146                  0                  0                  0   \n",
       "47410                  0                  0                  0   \n",
       "1288                   0                  0                  0   \n",
       "\n",
       "       construction_age  \n",
       "id                       \n",
       "454                26.0  \n",
       "510                28.0  \n",
       "14146              28.0  \n",
       "47410              28.0  \n",
       "1288               27.0  \n",
       "\n",
       "[5 rows x 96 columns]"
      ]
     },
     "execution_count": 3841,
     "metadata": {},
     "output_type": "execute_result"
    }
   ],
   "source": [
    "X_train.head()"
   ]
  },
  {
   "cell_type": "code",
   "execution_count": 3842,
   "metadata": {},
   "outputs": [
    {
     "data": {
      "text/html": [
       "<div>\n",
       "<style scoped>\n",
       "    .dataframe tbody tr th:only-of-type {\n",
       "        vertical-align: middle;\n",
       "    }\n",
       "\n",
       "    .dataframe tbody tr th {\n",
       "        vertical-align: top;\n",
       "    }\n",
       "\n",
       "    .dataframe thead th {\n",
       "        text-align: right;\n",
       "    }\n",
       "</style>\n",
       "<table border=\"1\" class=\"dataframe\">\n",
       "  <thead>\n",
       "    <tr style=\"text-align: right;\">\n",
       "      <th></th>\n",
       "      <th>gps_height</th>\n",
       "      <th>population</th>\n",
       "      <th>basin_1</th>\n",
       "      <th>basin_2</th>\n",
       "      <th>basin_3</th>\n",
       "      <th>basin_4</th>\n",
       "      <th>basin_5</th>\n",
       "      <th>basin_6</th>\n",
       "      <th>basin_7</th>\n",
       "      <th>basin_8</th>\n",
       "      <th>...</th>\n",
       "      <th>source_9</th>\n",
       "      <th>source_10</th>\n",
       "      <th>waterpoint_type_1</th>\n",
       "      <th>waterpoint_type_2</th>\n",
       "      <th>waterpoint_type_3</th>\n",
       "      <th>waterpoint_type_4</th>\n",
       "      <th>waterpoint_type_5</th>\n",
       "      <th>waterpoint_type_6</th>\n",
       "      <th>waterpoint_type_7</th>\n",
       "      <th>construction_age</th>\n",
       "    </tr>\n",
       "    <tr>\n",
       "      <th>id</th>\n",
       "      <th></th>\n",
       "      <th></th>\n",
       "      <th></th>\n",
       "      <th></th>\n",
       "      <th></th>\n",
       "      <th></th>\n",
       "      <th></th>\n",
       "      <th></th>\n",
       "      <th></th>\n",
       "      <th></th>\n",
       "      <th></th>\n",
       "      <th></th>\n",
       "      <th></th>\n",
       "      <th></th>\n",
       "      <th></th>\n",
       "      <th></th>\n",
       "      <th></th>\n",
       "      <th></th>\n",
       "      <th></th>\n",
       "      <th></th>\n",
       "      <th></th>\n",
       "    </tr>\n",
       "  </thead>\n",
       "  <tbody>\n",
       "    <tr>\n",
       "      <th>37098</th>\n",
       "      <td>0</td>\n",
       "      <td>150.0</td>\n",
       "      <td>0</td>\n",
       "      <td>0</td>\n",
       "      <td>0</td>\n",
       "      <td>0</td>\n",
       "      <td>0</td>\n",
       "      <td>1</td>\n",
       "      <td>0</td>\n",
       "      <td>0</td>\n",
       "      <td>...</td>\n",
       "      <td>0</td>\n",
       "      <td>0</td>\n",
       "      <td>0</td>\n",
       "      <td>0</td>\n",
       "      <td>1</td>\n",
       "      <td>0</td>\n",
       "      <td>0</td>\n",
       "      <td>0</td>\n",
       "      <td>0</td>\n",
       "      <td>28.0</td>\n",
       "    </tr>\n",
       "    <tr>\n",
       "      <th>14530</th>\n",
       "      <td>0</td>\n",
       "      <td>150.0</td>\n",
       "      <td>0</td>\n",
       "      <td>0</td>\n",
       "      <td>0</td>\n",
       "      <td>0</td>\n",
       "      <td>0</td>\n",
       "      <td>1</td>\n",
       "      <td>0</td>\n",
       "      <td>0</td>\n",
       "      <td>...</td>\n",
       "      <td>0</td>\n",
       "      <td>0</td>\n",
       "      <td>0</td>\n",
       "      <td>1</td>\n",
       "      <td>0</td>\n",
       "      <td>0</td>\n",
       "      <td>0</td>\n",
       "      <td>0</td>\n",
       "      <td>0</td>\n",
       "      <td>28.0</td>\n",
       "    </tr>\n",
       "    <tr>\n",
       "      <th>62607</th>\n",
       "      <td>1675</td>\n",
       "      <td>148.0</td>\n",
       "      <td>1</td>\n",
       "      <td>0</td>\n",
       "      <td>0</td>\n",
       "      <td>0</td>\n",
       "      <td>0</td>\n",
       "      <td>0</td>\n",
       "      <td>0</td>\n",
       "      <td>0</td>\n",
       "      <td>...</td>\n",
       "      <td>0</td>\n",
       "      <td>0</td>\n",
       "      <td>1</td>\n",
       "      <td>0</td>\n",
       "      <td>0</td>\n",
       "      <td>0</td>\n",
       "      <td>0</td>\n",
       "      <td>0</td>\n",
       "      <td>0</td>\n",
       "      <td>16.0</td>\n",
       "    </tr>\n",
       "    <tr>\n",
       "      <th>46053</th>\n",
       "      <td>0</td>\n",
       "      <td>150.0</td>\n",
       "      <td>0</td>\n",
       "      <td>1</td>\n",
       "      <td>0</td>\n",
       "      <td>0</td>\n",
       "      <td>0</td>\n",
       "      <td>0</td>\n",
       "      <td>0</td>\n",
       "      <td>0</td>\n",
       "      <td>...</td>\n",
       "      <td>0</td>\n",
       "      <td>0</td>\n",
       "      <td>0</td>\n",
       "      <td>1</td>\n",
       "      <td>0</td>\n",
       "      <td>0</td>\n",
       "      <td>0</td>\n",
       "      <td>0</td>\n",
       "      <td>0</td>\n",
       "      <td>28.0</td>\n",
       "    </tr>\n",
       "    <tr>\n",
       "      <th>47083</th>\n",
       "      <td>1109</td>\n",
       "      <td>235.0</td>\n",
       "      <td>1</td>\n",
       "      <td>0</td>\n",
       "      <td>0</td>\n",
       "      <td>0</td>\n",
       "      <td>0</td>\n",
       "      <td>0</td>\n",
       "      <td>0</td>\n",
       "      <td>0</td>\n",
       "      <td>...</td>\n",
       "      <td>0</td>\n",
       "      <td>0</td>\n",
       "      <td>0</td>\n",
       "      <td>0</td>\n",
       "      <td>0</td>\n",
       "      <td>1</td>\n",
       "      <td>0</td>\n",
       "      <td>0</td>\n",
       "      <td>0</td>\n",
       "      <td>13.0</td>\n",
       "    </tr>\n",
       "  </tbody>\n",
       "</table>\n",
       "<p>5 rows × 96 columns</p>\n",
       "</div>"
      ],
      "text/plain": [
       "       gps_height  population  basin_1  basin_2  basin_3  basin_4  basin_5  \\\n",
       "id                                                                           \n",
       "37098           0       150.0        0        0        0        0        0   \n",
       "14530           0       150.0        0        0        0        0        0   \n",
       "62607        1675       148.0        1        0        0        0        0   \n",
       "46053           0       150.0        0        1        0        0        0   \n",
       "47083        1109       235.0        1        0        0        0        0   \n",
       "\n",
       "       basin_6  basin_7  basin_8  ...  source_9  source_10  waterpoint_type_1  \\\n",
       "id                                ...                                           \n",
       "37098        1        0        0  ...         0          0                  0   \n",
       "14530        1        0        0  ...         0          0                  0   \n",
       "62607        0        0        0  ...         0          0                  1   \n",
       "46053        0        0        0  ...         0          0                  0   \n",
       "47083        0        0        0  ...         0          0                  0   \n",
       "\n",
       "       waterpoint_type_2  waterpoint_type_3  waterpoint_type_4  \\\n",
       "id                                                               \n",
       "37098                  0                  1                  0   \n",
       "14530                  1                  0                  0   \n",
       "62607                  0                  0                  0   \n",
       "46053                  1                  0                  0   \n",
       "47083                  0                  0                  1   \n",
       "\n",
       "       waterpoint_type_5  waterpoint_type_6  waterpoint_type_7  \\\n",
       "id                                                               \n",
       "37098                  0                  0                  0   \n",
       "14530                  0                  0                  0   \n",
       "62607                  0                  0                  0   \n",
       "46053                  0                  0                  0   \n",
       "47083                  0                  0                  0   \n",
       "\n",
       "       construction_age  \n",
       "id                       \n",
       "37098              28.0  \n",
       "14530              28.0  \n",
       "62607              16.0  \n",
       "46053              28.0  \n",
       "47083              13.0  \n",
       "\n",
       "[5 rows x 96 columns]"
      ]
     },
     "execution_count": 3842,
     "metadata": {},
     "output_type": "execute_result"
    }
   ],
   "source": [
    "X_test.head()"
   ]
  },
  {
   "cell_type": "markdown",
   "metadata": {},
   "source": [
    "We now have training and testing set ready for model building. Before that, we should map all the feature variables onto the same scale. It is called `feature scaling`. I will do it as follows."
   ]
  },
  {
   "cell_type": "code",
   "execution_count": 3843,
   "metadata": {},
   "outputs": [
    {
     "data": {
      "text/html": [
       "<style>#sk-container-id-7 {color: black;}#sk-container-id-7 pre{padding: 0;}#sk-container-id-7 div.sk-toggleable {background-color: white;}#sk-container-id-7 label.sk-toggleable__label {cursor: pointer;display: block;width: 100%;margin-bottom: 0;padding: 0.3em;box-sizing: border-box;text-align: center;}#sk-container-id-7 label.sk-toggleable__label-arrow:before {content: \"▸\";float: left;margin-right: 0.25em;color: #696969;}#sk-container-id-7 label.sk-toggleable__label-arrow:hover:before {color: black;}#sk-container-id-7 div.sk-estimator:hover label.sk-toggleable__label-arrow:before {color: black;}#sk-container-id-7 div.sk-toggleable__content {max-height: 0;max-width: 0;overflow: hidden;text-align: left;background-color: #f0f8ff;}#sk-container-id-7 div.sk-toggleable__content pre {margin: 0.2em;color: black;border-radius: 0.25em;background-color: #f0f8ff;}#sk-container-id-7 input.sk-toggleable__control:checked~div.sk-toggleable__content {max-height: 200px;max-width: 100%;overflow: auto;}#sk-container-id-7 input.sk-toggleable__control:checked~label.sk-toggleable__label-arrow:before {content: \"▾\";}#sk-container-id-7 div.sk-estimator input.sk-toggleable__control:checked~label.sk-toggleable__label {background-color: #d4ebff;}#sk-container-id-7 div.sk-label input.sk-toggleable__control:checked~label.sk-toggleable__label {background-color: #d4ebff;}#sk-container-id-7 input.sk-hidden--visually {border: 0;clip: rect(1px 1px 1px 1px);clip: rect(1px, 1px, 1px, 1px);height: 1px;margin: -1px;overflow: hidden;padding: 0;position: absolute;width: 1px;}#sk-container-id-7 div.sk-estimator {font-family: monospace;background-color: #f0f8ff;border: 1px dotted black;border-radius: 0.25em;box-sizing: border-box;margin-bottom: 0.5em;}#sk-container-id-7 div.sk-estimator:hover {background-color: #d4ebff;}#sk-container-id-7 div.sk-parallel-item::after {content: \"\";width: 100%;border-bottom: 1px solid gray;flex-grow: 1;}#sk-container-id-7 div.sk-label:hover label.sk-toggleable__label {background-color: #d4ebff;}#sk-container-id-7 div.sk-serial::before {content: \"\";position: absolute;border-left: 1px solid gray;box-sizing: border-box;top: 0;bottom: 0;left: 50%;z-index: 0;}#sk-container-id-7 div.sk-serial {display: flex;flex-direction: column;align-items: center;background-color: white;padding-right: 0.2em;padding-left: 0.2em;position: relative;}#sk-container-id-7 div.sk-item {position: relative;z-index: 1;}#sk-container-id-7 div.sk-parallel {display: flex;align-items: stretch;justify-content: center;background-color: white;position: relative;}#sk-container-id-7 div.sk-item::before, #sk-container-id-7 div.sk-parallel-item::before {content: \"\";position: absolute;border-left: 1px solid gray;box-sizing: border-box;top: 0;bottom: 0;left: 50%;z-index: -1;}#sk-container-id-7 div.sk-parallel-item {display: flex;flex-direction: column;z-index: 1;position: relative;background-color: white;}#sk-container-id-7 div.sk-parallel-item:first-child::after {align-self: flex-end;width: 50%;}#sk-container-id-7 div.sk-parallel-item:last-child::after {align-self: flex-start;width: 50%;}#sk-container-id-7 div.sk-parallel-item:only-child::after {width: 0;}#sk-container-id-7 div.sk-dashed-wrapped {border: 1px dashed gray;margin: 0 0.4em 0.5em 0.4em;box-sizing: border-box;padding-bottom: 0.4em;background-color: white;}#sk-container-id-7 div.sk-label label {font-family: monospace;font-weight: bold;display: inline-block;line-height: 1.2em;}#sk-container-id-7 div.sk-label-container {text-align: center;}#sk-container-id-7 div.sk-container {/* jupyter's `normalize.less` sets `[hidden] { display: none; }` but bootstrap.min.css set `[hidden] { display: none !important; }` so we also need the `!important` here to be able to override the default hidden behavior on the sphinx rendered scikit-learn.org. See: https://github.com/scikit-learn/scikit-learn/issues/21755 */display: inline-block !important;position: relative;}#sk-container-id-7 div.sk-text-repr-fallback {display: none;}</style><div id=\"sk-container-id-7\" class=\"sk-top-container\"><div class=\"sk-text-repr-fallback\"><pre>MinMaxScaler()</pre><b>In a Jupyter environment, please rerun this cell to show the HTML representation or trust the notebook. <br />On GitHub, the HTML representation is unable to render, please try loading this page with nbviewer.org.</b></div><div class=\"sk-container\" hidden><div class=\"sk-item\"><div class=\"sk-estimator sk-toggleable\"><input class=\"sk-toggleable__control sk-hidden--visually\" id=\"sk-estimator-id-7\" type=\"checkbox\" checked><label for=\"sk-estimator-id-7\" class=\"sk-toggleable__label sk-toggleable__label-arrow\">MinMaxScaler</label><div class=\"sk-toggleable__content\"><pre>MinMaxScaler()</pre></div></div></div></div></div>"
      ],
      "text/plain": [
       "MinMaxScaler()"
      ]
     },
     "execution_count": 3843,
     "metadata": {},
     "output_type": "execute_result"
    }
   ],
   "source": [
    "from sklearn.preprocessing import MinMaxScaler\n",
    "\n",
    "scaler = MinMaxScaler()\n",
    "\n",
    "scaler.fit(X_train)"
   ]
  },
  {
   "cell_type": "code",
   "execution_count": 3844,
   "metadata": {},
   "outputs": [],
   "source": [
    "X_train = pd.DataFrame(\n",
    "    scaler.transform(X_train),\n",
    "    columns=X_train.columns\n",
    "    )"
   ]
  },
  {
   "cell_type": "code",
   "execution_count": 3845,
   "metadata": {},
   "outputs": [],
   "source": [
    "X_test = pd.DataFrame(\n",
    "    scaler.transform(X_test),\n",
    "    columns=X_test.columns\n",
    "    )"
   ]
  },
  {
   "cell_type": "code",
   "execution_count": 3846,
   "metadata": {},
   "outputs": [
    {
     "data": {
      "text/html": [
       "<div>\n",
       "<style scoped>\n",
       "    .dataframe tbody tr th:only-of-type {\n",
       "        vertical-align: middle;\n",
       "    }\n",
       "\n",
       "    .dataframe tbody tr th {\n",
       "        vertical-align: top;\n",
       "    }\n",
       "\n",
       "    .dataframe thead th {\n",
       "        text-align: right;\n",
       "    }\n",
       "</style>\n",
       "<table border=\"1\" class=\"dataframe\">\n",
       "  <thead>\n",
       "    <tr style=\"text-align: right;\">\n",
       "      <th></th>\n",
       "      <th>gps_height</th>\n",
       "      <th>population</th>\n",
       "      <th>basin_1</th>\n",
       "      <th>basin_2</th>\n",
       "      <th>basin_3</th>\n",
       "      <th>basin_4</th>\n",
       "      <th>basin_5</th>\n",
       "      <th>basin_6</th>\n",
       "      <th>basin_7</th>\n",
       "      <th>basin_8</th>\n",
       "      <th>...</th>\n",
       "      <th>source_9</th>\n",
       "      <th>source_10</th>\n",
       "      <th>waterpoint_type_1</th>\n",
       "      <th>waterpoint_type_2</th>\n",
       "      <th>waterpoint_type_3</th>\n",
       "      <th>waterpoint_type_4</th>\n",
       "      <th>waterpoint_type_5</th>\n",
       "      <th>waterpoint_type_6</th>\n",
       "      <th>waterpoint_type_7</th>\n",
       "      <th>construction_age</th>\n",
       "    </tr>\n",
       "  </thead>\n",
       "  <tbody>\n",
       "    <tr>\n",
       "      <th>0</th>\n",
       "      <td>0.760678</td>\n",
       "      <td>0.284436</td>\n",
       "      <td>1.0</td>\n",
       "      <td>0.0</td>\n",
       "      <td>0.0</td>\n",
       "      <td>0.0</td>\n",
       "      <td>0.0</td>\n",
       "      <td>0.0</td>\n",
       "      <td>0.0</td>\n",
       "      <td>0.0</td>\n",
       "      <td>...</td>\n",
       "      <td>0.0</td>\n",
       "      <td>0.0</td>\n",
       "      <td>1.0</td>\n",
       "      <td>0.0</td>\n",
       "      <td>0.0</td>\n",
       "      <td>0.0</td>\n",
       "      <td>0.0</td>\n",
       "      <td>0.0</td>\n",
       "      <td>0.0</td>\n",
       "      <td>0.365854</td>\n",
       "    </tr>\n",
       "    <tr>\n",
       "      <th>1</th>\n",
       "      <td>0.022238</td>\n",
       "      <td>0.266547</td>\n",
       "      <td>1.0</td>\n",
       "      <td>0.0</td>\n",
       "      <td>0.0</td>\n",
       "      <td>0.0</td>\n",
       "      <td>0.0</td>\n",
       "      <td>0.0</td>\n",
       "      <td>0.0</td>\n",
       "      <td>0.0</td>\n",
       "      <td>...</td>\n",
       "      <td>0.0</td>\n",
       "      <td>0.0</td>\n",
       "      <td>0.0</td>\n",
       "      <td>1.0</td>\n",
       "      <td>0.0</td>\n",
       "      <td>0.0</td>\n",
       "      <td>0.0</td>\n",
       "      <td>0.0</td>\n",
       "      <td>0.0</td>\n",
       "      <td>0.414634</td>\n",
       "    </tr>\n",
       "    <tr>\n",
       "      <th>2</th>\n",
       "      <td>0.022238</td>\n",
       "      <td>0.266547</td>\n",
       "      <td>0.0</td>\n",
       "      <td>1.0</td>\n",
       "      <td>0.0</td>\n",
       "      <td>0.0</td>\n",
       "      <td>0.0</td>\n",
       "      <td>0.0</td>\n",
       "      <td>0.0</td>\n",
       "      <td>0.0</td>\n",
       "      <td>...</td>\n",
       "      <td>0.0</td>\n",
       "      <td>0.0</td>\n",
       "      <td>0.0</td>\n",
       "      <td>0.0</td>\n",
       "      <td>1.0</td>\n",
       "      <td>0.0</td>\n",
       "      <td>0.0</td>\n",
       "      <td>0.0</td>\n",
       "      <td>0.0</td>\n",
       "      <td>0.414634</td>\n",
       "    </tr>\n",
       "    <tr>\n",
       "      <th>3</th>\n",
       "      <td>0.022238</td>\n",
       "      <td>0.266547</td>\n",
       "      <td>0.0</td>\n",
       "      <td>0.0</td>\n",
       "      <td>1.0</td>\n",
       "      <td>0.0</td>\n",
       "      <td>0.0</td>\n",
       "      <td>0.0</td>\n",
       "      <td>0.0</td>\n",
       "      <td>0.0</td>\n",
       "      <td>...</td>\n",
       "      <td>0.0</td>\n",
       "      <td>0.0</td>\n",
       "      <td>1.0</td>\n",
       "      <td>0.0</td>\n",
       "      <td>0.0</td>\n",
       "      <td>0.0</td>\n",
       "      <td>0.0</td>\n",
       "      <td>0.0</td>\n",
       "      <td>0.0</td>\n",
       "      <td>0.414634</td>\n",
       "    </tr>\n",
       "    <tr>\n",
       "      <th>4</th>\n",
       "      <td>0.383339</td>\n",
       "      <td>0.212880</td>\n",
       "      <td>0.0</td>\n",
       "      <td>0.0</td>\n",
       "      <td>0.0</td>\n",
       "      <td>1.0</td>\n",
       "      <td>0.0</td>\n",
       "      <td>0.0</td>\n",
       "      <td>0.0</td>\n",
       "      <td>0.0</td>\n",
       "      <td>...</td>\n",
       "      <td>0.0</td>\n",
       "      <td>0.0</td>\n",
       "      <td>0.0</td>\n",
       "      <td>0.0</td>\n",
       "      <td>1.0</td>\n",
       "      <td>0.0</td>\n",
       "      <td>0.0</td>\n",
       "      <td>0.0</td>\n",
       "      <td>0.0</td>\n",
       "      <td>0.390244</td>\n",
       "    </tr>\n",
       "  </tbody>\n",
       "</table>\n",
       "<p>5 rows × 96 columns</p>\n",
       "</div>"
      ],
      "text/plain": [
       "   gps_height  population  basin_1  basin_2  basin_3  basin_4  basin_5  \\\n",
       "0    0.760678    0.284436      1.0      0.0      0.0      0.0      0.0   \n",
       "1    0.022238    0.266547      1.0      0.0      0.0      0.0      0.0   \n",
       "2    0.022238    0.266547      0.0      1.0      0.0      0.0      0.0   \n",
       "3    0.022238    0.266547      0.0      0.0      1.0      0.0      0.0   \n",
       "4    0.383339    0.212880      0.0      0.0      0.0      1.0      0.0   \n",
       "\n",
       "   basin_6  basin_7  basin_8  ...  source_9  source_10  waterpoint_type_1  \\\n",
       "0      0.0      0.0      0.0  ...       0.0        0.0                1.0   \n",
       "1      0.0      0.0      0.0  ...       0.0        0.0                0.0   \n",
       "2      0.0      0.0      0.0  ...       0.0        0.0                0.0   \n",
       "3      0.0      0.0      0.0  ...       0.0        0.0                1.0   \n",
       "4      0.0      0.0      0.0  ...       0.0        0.0                0.0   \n",
       "\n",
       "   waterpoint_type_2  waterpoint_type_3  waterpoint_type_4  waterpoint_type_5  \\\n",
       "0                0.0                0.0                0.0                0.0   \n",
       "1                1.0                0.0                0.0                0.0   \n",
       "2                0.0                1.0                0.0                0.0   \n",
       "3                0.0                0.0                0.0                0.0   \n",
       "4                0.0                1.0                0.0                0.0   \n",
       "\n",
       "   waterpoint_type_6  waterpoint_type_7  construction_age  \n",
       "0                0.0                0.0          0.365854  \n",
       "1                0.0                0.0          0.414634  \n",
       "2                0.0                0.0          0.414634  \n",
       "3                0.0                0.0          0.414634  \n",
       "4                0.0                0.0          0.390244  \n",
       "\n",
       "[5 rows x 96 columns]"
      ]
     },
     "execution_count": 3846,
     "metadata": {},
     "output_type": "execute_result"
    }
   ],
   "source": [
    "X_train.head()"
   ]
  },
  {
   "cell_type": "code",
   "execution_count": 3847,
   "metadata": {},
   "outputs": [
    {
     "data": {
      "text/plain": [
       "gps_height           0\n",
       "population           0\n",
       "basin_1              0\n",
       "basin_2              0\n",
       "basin_3              0\n",
       "                    ..\n",
       "waterpoint_type_4    0\n",
       "waterpoint_type_5    0\n",
       "waterpoint_type_6    0\n",
       "waterpoint_type_7    0\n",
       "construction_age     0\n",
       "Length: 96, dtype: int64"
      ]
     },
     "execution_count": 3847,
     "metadata": {},
     "output_type": "execute_result"
    }
   ],
   "source": [
    "X_train.isnull().sum()"
   ]
  },
  {
   "cell_type": "code",
   "execution_count": 3848,
   "metadata": {},
   "outputs": [
    {
     "data": {
      "text/plain": [
       "gps_height           0\n",
       "population           0\n",
       "basin_1              0\n",
       "basin_2              0\n",
       "basin_3              0\n",
       "                    ..\n",
       "waterpoint_type_4    0\n",
       "waterpoint_type_5    0\n",
       "waterpoint_type_6    0\n",
       "waterpoint_type_7    0\n",
       "construction_age     0\n",
       "Length: 96, dtype: int64"
      ]
     },
     "execution_count": 3848,
     "metadata": {},
     "output_type": "execute_result"
    }
   ],
   "source": [
    "X_test.isnull().sum()"
   ]
  },
  {
   "cell_type": "markdown",
   "metadata": {},
   "source": [
    "We now have `X_train` dataset ready to be fed into the Logistic Regression classifier. I will do it as follows."
   ]
  },
  {
   "cell_type": "markdown",
   "metadata": {},
   "source": [
    "# Model Training"
   ]
  },
  {
   "cell_type": "markdown",
   "metadata": {},
   "source": [
    "## Model 1- Logistic Regression"
   ]
  },
  {
   "cell_type": "code",
   "execution_count": 3849,
   "metadata": {},
   "outputs": [
    {
     "data": {
      "text/html": [
       "<style>#sk-container-id-8 {color: black;}#sk-container-id-8 pre{padding: 0;}#sk-container-id-8 div.sk-toggleable {background-color: white;}#sk-container-id-8 label.sk-toggleable__label {cursor: pointer;display: block;width: 100%;margin-bottom: 0;padding: 0.3em;box-sizing: border-box;text-align: center;}#sk-container-id-8 label.sk-toggleable__label-arrow:before {content: \"▸\";float: left;margin-right: 0.25em;color: #696969;}#sk-container-id-8 label.sk-toggleable__label-arrow:hover:before {color: black;}#sk-container-id-8 div.sk-estimator:hover label.sk-toggleable__label-arrow:before {color: black;}#sk-container-id-8 div.sk-toggleable__content {max-height: 0;max-width: 0;overflow: hidden;text-align: left;background-color: #f0f8ff;}#sk-container-id-8 div.sk-toggleable__content pre {margin: 0.2em;color: black;border-radius: 0.25em;background-color: #f0f8ff;}#sk-container-id-8 input.sk-toggleable__control:checked~div.sk-toggleable__content {max-height: 200px;max-width: 100%;overflow: auto;}#sk-container-id-8 input.sk-toggleable__control:checked~label.sk-toggleable__label-arrow:before {content: \"▾\";}#sk-container-id-8 div.sk-estimator input.sk-toggleable__control:checked~label.sk-toggleable__label {background-color: #d4ebff;}#sk-container-id-8 div.sk-label input.sk-toggleable__control:checked~label.sk-toggleable__label {background-color: #d4ebff;}#sk-container-id-8 input.sk-hidden--visually {border: 0;clip: rect(1px 1px 1px 1px);clip: rect(1px, 1px, 1px, 1px);height: 1px;margin: -1px;overflow: hidden;padding: 0;position: absolute;width: 1px;}#sk-container-id-8 div.sk-estimator {font-family: monospace;background-color: #f0f8ff;border: 1px dotted black;border-radius: 0.25em;box-sizing: border-box;margin-bottom: 0.5em;}#sk-container-id-8 div.sk-estimator:hover {background-color: #d4ebff;}#sk-container-id-8 div.sk-parallel-item::after {content: \"\";width: 100%;border-bottom: 1px solid gray;flex-grow: 1;}#sk-container-id-8 div.sk-label:hover label.sk-toggleable__label {background-color: #d4ebff;}#sk-container-id-8 div.sk-serial::before {content: \"\";position: absolute;border-left: 1px solid gray;box-sizing: border-box;top: 0;bottom: 0;left: 50%;z-index: 0;}#sk-container-id-8 div.sk-serial {display: flex;flex-direction: column;align-items: center;background-color: white;padding-right: 0.2em;padding-left: 0.2em;position: relative;}#sk-container-id-8 div.sk-item {position: relative;z-index: 1;}#sk-container-id-8 div.sk-parallel {display: flex;align-items: stretch;justify-content: center;background-color: white;position: relative;}#sk-container-id-8 div.sk-item::before, #sk-container-id-8 div.sk-parallel-item::before {content: \"\";position: absolute;border-left: 1px solid gray;box-sizing: border-box;top: 0;bottom: 0;left: 50%;z-index: -1;}#sk-container-id-8 div.sk-parallel-item {display: flex;flex-direction: column;z-index: 1;position: relative;background-color: white;}#sk-container-id-8 div.sk-parallel-item:first-child::after {align-self: flex-end;width: 50%;}#sk-container-id-8 div.sk-parallel-item:last-child::after {align-self: flex-start;width: 50%;}#sk-container-id-8 div.sk-parallel-item:only-child::after {width: 0;}#sk-container-id-8 div.sk-dashed-wrapped {border: 1px dashed gray;margin: 0 0.4em 0.5em 0.4em;box-sizing: border-box;padding-bottom: 0.4em;background-color: white;}#sk-container-id-8 div.sk-label label {font-family: monospace;font-weight: bold;display: inline-block;line-height: 1.2em;}#sk-container-id-8 div.sk-label-container {text-align: center;}#sk-container-id-8 div.sk-container {/* jupyter's `normalize.less` sets `[hidden] { display: none; }` but bootstrap.min.css set `[hidden] { display: none !important; }` so we also need the `!important` here to be able to override the default hidden behavior on the sphinx rendered scikit-learn.org. See: https://github.com/scikit-learn/scikit-learn/issues/21755 */display: inline-block !important;position: relative;}#sk-container-id-8 div.sk-text-repr-fallback {display: none;}</style><div id=\"sk-container-id-8\" class=\"sk-top-container\"><div class=\"sk-text-repr-fallback\"><pre>LogisticRegression(random_state=42, solver=&#x27;liblinear&#x27;)</pre><b>In a Jupyter environment, please rerun this cell to show the HTML representation or trust the notebook. <br />On GitHub, the HTML representation is unable to render, please try loading this page with nbviewer.org.</b></div><div class=\"sk-container\" hidden><div class=\"sk-item\"><div class=\"sk-estimator sk-toggleable\"><input class=\"sk-toggleable__control sk-hidden--visually\" id=\"sk-estimator-id-8\" type=\"checkbox\" checked><label for=\"sk-estimator-id-8\" class=\"sk-toggleable__label sk-toggleable__label-arrow\">LogisticRegression</label><div class=\"sk-toggleable__content\"><pre>LogisticRegression(random_state=42, solver=&#x27;liblinear&#x27;)</pre></div></div></div></div></div>"
      ],
      "text/plain": [
       "LogisticRegression(random_state=42, solver='liblinear')"
      ]
     },
     "execution_count": 3849,
     "metadata": {},
     "output_type": "execute_result"
    }
   ],
   "source": [
    "# instantiate the model\n",
    "logreg = LogisticRegression(solver='liblinear', multi_class='auto', random_state=42)\n",
    "\n",
    "\n",
    "# fit the model\n",
    "logreg.fit(X_train, y_train)"
   ]
  },
  {
   "cell_type": "code",
   "execution_count": 3858,
   "metadata": {},
   "outputs": [
    {
     "data": {
      "text/plain": [
       "array(['non functional', 'functional', 'functional', ...,\n",
       "       'non functional', 'functional', 'functional'], dtype=object)"
      ]
     },
     "execution_count": 3858,
     "metadata": {},
     "output_type": "execute_result"
    }
   ],
   "source": [
    "y_pred_test = logreg.predict(X_test)\n",
    "\n",
    "y_pred_test"
   ]
  },
  {
   "cell_type": "code",
   "execution_count": 3859,
   "metadata": {},
   "outputs": [
    {
     "name": "stdout",
     "output_type": "stream",
     "text": [
      "Model accuracy score: 0.7300\n"
     ]
    }
   ],
   "source": [
    "from sklearn.metrics import accuracy_score\n",
    "\n",
    "print('Model accuracy score: {0:0.4f}'. format(accuracy_score(y_test, y_pred_test)))"
   ]
  },
  {
   "cell_type": "markdown",
   "metadata": {},
   "source": [
    "Here, **y_test** are the true class labels and **y_pred_test** are the predicted class labels in the test-set."
   ]
  },
  {
   "cell_type": "markdown",
   "metadata": {},
   "source": [
    "### Compare the train-set and test-set accuracy\n",
    "\n",
    "\n",
    "Now, I will compare the train-set and test-set accuracy to check for overfitting."
   ]
  },
  {
   "cell_type": "code",
   "execution_count": 3860,
   "metadata": {},
   "outputs": [
    {
     "data": {
      "text/plain": [
       "array(['functional', 'functional', 'non functional', ...,\n",
       "       'non functional', 'functional', 'non functional'], dtype=object)"
      ]
     },
     "execution_count": 3860,
     "metadata": {},
     "output_type": "execute_result"
    }
   ],
   "source": [
    "y_pred_train = logreg.predict(X_train)\n",
    "\n",
    "y_pred_train"
   ]
  },
  {
   "cell_type": "code",
   "execution_count": 3861,
   "metadata": {},
   "outputs": [
    {
     "name": "stdout",
     "output_type": "stream",
     "text": [
      "Training-set accuracy score: 0.7315\n"
     ]
    }
   ],
   "source": [
    "print('Training-set accuracy score: {0:0.4f}'. format(accuracy_score(y_train, y_pred_train)))"
   ]
  },
  {
   "cell_type": "markdown",
   "metadata": {},
   "source": [
    "Check for overfitting or underfitting"
   ]
  },
  {
   "cell_type": "code",
   "execution_count": 3862,
   "metadata": {},
   "outputs": [
    {
     "name": "stdout",
     "output_type": "stream",
     "text": [
      "Training set score: 0.7315\n",
      "Test set score: 0.7300\n"
     ]
    }
   ],
   "source": [
    "# print the scores on training and test set\n",
    "\n",
    "print('Training set score: {:.4f}'.format(logreg.score(X_train, y_train)))\n",
    "\n",
    "print('Test set score: {:.4f}'.format(logreg.score(X_test, y_test)))"
   ]
  },
  {
   "cell_type": "markdown",
   "metadata": {},
   "source": [
    "The training-set accuracy score is 0.7315 while the test-set accuracy is 0.7300. These two values are quite comparable. So, there is no question of overfitting. \n"
   ]
  },
  {
   "cell_type": "markdown",
   "metadata": {},
   "source": [
    "In Logistic Regression, we use default value of C = 1. It provides good performance with approximately 73% accuracy on both the training and the test set. But the model performance on both the training and test set are very comparable. It is likely the case of underfitting. \n",
    "\n",
    "I will increase C and fit a more flexible model."
   ]
  },
  {
   "cell_type": "code",
   "execution_count": 3864,
   "metadata": {},
   "outputs": [
    {
     "data": {
      "text/html": [
       "<style>#sk-container-id-10 {color: black;}#sk-container-id-10 pre{padding: 0;}#sk-container-id-10 div.sk-toggleable {background-color: white;}#sk-container-id-10 label.sk-toggleable__label {cursor: pointer;display: block;width: 100%;margin-bottom: 0;padding: 0.3em;box-sizing: border-box;text-align: center;}#sk-container-id-10 label.sk-toggleable__label-arrow:before {content: \"▸\";float: left;margin-right: 0.25em;color: #696969;}#sk-container-id-10 label.sk-toggleable__label-arrow:hover:before {color: black;}#sk-container-id-10 div.sk-estimator:hover label.sk-toggleable__label-arrow:before {color: black;}#sk-container-id-10 div.sk-toggleable__content {max-height: 0;max-width: 0;overflow: hidden;text-align: left;background-color: #f0f8ff;}#sk-container-id-10 div.sk-toggleable__content pre {margin: 0.2em;color: black;border-radius: 0.25em;background-color: #f0f8ff;}#sk-container-id-10 input.sk-toggleable__control:checked~div.sk-toggleable__content {max-height: 200px;max-width: 100%;overflow: auto;}#sk-container-id-10 input.sk-toggleable__control:checked~label.sk-toggleable__label-arrow:before {content: \"▾\";}#sk-container-id-10 div.sk-estimator input.sk-toggleable__control:checked~label.sk-toggleable__label {background-color: #d4ebff;}#sk-container-id-10 div.sk-label input.sk-toggleable__control:checked~label.sk-toggleable__label {background-color: #d4ebff;}#sk-container-id-10 input.sk-hidden--visually {border: 0;clip: rect(1px 1px 1px 1px);clip: rect(1px, 1px, 1px, 1px);height: 1px;margin: -1px;overflow: hidden;padding: 0;position: absolute;width: 1px;}#sk-container-id-10 div.sk-estimator {font-family: monospace;background-color: #f0f8ff;border: 1px dotted black;border-radius: 0.25em;box-sizing: border-box;margin-bottom: 0.5em;}#sk-container-id-10 div.sk-estimator:hover {background-color: #d4ebff;}#sk-container-id-10 div.sk-parallel-item::after {content: \"\";width: 100%;border-bottom: 1px solid gray;flex-grow: 1;}#sk-container-id-10 div.sk-label:hover label.sk-toggleable__label {background-color: #d4ebff;}#sk-container-id-10 div.sk-serial::before {content: \"\";position: absolute;border-left: 1px solid gray;box-sizing: border-box;top: 0;bottom: 0;left: 50%;z-index: 0;}#sk-container-id-10 div.sk-serial {display: flex;flex-direction: column;align-items: center;background-color: white;padding-right: 0.2em;padding-left: 0.2em;position: relative;}#sk-container-id-10 div.sk-item {position: relative;z-index: 1;}#sk-container-id-10 div.sk-parallel {display: flex;align-items: stretch;justify-content: center;background-color: white;position: relative;}#sk-container-id-10 div.sk-item::before, #sk-container-id-10 div.sk-parallel-item::before {content: \"\";position: absolute;border-left: 1px solid gray;box-sizing: border-box;top: 0;bottom: 0;left: 50%;z-index: -1;}#sk-container-id-10 div.sk-parallel-item {display: flex;flex-direction: column;z-index: 1;position: relative;background-color: white;}#sk-container-id-10 div.sk-parallel-item:first-child::after {align-self: flex-end;width: 50%;}#sk-container-id-10 div.sk-parallel-item:last-child::after {align-self: flex-start;width: 50%;}#sk-container-id-10 div.sk-parallel-item:only-child::after {width: 0;}#sk-container-id-10 div.sk-dashed-wrapped {border: 1px dashed gray;margin: 0 0.4em 0.5em 0.4em;box-sizing: border-box;padding-bottom: 0.4em;background-color: white;}#sk-container-id-10 div.sk-label label {font-family: monospace;font-weight: bold;display: inline-block;line-height: 1.2em;}#sk-container-id-10 div.sk-label-container {text-align: center;}#sk-container-id-10 div.sk-container {/* jupyter's `normalize.less` sets `[hidden] { display: none; }` but bootstrap.min.css set `[hidden] { display: none !important; }` so we also need the `!important` here to be able to override the default hidden behavior on the sphinx rendered scikit-learn.org. See: https://github.com/scikit-learn/scikit-learn/issues/21755 */display: inline-block !important;position: relative;}#sk-container-id-10 div.sk-text-repr-fallback {display: none;}</style><div id=\"sk-container-id-10\" class=\"sk-top-container\"><div class=\"sk-text-repr-fallback\"><pre>LogisticRegression(C=100, random_state=42, solver=&#x27;liblinear&#x27;)</pre><b>In a Jupyter environment, please rerun this cell to show the HTML representation or trust the notebook. <br />On GitHub, the HTML representation is unable to render, please try loading this page with nbviewer.org.</b></div><div class=\"sk-container\" hidden><div class=\"sk-item\"><div class=\"sk-estimator sk-toggleable\"><input class=\"sk-toggleable__control sk-hidden--visually\" id=\"sk-estimator-id-10\" type=\"checkbox\" checked><label for=\"sk-estimator-id-10\" class=\"sk-toggleable__label sk-toggleable__label-arrow\">LogisticRegression</label><div class=\"sk-toggleable__content\"><pre>LogisticRegression(C=100, random_state=42, solver=&#x27;liblinear&#x27;)</pre></div></div></div></div></div>"
      ],
      "text/plain": [
       "LogisticRegression(C=100, random_state=42, solver='liblinear')"
      ]
     },
     "execution_count": 3864,
     "metadata": {},
     "output_type": "execute_result"
    }
   ],
   "source": [
    "# fit the Logsitic Regression model with C=100\n",
    "\n",
    "# instantiate the model\n",
    "logreg100 = LogisticRegression(C=100, solver='liblinear', random_state=42)\n",
    "\n",
    "\n",
    "# fit the model\n",
    "logreg100.fit(X_train, y_train)"
   ]
  },
  {
   "cell_type": "code",
   "execution_count": 3865,
   "metadata": {},
   "outputs": [
    {
     "name": "stdout",
     "output_type": "stream",
     "text": [
      "Training set score: 0.7316\n",
      "Test set score: 0.7296\n"
     ]
    }
   ],
   "source": [
    "# print the scores on training and test set\n",
    "\n",
    "print('Training set score: {:.4f}'.format(logreg100.score(X_train, y_train)))\n",
    "\n",
    "print('Test set score: {:.4f}'.format(logreg100.score(X_test, y_test)))"
   ]
  },
  {
   "cell_type": "markdown",
   "metadata": {},
   "source": [
    "We can see that, C=100 results in slightly test set accuracy and also a slightly reduced training set accuracy. So, we can conclude that a more complex model does not perform better."
   ]
  },
  {
   "cell_type": "markdown",
   "metadata": {},
   "source": [
    "Now, I will investigate, what happens if we use more regularized model than the default value of C=1, by setting C=0.01."
   ]
  },
  {
   "cell_type": "code",
   "execution_count": 3867,
   "metadata": {},
   "outputs": [
    {
     "data": {
      "text/html": [
       "<style>#sk-container-id-12 {color: black;}#sk-container-id-12 pre{padding: 0;}#sk-container-id-12 div.sk-toggleable {background-color: white;}#sk-container-id-12 label.sk-toggleable__label {cursor: pointer;display: block;width: 100%;margin-bottom: 0;padding: 0.3em;box-sizing: border-box;text-align: center;}#sk-container-id-12 label.sk-toggleable__label-arrow:before {content: \"▸\";float: left;margin-right: 0.25em;color: #696969;}#sk-container-id-12 label.sk-toggleable__label-arrow:hover:before {color: black;}#sk-container-id-12 div.sk-estimator:hover label.sk-toggleable__label-arrow:before {color: black;}#sk-container-id-12 div.sk-toggleable__content {max-height: 0;max-width: 0;overflow: hidden;text-align: left;background-color: #f0f8ff;}#sk-container-id-12 div.sk-toggleable__content pre {margin: 0.2em;color: black;border-radius: 0.25em;background-color: #f0f8ff;}#sk-container-id-12 input.sk-toggleable__control:checked~div.sk-toggleable__content {max-height: 200px;max-width: 100%;overflow: auto;}#sk-container-id-12 input.sk-toggleable__control:checked~label.sk-toggleable__label-arrow:before {content: \"▾\";}#sk-container-id-12 div.sk-estimator input.sk-toggleable__control:checked~label.sk-toggleable__label {background-color: #d4ebff;}#sk-container-id-12 div.sk-label input.sk-toggleable__control:checked~label.sk-toggleable__label {background-color: #d4ebff;}#sk-container-id-12 input.sk-hidden--visually {border: 0;clip: rect(1px 1px 1px 1px);clip: rect(1px, 1px, 1px, 1px);height: 1px;margin: -1px;overflow: hidden;padding: 0;position: absolute;width: 1px;}#sk-container-id-12 div.sk-estimator {font-family: monospace;background-color: #f0f8ff;border: 1px dotted black;border-radius: 0.25em;box-sizing: border-box;margin-bottom: 0.5em;}#sk-container-id-12 div.sk-estimator:hover {background-color: #d4ebff;}#sk-container-id-12 div.sk-parallel-item::after {content: \"\";width: 100%;border-bottom: 1px solid gray;flex-grow: 1;}#sk-container-id-12 div.sk-label:hover label.sk-toggleable__label {background-color: #d4ebff;}#sk-container-id-12 div.sk-serial::before {content: \"\";position: absolute;border-left: 1px solid gray;box-sizing: border-box;top: 0;bottom: 0;left: 50%;z-index: 0;}#sk-container-id-12 div.sk-serial {display: flex;flex-direction: column;align-items: center;background-color: white;padding-right: 0.2em;padding-left: 0.2em;position: relative;}#sk-container-id-12 div.sk-item {position: relative;z-index: 1;}#sk-container-id-12 div.sk-parallel {display: flex;align-items: stretch;justify-content: center;background-color: white;position: relative;}#sk-container-id-12 div.sk-item::before, #sk-container-id-12 div.sk-parallel-item::before {content: \"\";position: absolute;border-left: 1px solid gray;box-sizing: border-box;top: 0;bottom: 0;left: 50%;z-index: -1;}#sk-container-id-12 div.sk-parallel-item {display: flex;flex-direction: column;z-index: 1;position: relative;background-color: white;}#sk-container-id-12 div.sk-parallel-item:first-child::after {align-self: flex-end;width: 50%;}#sk-container-id-12 div.sk-parallel-item:last-child::after {align-self: flex-start;width: 50%;}#sk-container-id-12 div.sk-parallel-item:only-child::after {width: 0;}#sk-container-id-12 div.sk-dashed-wrapped {border: 1px dashed gray;margin: 0 0.4em 0.5em 0.4em;box-sizing: border-box;padding-bottom: 0.4em;background-color: white;}#sk-container-id-12 div.sk-label label {font-family: monospace;font-weight: bold;display: inline-block;line-height: 1.2em;}#sk-container-id-12 div.sk-label-container {text-align: center;}#sk-container-id-12 div.sk-container {/* jupyter's `normalize.less` sets `[hidden] { display: none; }` but bootstrap.min.css set `[hidden] { display: none !important; }` so we also need the `!important` here to be able to override the default hidden behavior on the sphinx rendered scikit-learn.org. See: https://github.com/scikit-learn/scikit-learn/issues/21755 */display: inline-block !important;position: relative;}#sk-container-id-12 div.sk-text-repr-fallback {display: none;}</style><div id=\"sk-container-id-12\" class=\"sk-top-container\"><div class=\"sk-text-repr-fallback\"><pre>LogisticRegression(C=0.01, random_state=42, solver=&#x27;liblinear&#x27;)</pre><b>In a Jupyter environment, please rerun this cell to show the HTML representation or trust the notebook. <br />On GitHub, the HTML representation is unable to render, please try loading this page with nbviewer.org.</b></div><div class=\"sk-container\" hidden><div class=\"sk-item\"><div class=\"sk-estimator sk-toggleable\"><input class=\"sk-toggleable__control sk-hidden--visually\" id=\"sk-estimator-id-12\" type=\"checkbox\" checked><label for=\"sk-estimator-id-12\" class=\"sk-toggleable__label sk-toggleable__label-arrow\">LogisticRegression</label><div class=\"sk-toggleable__content\"><pre>LogisticRegression(C=0.01, random_state=42, solver=&#x27;liblinear&#x27;)</pre></div></div></div></div></div>"
      ],
      "text/plain": [
       "LogisticRegression(C=0.01, random_state=42, solver='liblinear')"
      ]
     },
     "execution_count": 3867,
     "metadata": {},
     "output_type": "execute_result"
    }
   ],
   "source": [
    "# fit the Logsitic Regression model with C=001\n",
    "\n",
    "# instantiate the model\n",
    "logreg001 = LogisticRegression(C=0.01, solver='liblinear', random_state=42)\n",
    "\n",
    "\n",
    "# fit the model\n",
    "logreg001.fit(X_train, y_train)"
   ]
  },
  {
   "cell_type": "code",
   "execution_count": 3868,
   "metadata": {},
   "outputs": [
    {
     "name": "stdout",
     "output_type": "stream",
     "text": [
      "Training set score: 0.7291\n",
      "Test set score: 0.7295\n"
     ]
    }
   ],
   "source": [
    "# print the scores on training and test set\n",
    "\n",
    "print('Training set score: {:.4f}'.format(logreg001.score(X_train, y_train)))\n",
    "\n",
    "print('Test set score: {:.4f}'.format(logreg001.score(X_test, y_test)))"
   ]
  },
  {
   "cell_type": "markdown",
   "metadata": {},
   "source": [
    "The training and test set accuracy scores are also lower than the original, so we will continue from the one that used default c= 1"
   ]
  },
  {
   "cell_type": "markdown",
   "metadata": {},
   "source": [
    "This will be our baseline model. Now let's try to change up some things and see what that does to our model"
   ]
  },
  {
   "cell_type": "code",
   "execution_count": 3881,
   "metadata": {},
   "outputs": [],
   "source": [
    "\n",
    "from sklearn.metrics import confusion_matrix\n",
    "\n",
    "\n",
    "cm_logreg1 = confusion_matrix(y_test, y_pred_test)\n",
    "\n"
   ]
  },
  {
   "cell_type": "markdown",
   "metadata": {},
   "source": [
    "## Model 1- Logistic Regression Iteration Two"
   ]
  },
  {
   "cell_type": "markdown",
   "metadata": {},
   "source": [
    "Let's check the imbalance in our taget variable"
   ]
  },
  {
   "cell_type": "code",
   "execution_count": 3869,
   "metadata": {},
   "outputs": [
    {
     "ename": "AttributeError",
     "evalue": "'DataFrame' object has no attribute 'status_group'",
     "output_type": "error",
     "traceback": [
      "\u001b[1;31m---------------------------------------------------------------------------\u001b[0m",
      "\u001b[1;31mAttributeError\u001b[0m                            Traceback (most recent call last)",
      "Cell \u001b[1;32mIn [3869], line 1\u001b[0m\n\u001b[1;32m----> 1\u001b[0m \u001b[43mX_train\u001b[49m\u001b[38;5;241;43m.\u001b[39;49m\u001b[43mstatus_group\u001b[49m\u001b[38;5;241m.\u001b[39mvalue_counts()\n",
      "File \u001b[1;32mc:\\Users\\rosew\\anaconda3\\envs\\learn-env\\lib\\site-packages\\pandas\\core\\generic.py:5139\u001b[0m, in \u001b[0;36mNDFrame.__getattr__\u001b[1;34m(self, name)\u001b[0m\n\u001b[0;32m   5137\u001b[0m \u001b[38;5;28;01mif\u001b[39;00m \u001b[38;5;28mself\u001b[39m\u001b[38;5;241m.\u001b[39m_info_axis\u001b[38;5;241m.\u001b[39m_can_hold_identifiers_and_holds_name(name):\n\u001b[0;32m   5138\u001b[0m     \u001b[38;5;28;01mreturn\u001b[39;00m \u001b[38;5;28mself\u001b[39m[name]\n\u001b[1;32m-> 5139\u001b[0m \u001b[38;5;28;01mreturn\u001b[39;00m \u001b[38;5;28;43mobject\u001b[39;49m\u001b[38;5;241;43m.\u001b[39;49m\u001b[38;5;21;43m__getattribute__\u001b[39;49m\u001b[43m(\u001b[49m\u001b[38;5;28;43mself\u001b[39;49m\u001b[43m,\u001b[49m\u001b[43m \u001b[49m\u001b[43mname\u001b[49m\u001b[43m)\u001b[49m\n",
      "\u001b[1;31mAttributeError\u001b[0m: 'DataFrame' object has no attribute 'status_group'"
     ]
    }
   ],
   "source": [
    "X_train.status_group.value_counts()"
   ]
  },
  {
   "cell_type": "markdown",
   "metadata": {},
   "source": [
    "## Exploring the Target Column"
   ]
  },
  {
   "cell_type": "markdown",
   "metadata": {},
   "source": []
  },
  {
   "cell_type": "code",
   "execution_count": 3851,
   "metadata": {},
   "outputs": [],
   "source": [
    "# training_data['status_group'].value_counts()"
   ]
  },
  {
   "cell_type": "markdown",
   "metadata": {},
   "source": [
    "We have highly imbalanced target values."
   ]
  },
  {
   "cell_type": "code",
   "execution_count": 3852,
   "metadata": {},
   "outputs": [],
   "source": [
    "# There are no missing values in the target data\n",
    "# training_data['status_group'].isnull().sum()"
   ]
  },
  {
   "cell_type": "code",
   "execution_count": 3853,
   "metadata": {},
   "outputs": [],
   "source": [
    "# # Let's look at the distribution of the target\n",
    "# import matplotlib.pyplot as plt\n",
    "# %matplotlib inline\n",
    "# import seaborn as sns\n",
    "# sns.set_style(\"whitegrid\")\n",
    "\n",
    "# target_histplot = sns.countplot(x= training_data['status_group'], palette=\"icefire\")\n",
    "\n",
    "\n",
    "# target_histplot.set_title(\"Distribution of Status Groups\")\n",
    "# target_histplot.set_ylabel('Number in Group')\n",
    "# target_histplot.set_xlabel('Status Groups')\n",
    "# target_histplot;"
   ]
  },
  {
   "cell_type": "markdown",
   "metadata": {},
   "source": [
    "##### Converting Target to Ternary Values"
   ]
  },
  {
   "cell_type": "code",
   "execution_count": 3854,
   "metadata": {},
   "outputs": [],
   "source": [
    "# target_status_group = {'functional':0, \n",
    "#                    'non functional': 2, \n",
    "#                    'functional needs repair': 1} \n",
    "# training_data['status_group'] = training_data['status_group'].replace(target_status_group)"
   ]
  },
  {
   "cell_type": "markdown",
   "metadata": {},
   "source": [
    "To make our model, we changed the target variable to 0,1 and 2 values."
   ]
  },
  {
   "cell_type": "code",
   "execution_count": 3855,
   "metadata": {},
   "outputs": [],
   "source": [
    "# training_data['status_group'].value_counts()"
   ]
  },
  {
   "cell_type": "code",
   "execution_count": 3856,
   "metadata": {},
   "outputs": [],
   "source": [
    "# training_data.to_csv('clean_data.csv')"
   ]
  }
 ],
 "metadata": {
  "kernelspec": {
   "display_name": "learn-env",
   "language": "python",
   "name": "python3"
  },
  "language_info": {
   "codemirror_mode": {
    "name": "ipython",
    "version": 3
   },
   "file_extension": ".py",
   "mimetype": "text/x-python",
   "name": "python",
   "nbconvert_exporter": "python",
   "pygments_lexer": "ipython3",
   "version": "3.8.12"
  }
 },
 "nbformat": 4,
 "nbformat_minor": 2
}
